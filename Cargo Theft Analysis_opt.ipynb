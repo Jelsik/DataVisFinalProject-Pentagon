{
 "cells": [
  {
   "cell_type": "markdown",
   "metadata": {},
   "source": [
    "# Cargo Theft Dataset Pre-Processing"
   ]
  },
  {
   "cell_type": "code",
   "execution_count": null,
   "metadata": {},
   "outputs": [],
   "source": [
    "# Import the necessary dependencies\n",
    "import pandas as pd\n",
    "import numpy as np"
   ]
  },
  {
   "cell_type": "markdown",
   "metadata": {},
   "source": [
    "### Preprocessing the Data "
   ]
  },
  {
   "cell_type": "code",
   "execution_count": null,
   "metadata": {},
   "outputs": [],
   "source": [
    "# Read the CSV file into a DataFrame.\n",
    "theft_df = pd.read_csv(\"Resources/CT_2013_2021.csv\")\n",
    "theft_df.head()"
   ]
  },
  {
   "cell_type": "code",
   "execution_count": null,
   "metadata": {},
   "outputs": [],
   "source": [
    "# Data information\n",
    "theft_df.info()"
   ]
  },
  {
   "cell_type": "code",
   "execution_count": null,
   "metadata": {},
   "outputs": [],
   "source": [
    "# How many different values are each column\n",
    "theft_df.nunique()"
   ]
  },
  {
   "cell_type": "code",
   "execution_count": null,
   "metadata": {},
   "outputs": [],
   "source": [
    "# Null Values \n",
    "theft_df.isna().sum()"
   ]
  },
  {
   "cell_type": "code",
   "execution_count": null,
   "metadata": {},
   "outputs": [],
   "source": [
    "# Duplicated Values\n",
    "theft_df.duplicated().sum()"
   ]
  },
  {
   "cell_type": "code",
   "execution_count": null,
   "metadata": {},
   "outputs": [],
   "source": [
    "dropped = [\"ori\", \"data_year.1\", \"prop_desc_code.1\", \"state_abbr\"]"
   ]
  },
  {
   "cell_type": "code",
   "execution_count": null,
   "metadata": {},
   "outputs": [],
   "source": [
    "# Transformation and remove duplicate entries\n",
    "theft_original_df = theft_df.drop(columns = [\"ori\", \"data_year.1\", \"prop_desc_code.1\", \"state_abbr\"], axis = 1).drop_duplicates()\n",
    "print(theft_original_df.shape)\n",
    "theft_original_df.head() "
   ]
  },
  {
   "cell_type": "code",
   "execution_count": null,
   "metadata": {},
   "outputs": [],
   "source": [
    "# Write this DataFrame out to a CSV file\n",
    "theft_original_df.to_csv(\"Resources/cargo_theft_original.csv\", index=False)"
   ]
  },
  {
   "cell_type": "markdown",
   "metadata": {},
   "source": [
    "### Null Values in Dataset "
   ]
  },
  {
   "cell_type": "code",
   "execution_count": null,
   "metadata": {},
   "outputs": [],
   "source": [
    "#'public_agency_unit' column\n",
    "theft_original_df.pub_agency_unit.value_counts()"
   ]
  },
  {
   "cell_type": "code",
   "execution_count": null,
   "metadata": {},
   "outputs": [],
   "source": [
    "#'population_group_code' column\n",
    "theft_original_df.population_group_code.value_counts()"
   ]
  },
  {
   "cell_type": "code",
   "execution_count": null,
   "metadata": {},
   "outputs": [],
   "source": [
    "#'population_group_desc' column\n",
    "theft_original_df.population_group_desc.value_counts()"
   ]
  },
  {
   "cell_type": "code",
   "execution_count": null,
   "metadata": {},
   "outputs": [],
   "source": [
    "#'offender_race' column\n",
    "theft_original_df.offender_race.value_counts()"
   ]
  },
  {
   "cell_type": "code",
   "execution_count": null,
   "metadata": {},
   "outputs": [],
   "source": [
    "#'offender_ethnicity' column\n",
    "theft_original_df.offender_ethnicity.value_counts()"
   ]
  },
  {
   "cell_type": "code",
   "execution_count": null,
   "metadata": {},
   "outputs": [],
   "source": [
    "#'offender_age' column\n",
    "theft_original_df.offender_age.value_counts().sort_index()"
   ]
  },
  {
   "cell_type": "code",
   "execution_count": null,
   "metadata": {},
   "outputs": [],
   "source": [
    "#'offender_sex' column\n",
    "theft_original_df.offender_sex.value_counts()"
   ]
  },
  {
   "cell_type": "code",
   "execution_count": null,
   "metadata": {},
   "outputs": [],
   "source": [
    "#'weapon_code' column\n",
    "theft_original_df.weapon_code.value_counts()"
   ]
  },
  {
   "cell_type": "code",
   "execution_count": null,
   "metadata": {},
   "outputs": [],
   "source": [
    "#'weapon_name' column\n",
    "theft_original_df.weapon_name.value_counts()"
   ]
  },
  {
   "cell_type": "code",
   "execution_count": null,
   "metadata": {},
   "outputs": [],
   "source": [
    "#'stolen_value' column\n",
    "theft_original_df.stolen_value.value_counts().sort_index()"
   ]
  },
  {
   "cell_type": "code",
   "execution_count": null,
   "metadata": {},
   "outputs": [],
   "source": [
    "#'date_recoverd' column\n",
    "theft_original_df.date_recovered.value_counts()"
   ]
  },
  {
   "cell_type": "code",
   "execution_count": null,
   "metadata": {},
   "outputs": [],
   "source": [
    "# DataFrame in general\n",
    "theft_original_df.agency_type_name.value_counts()"
   ]
  },
  {
   "cell_type": "code",
   "execution_count": null,
   "metadata": {},
   "outputs": [],
   "source": [
    "# Offenses types\n",
    "theft_original_df.offense_name.value_counts()"
   ]
  },
  {
   "cell_type": "code",
   "execution_count": null,
   "metadata": {},
   "outputs": [],
   "source": [
    "# Offenses codes\n",
    "theft_original_df.offense_code.value_counts()"
   ]
  },
  {
   "cell_type": "code",
   "execution_count": null,
   "metadata": {},
   "outputs": [],
   "source": [
    "# Replace empty values\n",
    "# Fixing categorical values\n",
    "theft_original_df['offender_race'].fillna('Unknown', inplace = True)\n",
    "theft_original_df['offender_ethnicity'].fillna('Unknown', inplace = True)\n",
    "theft_original_df['offender_age'].fillna(0.0, inplace = True)\n",
    "theft_original_df['offender_sex'].fillna('U', inplace = True)\n",
    "theft_original_df['stolen_value'].fillna(0, inplace = True)\n",
    "theft_original_df.weapon_code = theft_original_df.weapon_code.fillna(\"95\")\n",
    "theft_original_df.weapon_name = theft_original_df.weapon_name.fillna(\"Unknown\")\n",
    "theft_original_df.population_group_desc = theft_original_df.population_group_desc.fillna(\"National\")\n",
    "theft_original_df.population_group_code = theft_original_df.population_group_code.fillna(\"0\")"
   ]
  },
  {
   "cell_type": "code",
   "execution_count": null,
   "metadata": {},
   "outputs": [],
   "source": [
    "# Not necessary columns\n",
    "not_added = [\"Destruction/Damage/Vandalism of Property\", \"Drug/Narcotic Violations\", \"Impersonation\", \"Weapon Law Violations\", \"Drug Equipment Violations\",\n",
    "            \"Simple Assault\", \"Aggravated Assault\", \"Kidnapping/Abduction\", \"Intimidation\",\"Extortion/Blackmail\", \"Rape\", \"Murder and Nonnegligent Manslaughter\",\n",
    "            \"Arson\", \"Hacking/Computer Invasion\", \"Fondling\", \"Pornography/Obscene Material\",\"Human Trafficking, Involuntary Servitude\", \"Sodomy\",\n",
    "            \"Animal Cruelty\", \"Bribery\", \"Sexual Assault With An Object\"]\n",
    "\n",
    "cleaned_data = theft_original_df.loc[~theft_original_df.offense_name.isin(not_added)]\n",
    "print(cleaned_data.shape)\n",
    "cleaned_data.head() "
   ]
  },
  {
   "cell_type": "code",
   "execution_count": null,
   "metadata": {},
   "outputs": [],
   "source": [
    "# Check the results.\n",
    "cleaned_data.offense_code.value_counts()"
   ]
  },
  {
   "cell_type": "code",
   "execution_count": null,
   "metadata": {},
   "outputs": [],
   "source": [
    "cleaned_data.describe()['stolen_value']"
   ]
  },
  {
   "cell_type": "code",
   "execution_count": null,
   "metadata": {},
   "outputs": [],
   "source": [
    "# Write this DataFrame out to a CSV file\n",
    "cleaned_data.to_csv(\"Resources/cargo_theft_cleaned.csv\", index = False)"
   ]
  },
  {
   "cell_type": "code",
   "execution_count": null,
   "metadata": {},
   "outputs": [],
   "source": [
    "# Determine which columns will be used as features and which column will be the target.\n",
    "# For this case, it is easier to drop unneeded columns.\n",
    "not_added = [\"data_year\", \"pub_agency_unit\", \"population_group_desc\", \"offense_name\", \"victim_type_name\", \"location_name\", \"weapon_name\", \"prop_desc_name\", \"recovered_value\", \"date_recovered\"]\n",
    "binary_data = cleaned_data.drop(columns = not_added, axis = 1)\n",
    "print(binary_data.shape)\n",
    "binary_data.head() "
   ]
  },
  {
   "cell_type": "code",
   "execution_count": null,
   "metadata": {},
   "outputs": [],
   "source": [
    "# Write this DataFrame out to a CSV file\n",
    "binary_data.to_csv(\"Resources/binary_classifier.csv\", index = False)"
   ]
  },
  {
   "cell_type": "markdown",
   "metadata": {},
   "source": [
    "## Logistic Regression"
   ]
  },
  {
   "cell_type": "code",
   "execution_count": null,
   "metadata": {},
   "outputs": [],
   "source": [
    "import pandas as pd\n",
    "import numpy as np\n",
    "from statsmodels.stats.outliers_influence import variance_inflation_factor\n",
    "import statsmodels.api as sm\n",
    "from sklearn.metrics import classification_report, confusion_matrix\n",
    "from sklearn.model_selection import train_test_split\n",
    "from sklearn.preprocessing import StandardScaler\n",
    "from sklearn.linear_model import LogisticRegression\n",
    "import statsmodels.formula.api as smf\n",
    "import patsy\n",
    "import itertools"
   ]
  },
  {
   "cell_type": "code",
   "execution_count": null,
   "metadata": {},
   "outputs": [],
   "source": [
    "# Transform text/object into numerical data for features to be used. \n",
    "from sklearn.preprocessing import LabelEncoder\n",
    "le = LabelEncoder()\n",
    "\n",
    "binary_data['population_group_code'] = le.fit_transform(cleaned_data['population_group_code'])\n",
    "binary_data['offense_code'] = le.fit_transform(cleaned_data['offense_code'])\n",
    "binary_data['offender_race'] = le.fit_transform(cleaned_data['offender_race'])\n",
    "binary_data['offender_ethnicity'] = le.fit_transform(cleaned_data['offender_ethnicity'])\n",
    "binary_data['offender_sex'] = le.fit_transform(cleaned_data['offender_sex'])\n",
    "binary_data['victim_type_code'] = le.fit_transform(cleaned_data['victim_type_code'])\n",
    "binary_data['recovered_flag'] = le.fit_transform(cleaned_data['recovered_flag'])"
   ]
  },
  {
   "cell_type": "code",
   "execution_count": null,
   "metadata": {},
   "outputs": [],
   "source": [
    "X = binary_data[['population_group_code','offense_code','offender_race',\n",
    "    'offender_ethnicity','offender_age','offender_sex','victim_type_code','location_code',\n",
    "    'prop_desc_code','stolen_value']]\n",
    "\n",
    "y = binary_data['recovered_flag']"
   ]
  },
  {
   "cell_type": "code",
   "execution_count": null,
   "metadata": {},
   "outputs": [],
   "source": [
    "vif_data = pd.DataFrame()\n",
    "vif_data[\"feature\"] = X.columns\n",
    "vif_data[\"VIF\"] = [variance_inflation_factor(X.values, i) for i in range(len(X.columns))]\n",
    "vif_data"
   ]
  },
  {
   "cell_type": "code",
   "execution_count": null,
   "metadata": {},
   "outputs": [],
   "source": [
    "# split the dataset into training and testing sets:\n",
    "from sklearn.model_selection import train_test_split\n",
    "X_train, X_test, y_train, y_test = train_test_split(X, y, random_state=42, stratify=y)\n",
    "X_train.shape"
   ]
  },
  {
   "cell_type": "code",
   "execution_count": null,
   "metadata": {},
   "outputs": [],
   "source": [
    "# Fitting model - Logit Regression\n",
    "import statsmodels.api as sm\n",
    "X_train['intercept'] = 1.0\n",
    "logit = sm.Logit(y_train, X_train)\n",
    "result = logit.fit()\n",
    "result.summary()"
   ]
  },
  {
   "cell_type": "code",
   "execution_count": null,
   "metadata": {},
   "outputs": [],
   "source": [
    "# Binomial Logistic Regression\n",
    "log_reg = sm.GLM(y_train, X_train, family=sm.families.Binomial()).fit()\n",
    "log_reg.summary()"
   ]
  },
  {
   "cell_type": "code",
   "execution_count": null,
   "metadata": {},
   "outputs": [],
   "source": [
    "X=sm.add_constant(X)\n",
    "#Splitting the dataset\n",
    "X_train, X_test, y_train, y_test = train_test_split(X, y, test_size=0.2, random_state=0)\n",
    "model=sm.Logit(y_train,X_train,random_state=0)\n",
    "result=model.fit()\n",
    "print(result.summary())"
   ]
  },
  {
   "cell_type": "code",
   "execution_count": null,
   "metadata": {},
   "outputs": [],
   "source": [
    "# Fetching the statistics\n",
    "stat_df=pd.DataFrame({'coefficients':result.params, 'p-value': result.pvalues, 'odds_ratio': np.exp(result.params)})\n",
    "stat_df"
   ]
  },
  {
   "cell_type": "code",
   "execution_count": null,
   "metadata": {},
   "outputs": [],
   "source": [
    "# Condition for significant parameters\n",
    "significant_params=stat_df[stat_df['p-value']<=0.05].index\n",
    "significant_params= significant_params.drop('const')\n",
    "significant_params"
   ]
  },
  {
   "cell_type": "code",
   "execution_count": null,
   "metadata": {},
   "outputs": [],
   "source": [
    "print('Total number of parameters: %s '%len(X.keys()) )\n",
    "stat_df.loc[significant_params].sort_values('odds_ratio', ascending=False)['odds_ratio']"
   ]
  },
  {
   "cell_type": "code",
   "execution_count": null,
   "metadata": {},
   "outputs": [],
   "source": [
    "# create a logistic regression model with the specified arguments\n",
    "from sklearn.linear_model import LogisticRegression\n",
    "classifier = LogisticRegression(solver='lbfgs', max_iter=200, random_state=42)\n",
    "classifier"
   ]
  },
  {
   "cell_type": "code",
   "execution_count": null,
   "metadata": {},
   "outputs": [],
   "source": [
    "# trained the model with the training data:\n",
    "classifier.fit(X_train, y_train)"
   ]
  },
  {
   "cell_type": "code",
   "execution_count": null,
   "metadata": {},
   "outputs": [],
   "source": [
    "y_pred=result.predict(X_test)"
   ]
  },
  {
   "cell_type": "code",
   "execution_count": null,
   "metadata": {},
   "outputs": [],
   "source": [
    "# ROC Curve\n",
    "from sklearn.metrics import roc_auc_score\n",
    "from sklearn.metrics import roc_curve\n",
    "fpr, tpr, thresholds = roc_curve(y_test, y_pred)\n",
    "# To get roc stats in df\n",
    "roc_df=pd.DataFrame({'thresholds': thresholds,'tpr':tpr,'fpr':fpr})"
   ]
  },
  {
   "cell_type": "code",
   "execution_count": null,
   "metadata": {},
   "outputs": [],
   "source": [
    "import matplotlib.pyplot as plt\n",
    "# Plotting the ROC curve\n",
    "plt.figure(figsize=(12,8))\n",
    "plt.plot(fpr, tpr, label= 'Logistic Regression (Sensitivity = %0.3f )', marker='o')\n",
    "plt.plot([0,1], [0,1] , 'r-')\n",
    "plt.xlim(0,1)\n",
    "plt.ylim(0,1.05)\n",
    "plt.xlabel('False Positive Rate')\n",
    "plt.ylabel('True Positive rate')\n",
    "plt.title('Receiver Operating Characteristics')\n",
    "plt.legend(loc='lower right')\n",
    "plt.show()"
   ]
  },
  {
   "cell_type": "code",
   "execution_count": null,
   "metadata": {},
   "outputs": [],
   "source": [
    "# Converting y into binary. Here 0.5 is the threshold\n",
    "opt_thr=0.5\n",
    "y_pred=result.predict(X_test)\n",
    "y_pred= np.where(y_pred>opt_thr,1,0)"
   ]
  },
  {
   "cell_type": "code",
   "execution_count": null,
   "metadata": {},
   "outputs": [],
   "source": [
    "# to create predictions based on X_test.\n",
    "predictions = classifier.predict(X_test)\n",
    "pd.DataFrame({\"Prediction\": predictions, \"Actual\": y_test})"
   ]
  },
  {
   "cell_type": "code",
   "execution_count": null,
   "metadata": {},
   "outputs": [],
   "source": [
    "# Getting confusion Matrix\n",
    "import seaborn as sns\n",
    "cm= confusion_matrix(y_test,y_pred)\n",
    "ax=sns.heatmap(cm, annot=True, fmt=\"0\", annot_kws={\"size\":20})\n",
    "plt.xlabel('Predicted Output', fontsize=20)\n",
    "plt.ylabel('Actual Output', fontsize=20)"
   ]
  },
  {
   "cell_type": "code",
   "execution_count": null,
   "metadata": {},
   "outputs": [],
   "source": [
    "from sklearn.metrics import accuracy_score\n",
    "accuracy_score(y_test, predictions)"
   ]
  },
  {
   "cell_type": "code",
   "execution_count": null,
   "metadata": {},
   "outputs": [],
   "source": [
    "# Classification Report\n",
    "print(classification_report(y_test, y_pred))"
   ]
  },
  {
   "cell_type": "markdown",
   "metadata": {},
   "source": [
    "## Logistic Regression 2 - Dropped offender_sex, offender_race and offender_ethnicity columns"
   ]
  },
  {
   "cell_type": "code",
   "execution_count": null,
   "metadata": {},
   "outputs": [],
   "source": [
    "X1 = binary_data[['population_group_code','offense_code','offender_age','victim_type_code','location_code',\n",
    "    'prop_desc_code','stolen_value']]\n",
    "\n",
    "y1 = binary_data['recovered_flag']"
   ]
  },
  {
   "cell_type": "code",
   "execution_count": null,
   "metadata": {},
   "outputs": [],
   "source": [
    "vif_data1 = pd.DataFrame()\n",
    "vif_data1[\"feature\"] = X1.columns\n",
    "vif_data1[\"VIF\"] = [variance_inflation_factor(X1.values, i) for i in range(len(X1.columns))]\n",
    "vif_data1"
   ]
  },
  {
   "cell_type": "code",
   "execution_count": null,
   "metadata": {},
   "outputs": [],
   "source": [
    "# split the dataset into training and testing sets:\n",
    "from sklearn.model_selection import train_test_split\n",
    "X_train1, X_test1, y_train1, y_test1 = train_test_split(X1, y1, random_state=42, stratify=y)\n",
    "X_train1.shape"
   ]
  },
  {
   "cell_type": "code",
   "execution_count": null,
   "metadata": {},
   "outputs": [],
   "source": [
    "# Fitting model - Logit Regression\n",
    "import statsmodels.api as sm\n",
    "X_train1['intercept'] = 1.0\n",
    "logit = sm.Logit(y_train1, X_train1)\n",
    "result1 = logit.fit()\n",
    "result1.summary()"
   ]
  },
  {
   "cell_type": "code",
   "execution_count": null,
   "metadata": {},
   "outputs": [],
   "source": [
    "# Binomial Logistic Regression\n",
    "log_reg1 = sm.GLM(y_train1, X_train1, family=sm.families.Binomial()).fit()\n",
    "log_reg1.summary()"
   ]
  },
  {
   "cell_type": "code",
   "execution_count": null,
   "metadata": {},
   "outputs": [],
   "source": [
    "X1=sm.add_constant(X1)\n",
    "#Splitting the dataset\n",
    "X_train1, X_test1, y_train1, y_test1 = train_test_split(X1, y1, test_size=0.2, random_state=0)\n",
    "model1=sm.Logit(y_train1,X_train1,random_state=0)\n",
    "result1=model1.fit()\n",
    "print(result1.summary())"
   ]
  },
  {
   "cell_type": "code",
   "execution_count": null,
   "metadata": {},
   "outputs": [],
   "source": [
    "# Fetching the statistics\n",
    "stat_df1=pd.DataFrame({'coefficients':result1.params, 'p-value': result1.pvalues, 'odds_ratio': np.exp(result1.params)})\n",
    "stat_df1"
   ]
  },
  {
   "cell_type": "code",
   "execution_count": null,
   "metadata": {},
   "outputs": [],
   "source": [
    "# Condition for significant parameters\n",
    "significant_params1=stat_df1[stat_df1['p-value']<=0.05].index\n",
    "significant_params1= significant_params1.drop('const')\n",
    "significant_params1"
   ]
  },
  {
   "cell_type": "code",
   "execution_count": null,
   "metadata": {},
   "outputs": [],
   "source": [
    "print('Total number of parameters: %s '%len(X1.keys()) )\n",
    "stat_df1.loc[significant_params1].sort_values('odds_ratio', ascending=False)['odds_ratio']"
   ]
  },
  {
   "cell_type": "code",
   "execution_count": null,
   "metadata": {},
   "outputs": [],
   "source": [
    "# create a logistic regression model with the specified arguments\n",
    "from sklearn.linear_model import LogisticRegression\n",
    "classifier1 = LogisticRegression(solver='lbfgs', max_iter=200, random_state=42)\n",
    "classifier1"
   ]
  },
  {
   "cell_type": "code",
   "execution_count": null,
   "metadata": {},
   "outputs": [],
   "source": [
    "# trained the model with the training data:\n",
    "classifier1.fit(X_train1, y_train1)"
   ]
  },
  {
   "cell_type": "code",
   "execution_count": null,
   "metadata": {},
   "outputs": [],
   "source": [
    "y_pred1=result1.predict(X_test1)"
   ]
  },
  {
   "cell_type": "code",
   "execution_count": null,
   "metadata": {},
   "outputs": [],
   "source": [
    "# ROC Curve\n",
    "from sklearn.metrics import roc_auc_score\n",
    "from sklearn.metrics import roc_curve\n",
    "fpr1, tpr1, thresholds1 = roc_curve(y_test1, y_pred1)\n",
    "# To get roc stats in df\n",
    "roc_df1=pd.DataFrame({'thresholds': thresholds1, 'tpr':tpr1, 'fpr':fpr1})"
   ]
  },
  {
   "cell_type": "code",
   "execution_count": null,
   "metadata": {},
   "outputs": [],
   "source": [
    "import matplotlib.pyplot as plt\n",
    "from sklearn.metrics import roc_curve\n",
    "from sklearn.metrics import roc_auc_score\n",
    "# Plotting the ROC curve\n",
    "plt.figure(figsize=(12,8))\n",
    "plt.plot(fpr1, tpr1, label= 'Logistic Regression (Sensitivity = %0.3f )', marker = 'o')\n",
    "plt.plot([0,1], [0,1] , 'r-')\n",
    "plt.xlim(0,1)\n",
    "plt.ylim(0,1.05)\n",
    "plt.xlabel('False Positive Rate')\n",
    "plt.ylabel('True Positive rate')\n",
    "plt.title('Receiver Operating Characteristics')\n",
    "plt.legend(loc='lower right')\n",
    "plt.show()"
   ]
  },
  {
   "cell_type": "code",
   "execution_count": null,
   "metadata": {},
   "outputs": [],
   "source": [
    "# Converting y into binary. Here 0.5 is the threshold\n",
    "opt_thr=0.5\n",
    "y_pred1=result1.predict(X_test1)\n",
    "y_pred1= np.where(y_pred1>opt_thr,1,0)"
   ]
  },
  {
   "cell_type": "code",
   "execution_count": null,
   "metadata": {},
   "outputs": [],
   "source": [
    "# to create predictions based on X_test.\n",
    "predictions1 = classifier1.predict(X_test1)\n",
    "pd.DataFrame({\"Prediction\": predictions1, \"Actual\": y_test1})"
   ]
  },
  {
   "cell_type": "code",
   "execution_count": null,
   "metadata": {},
   "outputs": [],
   "source": [
    "# Getting confusion Matrix\n",
    "import seaborn as sns\n",
    "cm1 = confusion_matrix(y_test1, y_pred1)\n",
    "ax1 = sns.heatmap(cm1, annot=True, fmt=\"0\", annot_kws={\"size\":20})\n",
    "plt.xlabel('Predicted Output', fontsize=20)\n",
    "plt.ylabel('Actual Output', fontsize=20)"
   ]
  },
  {
   "cell_type": "code",
   "execution_count": null,
   "metadata": {},
   "outputs": [],
   "source": [
    "from sklearn.metrics import accuracy_score\n",
    "accuracy_score(y_test1, predictions1)"
   ]
  },
  {
   "cell_type": "code",
   "execution_count": null,
   "metadata": {},
   "outputs": [],
   "source": [
    "# Classification Report\n",
    "print(classification_report(y_test1, y_pred1))"
   ]
  },
  {
   "cell_type": "markdown",
   "metadata": {},
   "source": [
    "# TW - continuation\n",
    "\n",
    "## Resampling Techniques - Imbalanced Classification\n",
    "\n",
    "###  Split the Data into Training and Testing"
   ]
  },
  {
   "cell_type": "code",
   "execution_count": null,
   "metadata": {},
   "outputs": [],
   "source": [
    "import warnings\n",
    "warnings.filterwarnings('ignore')"
   ]
  },
  {
   "cell_type": "code",
   "execution_count": null,
   "metadata": {},
   "outputs": [],
   "source": [
    "import numpy as np\n",
    "import pandas as pd\n",
    "from pathlib import Path\n",
    "from collections import Counter"
   ]
  },
  {
   "cell_type": "code",
   "execution_count": null,
   "metadata": {},
   "outputs": [],
   "source": [
    "binary_df = pd.read_csv('resources/binary_classifier.csv')\n",
    "print(binary_df.shape) # columns & row \n",
    "binary_df.head()"
   ]
  },
  {
   "cell_type": "code",
   "execution_count": null,
   "metadata": {},
   "outputs": [],
   "source": [
    "# Transform text/object into numerical data for features to be used. \n",
    "from sklearn.preprocessing import LabelEncoder\n",
    "le = LabelEncoder()\n",
    "binaryEN_df = binary_df.copy()\n",
    "\n",
    "binaryEN_df['population_group_code'] = le.fit_transform(binary_df['population_group_code'])\n",
    "binaryEN_df['offense_code'] = le.fit_transform(binary_df['offense_code'])\n",
    "binaryEN_df['offender_race'] = le.fit_transform(binary_df['offender_race'])\n",
    "binaryEN_df['offender_ethnicity'] = le.fit_transform(binary_df['offender_ethnicity'])\n",
    "binaryEN_df['offender_sex'] = le.fit_transform(binary_df['offender_sex'])\n",
    "binaryEN_df['victim_type_code'] = le.fit_transform(binary_df['victim_type_code'])\n",
    "binaryEN_df['recovered_flag'] = le.fit_transform(binary_df['recovered_flag'])\n",
    "\n",
    "binaryEN_df.head()"
   ]
  },
  {
   "cell_type": "code",
   "execution_count": null,
   "metadata": {
    "scrolled": true
   },
   "outputs": [],
   "source": [
    "binaryEN_df.dtypes"
   ]
  },
  {
   "cell_type": "code",
   "execution_count": null,
   "metadata": {},
   "outputs": [],
   "source": [
    "# Create our features\n",
    "# YOUR CODE HERE\n",
    "X = binaryEN_df[['offense_code','offender_age','location_code','prop_desc_code','population_group_code', 'victim_type_code']] \n",
    "    \n",
    "# Create our target \n",
    "y = binaryEN_df['recovered_flag']\n"
   ]
  },
  {
   "cell_type": "code",
   "execution_count": null,
   "metadata": {},
   "outputs": [],
   "source": [
    "X.describe()"
   ]
  },
  {
   "cell_type": "code",
   "execution_count": null,
   "metadata": {},
   "outputs": [],
   "source": [
    "# Check the balance of our target values - 0 = Unrecovered, 2 = recovered\n",
    "y.value_counts()"
   ]
  },
  {
   "cell_type": "code",
   "execution_count": null,
   "metadata": {},
   "outputs": [],
   "source": [
    "from sklearn.model_selection import train_test_split\n",
    "X_train, X_test, y_train, y_test = train_test_split(X, y, random_state=1)\n",
    "Counter(y_train)"
   ]
  },
  {
   "cell_type": "markdown",
   "metadata": {},
   "source": [
    "###  SMOTE Oversampling"
   ]
  },
  {
   "cell_type": "code",
   "execution_count": null,
   "metadata": {},
   "outputs": [],
   "source": [
    "# Resample the training data with SMOTE/synthetic minority oversampling technique\n",
    "# YOUR CODE HERE\n",
    "from imblearn.over_sampling import SMOTE\n",
    "X_resampled, y_resampled = SMOTE(random_state=1,sampling_strategy='auto').fit_resample(X_train, y_train)\n",
    "\n",
    "Counter(y_resampled)"
   ]
  },
  {
   "cell_type": "code",
   "execution_count": null,
   "metadata": {},
   "outputs": [],
   "source": [
    "# Train the Logistic Regression model using the resampled data\n",
    "from sklearn.linear_model import LogisticRegression\n",
    "model = LogisticRegression(solver='lbfgs', random_state=1)\n",
    "model.fit(X_resampled, y_resampled)"
   ]
  },
  {
   "cell_type": "code",
   "execution_count": null,
   "metadata": {},
   "outputs": [],
   "source": [
    "# Display the confusion matrix\n",
    "# YOUR CODE HERE\n",
    "from sklearn.metrics import confusion_matrix\n",
    "y_pred = model.predict(X_test)\n",
    "cm = confusion_matrix(y_test, y_pred)\n",
    "\n",
    "# Create a DataFrame from the confusion matrix.\n",
    "cm_df = pd.DataFrame(cm, index=[\"Actual 0\", \"Actual 1\"], columns=[\"Predicted 0\", \"Predicted 1\"])\n",
    "\n",
    "cm_df"
   ]
  },
  {
   "cell_type": "code",
   "execution_count": null,
   "metadata": {},
   "outputs": [],
   "source": [
    "# Calculated the balanced accuracy score\n",
    "from sklearn.metrics import balanced_accuracy_score\n",
    "acc_score = balanced_accuracy_score(y_test, y_pred)"
   ]
  },
  {
   "cell_type": "code",
   "execution_count": null,
   "metadata": {},
   "outputs": [],
   "source": [
    "# Print the imbalanced classification report\n",
    "# YOUR CODE HERE\n",
    "from imblearn.metrics import classification_report_imbalanced\n",
    "print(\"Confusion Matrix\")\n",
    "display(cm_df)\n",
    "print(f\"Accuracy Score : {acc_score}\")\n",
    "print(\"Classification Report\")\n",
    "print(classification_report_imbalanced(y_test, y_pred))"
   ]
  },
  {
   "cell_type": "markdown",
   "metadata": {},
   "source": [
    "### Undersampling"
   ]
  },
  {
   "cell_type": "code",
   "execution_count": null,
   "metadata": {},
   "outputs": [],
   "source": [
    "# Resample the data using the ClusterCentroids resampler\n",
    "# Warning: This is a large dataset, and this step may take some time to complete\n",
    "\n",
    "## Running too long \n",
    "\n",
    "## from imblearn.under_sampling import ClusterCentroids\n",
    "## cc = ClusterCentroids(random_state=1)\n",
    "## X_resampled, y_resampled = cc.fit_resample(X_train, y_train)\n",
    "\n",
    "## Counter(y_resampled)"
   ]
  },
  {
   "cell_type": "code",
   "execution_count": null,
   "metadata": {},
   "outputs": [],
   "source": [
    "# Train the Logistic Regression model using the resampled data\n",
    "from sklearn.linear_model import LogisticRegression\n",
    "model = LogisticRegression(solver='lbfgs', random_state=1)\n",
    "model.fit(X_resampled, y_resampled)"
   ]
  },
  {
   "cell_type": "code",
   "execution_count": null,
   "metadata": {},
   "outputs": [],
   "source": [
    "# Display the confusion matrix\n",
    "from sklearn.metrics import confusion_matrix\n",
    "y_pred = model.predict(X_test)\n",
    "ucm = confusion_matrix(y_test, y_pred)\n",
    "\n",
    "# Create a DataFrame from the confusion matrix.\n",
    "ucm_df = pd.DataFrame(ucm, index=[\"Actual 0\", \"Actual 1\"], columns=[\"Predicted 0\", \"Predicted 1\"])\n",
    "\n",
    "ucm_df"
   ]
  },
  {
   "cell_type": "code",
   "execution_count": null,
   "metadata": {},
   "outputs": [],
   "source": [
    "# Calculated the balanced accuracy score\n",
    "from sklearn.metrics import balanced_accuracy_score\n",
    "uacc_score = balanced_accuracy_score(y_test, y_pred)"
   ]
  },
  {
   "cell_type": "code",
   "execution_count": null,
   "metadata": {},
   "outputs": [],
   "source": [
    "# Print the imbalanced classification report\n",
    "from imblearn.metrics import classification_report_imbalanced\n",
    "print(\"Confusion Matrix\")\n",
    "display(ucm_df)\n",
    "print(f\"Accuracy Score : {uacc_score}\")\n",
    "print(\"Classification Report\")\n",
    "print(classification_report_imbalanced(y_test, y_pred))"
   ]
  },
  {
   "cell_type": "markdown",
   "metadata": {},
   "source": [
    "### Combination (Over and Under) Sampling - SMOTEENN/SMOTE"
   ]
  },
  {
   "cell_type": "code",
   "execution_count": null,
   "metadata": {},
   "outputs": [],
   "source": [
    "# Resample the training data with SMOTEENN/SMOTE and Edited Nearest Neighbors (ENN) \n",
    "# Warning: This is a large dataset, and this step may take some time to complete\n",
    "# YOUR CODE HERE\n",
    "from imblearn.combine import SMOTEENN\n",
    "smote_enn = SMOTEENN(random_state=1)\n",
    "X_resampled, y_resampled = smote_enn.fit_resample(X, y) \n",
    "\n",
    "Counter(y_resampled)"
   ]
  },
  {
   "cell_type": "code",
   "execution_count": null,
   "metadata": {},
   "outputs": [],
   "source": [
    "# Train the Logistic Regression model using the resampled data\n",
    "from sklearn.linear_model import LogisticRegression\n",
    "model = LogisticRegression(solver='lbfgs', random_state=1)\n",
    "model.fit(X_resampled, y_resampled)"
   ]
  },
  {
   "cell_type": "code",
   "execution_count": null,
   "metadata": {},
   "outputs": [],
   "source": [
    "# Display the confusion matrix\n",
    "from sklearn.metrics import confusion_matrix\n",
    "y_pred = model.predict(X_test)\n",
    "stcm = confusion_matrix(y_test, y_pred)\n",
    "\n",
    "# Create a DataFrame from the confusion matrix.\n",
    "stcm_df = pd.DataFrame(stcm, index=[\"Actual 0\", \"Actual 1\"], columns=[\"Predicted 0\", \"Predicted 1\"])\n",
    "\n",
    "stcm_df"
   ]
  },
  {
   "cell_type": "code",
   "execution_count": null,
   "metadata": {},
   "outputs": [],
   "source": [
    "# Calculated the balanced accuracy score\n",
    "from sklearn.metrics import balanced_accuracy_score\n",
    "stacc_score = balanced_accuracy_score(y_test, y_pred)"
   ]
  },
  {
   "cell_type": "code",
   "execution_count": null,
   "metadata": {},
   "outputs": [],
   "source": [
    "# Print the imbalanced classification report\n",
    "from imblearn.metrics import classification_report_imbalanced\n",
    "print(\"Confusion Matrix\")\n",
    "display(stcm_df)\n",
    "print(f\"Accuracy Score : {stacc_score}\")\n",
    "print(\"Classification Report\")\n",
    "print(classification_report_imbalanced(y_test, y_pred))"
   ]
  },
  {
   "cell_type": "markdown",
   "metadata": {},
   "source": [
    "### NN ML - Optimization 3 layers "
   ]
  },
  {
   "cell_type": "code",
   "execution_count": 1,
   "metadata": {},
   "outputs": [],
   "source": [
    "# Import our dependencies\n",
    "from sklearn.model_selection import train_test_split\n",
    "from sklearn.preprocessing import StandardScaler,OneHotEncoder\n",
    "import pandas as pd\n",
    "import tensorflow as tf\n",
    "import matplotlib.pyplot as plt"
   ]
  },
  {
   "cell_type": "code",
   "execution_count": 2,
   "metadata": {},
   "outputs": [
    {
     "name": "stdout",
     "output_type": "stream",
     "text": [
      "(122956, 18)\n"
     ]
    },
    {
     "data": {
      "text/html": [
       "<div>\n",
       "<style scoped>\n",
       "    .dataframe tbody tr th:only-of-type {\n",
       "        vertical-align: middle;\n",
       "    }\n",
       "\n",
       "    .dataframe tbody tr th {\n",
       "        vertical-align: top;\n",
       "    }\n",
       "\n",
       "    .dataframe thead th {\n",
       "        text-align: right;\n",
       "    }\n",
       "</style>\n",
       "<table border=\"1\" class=\"dataframe\">\n",
       "  <thead>\n",
       "    <tr style=\"text-align: right;\">\n",
       "      <th></th>\n",
       "      <th>pub_agency_name</th>\n",
       "      <th>agency_type_name</th>\n",
       "      <th>state_name</th>\n",
       "      <th>division_name</th>\n",
       "      <th>county_name</th>\n",
       "      <th>region_name</th>\n",
       "      <th>population_group_code</th>\n",
       "      <th>offense_code</th>\n",
       "      <th>offender_race</th>\n",
       "      <th>offender_ethnicity</th>\n",
       "      <th>offender_age</th>\n",
       "      <th>offender_sex</th>\n",
       "      <th>victim_type_code</th>\n",
       "      <th>location_code</th>\n",
       "      <th>weapon_code</th>\n",
       "      <th>prop_desc_code</th>\n",
       "      <th>stolen_value</th>\n",
       "      <th>recovered_flag</th>\n",
       "    </tr>\n",
       "  </thead>\n",
       "  <tbody>\n",
       "    <tr>\n",
       "      <th>0</th>\n",
       "      <td>Angelina</td>\n",
       "      <td>County</td>\n",
       "      <td>Texas</td>\n",
       "      <td>West South Central</td>\n",
       "      <td>ANGELINA</td>\n",
       "      <td>South</td>\n",
       "      <td>8B</td>\n",
       "      <td>26B</td>\n",
       "      <td>Unknown</td>\n",
       "      <td>Unknown</td>\n",
       "      <td>0.0</td>\n",
       "      <td>U</td>\n",
       "      <td>I</td>\n",
       "      <td>25</td>\n",
       "      <td>95</td>\n",
       "      <td>20</td>\n",
       "      <td>375.0</td>\n",
       "      <td>False</td>\n",
       "    </tr>\n",
       "    <tr>\n",
       "      <th>1</th>\n",
       "      <td>Jefferson</td>\n",
       "      <td>County</td>\n",
       "      <td>Alabama</td>\n",
       "      <td>East South Central</td>\n",
       "      <td>JEFFERSON</td>\n",
       "      <td>South</td>\n",
       "      <td>9A</td>\n",
       "      <td>23H</td>\n",
       "      <td>Unknown</td>\n",
       "      <td>Unknown</td>\n",
       "      <td>0.0</td>\n",
       "      <td>U</td>\n",
       "      <td>I</td>\n",
       "      <td>20</td>\n",
       "      <td>95</td>\n",
       "      <td>77</td>\n",
       "      <td>1.0</td>\n",
       "      <td>False</td>\n",
       "    </tr>\n",
       "    <tr>\n",
       "      <th>2</th>\n",
       "      <td>Jefferson</td>\n",
       "      <td>County</td>\n",
       "      <td>Alabama</td>\n",
       "      <td>East South Central</td>\n",
       "      <td>JEFFERSON</td>\n",
       "      <td>South</td>\n",
       "      <td>9A</td>\n",
       "      <td>23H</td>\n",
       "      <td>Unknown</td>\n",
       "      <td>Unknown</td>\n",
       "      <td>0.0</td>\n",
       "      <td>U</td>\n",
       "      <td>I</td>\n",
       "      <td>20</td>\n",
       "      <td>95</td>\n",
       "      <td>65</td>\n",
       "      <td>0.0</td>\n",
       "      <td>False</td>\n",
       "    </tr>\n",
       "    <tr>\n",
       "      <th>3</th>\n",
       "      <td>Jefferson</td>\n",
       "      <td>County</td>\n",
       "      <td>Alabama</td>\n",
       "      <td>East South Central</td>\n",
       "      <td>JEFFERSON</td>\n",
       "      <td>South</td>\n",
       "      <td>9A</td>\n",
       "      <td>23H</td>\n",
       "      <td>Unknown</td>\n",
       "      <td>Unknown</td>\n",
       "      <td>0.0</td>\n",
       "      <td>U</td>\n",
       "      <td>I</td>\n",
       "      <td>20</td>\n",
       "      <td>95</td>\n",
       "      <td>13</td>\n",
       "      <td>320.0</td>\n",
       "      <td>False</td>\n",
       "    </tr>\n",
       "    <tr>\n",
       "      <th>4</th>\n",
       "      <td>Jefferson</td>\n",
       "      <td>County</td>\n",
       "      <td>Alabama</td>\n",
       "      <td>East South Central</td>\n",
       "      <td>JEFFERSON</td>\n",
       "      <td>South</td>\n",
       "      <td>9A</td>\n",
       "      <td>23F</td>\n",
       "      <td>Unknown</td>\n",
       "      <td>Unknown</td>\n",
       "      <td>0.0</td>\n",
       "      <td>U</td>\n",
       "      <td>I</td>\n",
       "      <td>20</td>\n",
       "      <td>95</td>\n",
       "      <td>77</td>\n",
       "      <td>1.0</td>\n",
       "      <td>False</td>\n",
       "    </tr>\n",
       "  </tbody>\n",
       "</table>\n",
       "</div>"
      ],
      "text/plain": [
       "  pub_agency_name agency_type_name state_name       division_name county_name  \\\n",
       "0        Angelina           County      Texas  West South Central    ANGELINA   \n",
       "1       Jefferson           County    Alabama  East South Central   JEFFERSON   \n",
       "2       Jefferson           County    Alabama  East South Central   JEFFERSON   \n",
       "3       Jefferson           County    Alabama  East South Central   JEFFERSON   \n",
       "4       Jefferson           County    Alabama  East South Central   JEFFERSON   \n",
       "\n",
       "  region_name population_group_code offense_code offender_race  \\\n",
       "0       South                    8B          26B       Unknown   \n",
       "1       South                    9A          23H       Unknown   \n",
       "2       South                    9A          23H       Unknown   \n",
       "3       South                    9A          23H       Unknown   \n",
       "4       South                    9A          23F       Unknown   \n",
       "\n",
       "  offender_ethnicity  offender_age offender_sex victim_type_code  \\\n",
       "0            Unknown           0.0            U                I   \n",
       "1            Unknown           0.0            U                I   \n",
       "2            Unknown           0.0            U                I   \n",
       "3            Unknown           0.0            U                I   \n",
       "4            Unknown           0.0            U                I   \n",
       "\n",
       "   location_code weapon_code  prop_desc_code  stolen_value  recovered_flag  \n",
       "0             25          95              20         375.0           False  \n",
       "1             20          95              77           1.0           False  \n",
       "2             20          95              65           0.0           False  \n",
       "3             20          95              13         320.0           False  \n",
       "4             20          95              77           1.0           False  "
      ]
     },
     "execution_count": 2,
     "metadata": {},
     "output_type": "execute_result"
    }
   ],
   "source": [
    "binary_df = pd.read_csv('resources/binary_classifier.csv')\n",
    "print(binary_df.shape) # columns & row \n",
    "binary_df.head()"
   ]
  },
  {
   "cell_type": "code",
   "execution_count": 3,
   "metadata": {},
   "outputs": [
    {
     "data": {
      "text/html": [
       "<div>\n",
       "<style scoped>\n",
       "    .dataframe tbody tr th:only-of-type {\n",
       "        vertical-align: middle;\n",
       "    }\n",
       "\n",
       "    .dataframe tbody tr th {\n",
       "        vertical-align: top;\n",
       "    }\n",
       "\n",
       "    .dataframe thead th {\n",
       "        text-align: right;\n",
       "    }\n",
       "</style>\n",
       "<table border=\"1\" class=\"dataframe\">\n",
       "  <thead>\n",
       "    <tr style=\"text-align: right;\">\n",
       "      <th></th>\n",
       "      <th>population_group_code</th>\n",
       "      <th>offense_code</th>\n",
       "      <th>offender_age</th>\n",
       "      <th>victim_type_code</th>\n",
       "      <th>location_code</th>\n",
       "      <th>prop_desc_code</th>\n",
       "      <th>recovered_flag</th>\n",
       "    </tr>\n",
       "  </thead>\n",
       "  <tbody>\n",
       "    <tr>\n",
       "      <th>0</th>\n",
       "      <td>8B</td>\n",
       "      <td>26B</td>\n",
       "      <td>0.0</td>\n",
       "      <td>I</td>\n",
       "      <td>25</td>\n",
       "      <td>20</td>\n",
       "      <td>False</td>\n",
       "    </tr>\n",
       "    <tr>\n",
       "      <th>1</th>\n",
       "      <td>9A</td>\n",
       "      <td>23H</td>\n",
       "      <td>0.0</td>\n",
       "      <td>I</td>\n",
       "      <td>20</td>\n",
       "      <td>77</td>\n",
       "      <td>False</td>\n",
       "    </tr>\n",
       "    <tr>\n",
       "      <th>2</th>\n",
       "      <td>9A</td>\n",
       "      <td>23H</td>\n",
       "      <td>0.0</td>\n",
       "      <td>I</td>\n",
       "      <td>20</td>\n",
       "      <td>65</td>\n",
       "      <td>False</td>\n",
       "    </tr>\n",
       "    <tr>\n",
       "      <th>3</th>\n",
       "      <td>9A</td>\n",
       "      <td>23H</td>\n",
       "      <td>0.0</td>\n",
       "      <td>I</td>\n",
       "      <td>20</td>\n",
       "      <td>13</td>\n",
       "      <td>False</td>\n",
       "    </tr>\n",
       "    <tr>\n",
       "      <th>4</th>\n",
       "      <td>9A</td>\n",
       "      <td>23F</td>\n",
       "      <td>0.0</td>\n",
       "      <td>I</td>\n",
       "      <td>20</td>\n",
       "      <td>77</td>\n",
       "      <td>False</td>\n",
       "    </tr>\n",
       "  </tbody>\n",
       "</table>\n",
       "</div>"
      ],
      "text/plain": [
       "  population_group_code offense_code  offender_age victim_type_code  \\\n",
       "0                    8B          26B           0.0                I   \n",
       "1                    9A          23H           0.0                I   \n",
       "2                    9A          23H           0.0                I   \n",
       "3                    9A          23H           0.0                I   \n",
       "4                    9A          23F           0.0                I   \n",
       "\n",
       "   location_code  prop_desc_code  recovered_flag  \n",
       "0             25              20           False  \n",
       "1             20              77           False  \n",
       "2             20              65           False  \n",
       "3             20              13           False  \n",
       "4             20              77           False  "
      ]
     },
     "execution_count": 3,
     "metadata": {},
     "output_type": "execute_result"
    }
   ],
   "source": [
    "#Create a new DF to run NNML\n",
    "binaryC_df = binary_df[['population_group_code','offense_code','offender_age','victim_type_code','location_code',\n",
    "    'prop_desc_code', 'recovered_flag']].copy()\n",
    "binaryC_df.head()"
   ]
  },
  {
   "cell_type": "code",
   "execution_count": 4,
   "metadata": {},
   "outputs": [
    {
     "data": {
      "text/plain": [
       "1B    14218\n",
       "5     14145\n",
       "4     14035\n",
       "9A    13240\n",
       "3     11067\n",
       "6      8865\n",
       "2      8845\n",
       "1C     8096\n",
       "9B     7977\n",
       "1A     5865\n",
       "8B     4895\n",
       "8C     3849\n",
       "7      3836\n",
       "8D     1533\n",
       "9C     1464\n",
       "9D      983\n",
       "8E       31\n",
       "0         6\n",
       "8A        4\n",
       "9E        2\n",
       "Name: population_group_code, dtype: int64"
      ]
     },
     "execution_count": 4,
     "metadata": {},
     "output_type": "execute_result"
    }
   ],
   "source": [
    "population_group_count = binaryC_df.population_group_code.value_counts()\n",
    "population_group_count"
   ]
  },
  {
   "cell_type": "code",
   "execution_count": 5,
   "metadata": {},
   "outputs": [
    {
     "data": {
      "text/plain": [
       "<AxesSubplot:ylabel='Density'>"
      ]
     },
     "execution_count": 5,
     "metadata": {},
     "output_type": "execute_result"
    },
    {
     "data": {
      "image/png": "[encoded data removed]",
      "text/plain": [
       "<Figure size 640x480 with 1 Axes>"
      ]
     },
     "metadata": {},
     "output_type": "display_data"
    }
   ],
   "source": [
    "# Visualize the value counts of \n",
    "population_group_count.plot.density(color='green')"
   ]
  },
  {
   "cell_type": "code",
   "execution_count": 6,
   "metadata": {},
   "outputs": [
    {
     "data": {
      "text/plain": [
       "Other    16603\n",
       "1B       14218\n",
       "5        14145\n",
       "4        14035\n",
       "9A       13240\n",
       "3        11067\n",
       "6         8865\n",
       "2         8845\n",
       "1C        8096\n",
       "9B        7977\n",
       "1A        5865\n",
       "Name: population_group_code, dtype: int64"
      ]
     },
     "execution_count": 6,
     "metadata": {},
     "output_type": "execute_result"
    }
   ],
   "source": [
    "# Determine which values to replace if counts are less than ...?\n",
    "## The most straightforward method is to use a density plot to identify where the value counts \"fall off\" \n",
    "## and set the threshold within this region.\n",
    "replace_population_group = list(population_group_count[population_group_count < 5000].index)\n",
    "\n",
    "\n",
    "# Replace in dataframe\n",
    "for app in replace_population_group:\n",
    "    binaryC_df.population_group_code = binaryC_df.population_group_code.replace(app,\"Other\")\n",
    "    \n",
    "# Check to make sure binning was successful\n",
    "binaryC_df.population_group_code.value_counts()"
   ]
  },
  {
   "cell_type": "code",
   "execution_count": 7,
   "metadata": {},
   "outputs": [
    {
     "data": {
      "text/plain": [
       "23F    35024\n",
       "23H    29737\n",
       "220    21125\n",
       "240    14899\n",
       "23D     6767\n",
       "120     4993\n",
       "26A     3384\n",
       "26B     2634\n",
       "280     1171\n",
       "270      853\n",
       "26F      830\n",
       "250      464\n",
       "23G      399\n",
       "23C      309\n",
       "26E      166\n",
       "23A       82\n",
       "23B       75\n",
       "23E       43\n",
       "26D        1\n",
       "Name: offense_code, dtype: int64"
      ]
     },
     "execution_count": 7,
     "metadata": {},
     "output_type": "execute_result"
    }
   ],
   "source": [
    "offense_code_count = binaryC_df.offense_code.value_counts()\n",
    "offense_code_count"
   ]
  },
  {
   "cell_type": "code",
   "execution_count": 8,
   "metadata": {},
   "outputs": [
    {
     "data": {
      "text/plain": [
       "<AxesSubplot:ylabel='Density'>"
      ]
     },
     "execution_count": 8,
     "metadata": {},
     "output_type": "execute_result"
    },
    {
     "data": {
      "image/png": "[encoded data removed]",
      "text/plain": [
       "<Figure size 640x480 with 1 Axes>"
      ]
     },
     "metadata": {},
     "output_type": "display_data"
    }
   ],
   "source": [
    "# Visualize the value counts of \n",
    "offense_code_count.plot.density(color='green')"
   ]
  },
  {
   "cell_type": "code",
   "execution_count": 9,
   "metadata": {
    "scrolled": true
   },
   "outputs": [
    {
     "data": {
      "text/plain": [
       "23F      35024\n",
       "23H      29737\n",
       "Other    22171\n",
       "220      21125\n",
       "240      14899\n",
       "Name: offense_code, dtype: int64"
      ]
     },
     "execution_count": 9,
     "metadata": {},
     "output_type": "execute_result"
    }
   ],
   "source": [
    "# Determine which values to replace if counts are less than ...?\n",
    "replace_offense = list(offense_code_count[offense_code_count < 14000].index)\n",
    "\n",
    "\n",
    "# Replace in dataframe\n",
    "for app in replace_offense:\n",
    "    binaryC_df.offense_code = binaryC_df.offense_code.replace(app,\"Other\")\n",
    "    \n",
    "# Check to make sure binning was successful\n",
    "binaryC_df.offense_code.value_counts()"
   ]
  },
  {
   "cell_type": "code",
   "execution_count": 10,
   "metadata": {},
   "outputs": [
    {
     "data": {
      "text/plain": [
       "['population_group_code', 'offense_code', 'victim_type_code']"
      ]
     },
     "execution_count": 10,
     "metadata": {},
     "output_type": "execute_result"
    }
   ],
   "source": [
    "# Generate our categorical variable lists\n",
    "binary_cat = binaryC_df.dtypes[binaryC_df.dtypes == \"object\"].index.tolist()\n",
    "binary_cat"
   ]
  },
  {
   "cell_type": "code",
   "execution_count": 11,
   "metadata": {},
   "outputs": [
    {
     "name": "stdout",
     "output_type": "stream",
     "text": [
      "(122956, 25)\n"
     ]
    },
    {
     "data": {
      "text/html": [
       "<div>\n",
       "<style scoped>\n",
       "    .dataframe tbody tr th:only-of-type {\n",
       "        vertical-align: middle;\n",
       "    }\n",
       "\n",
       "    .dataframe tbody tr th {\n",
       "        vertical-align: top;\n",
       "    }\n",
       "\n",
       "    .dataframe thead th {\n",
       "        text-align: right;\n",
       "    }\n",
       "</style>\n",
       "<table border=\"1\" class=\"dataframe\">\n",
       "  <thead>\n",
       "    <tr style=\"text-align: right;\">\n",
       "      <th></th>\n",
       "      <th>population_group_code_1A</th>\n",
       "      <th>population_group_code_1B</th>\n",
       "      <th>population_group_code_1C</th>\n",
       "      <th>population_group_code_2</th>\n",
       "      <th>population_group_code_3</th>\n",
       "      <th>population_group_code_4</th>\n",
       "      <th>population_group_code_5</th>\n",
       "      <th>population_group_code_6</th>\n",
       "      <th>population_group_code_9A</th>\n",
       "      <th>population_group_code_9B</th>\n",
       "      <th>...</th>\n",
       "      <th>offense_code_Other</th>\n",
       "      <th>victim_type_code_B</th>\n",
       "      <th>victim_type_code_F</th>\n",
       "      <th>victim_type_code_G</th>\n",
       "      <th>victim_type_code_I</th>\n",
       "      <th>victim_type_code_L</th>\n",
       "      <th>victim_type_code_O</th>\n",
       "      <th>victim_type_code_R</th>\n",
       "      <th>victim_type_code_S</th>\n",
       "      <th>victim_type_code_U</th>\n",
       "    </tr>\n",
       "  </thead>\n",
       "  <tbody>\n",
       "    <tr>\n",
       "      <th>0</th>\n",
       "      <td>0.0</td>\n",
       "      <td>0.0</td>\n",
       "      <td>0.0</td>\n",
       "      <td>0.0</td>\n",
       "      <td>0.0</td>\n",
       "      <td>0.0</td>\n",
       "      <td>0.0</td>\n",
       "      <td>0.0</td>\n",
       "      <td>0.0</td>\n",
       "      <td>0.0</td>\n",
       "      <td>...</td>\n",
       "      <td>1.0</td>\n",
       "      <td>0.0</td>\n",
       "      <td>0.0</td>\n",
       "      <td>0.0</td>\n",
       "      <td>1.0</td>\n",
       "      <td>0.0</td>\n",
       "      <td>0.0</td>\n",
       "      <td>0.0</td>\n",
       "      <td>0.0</td>\n",
       "      <td>0.0</td>\n",
       "    </tr>\n",
       "    <tr>\n",
       "      <th>1</th>\n",
       "      <td>0.0</td>\n",
       "      <td>0.0</td>\n",
       "      <td>0.0</td>\n",
       "      <td>0.0</td>\n",
       "      <td>0.0</td>\n",
       "      <td>0.0</td>\n",
       "      <td>0.0</td>\n",
       "      <td>0.0</td>\n",
       "      <td>1.0</td>\n",
       "      <td>0.0</td>\n",
       "      <td>...</td>\n",
       "      <td>0.0</td>\n",
       "      <td>0.0</td>\n",
       "      <td>0.0</td>\n",
       "      <td>0.0</td>\n",
       "      <td>1.0</td>\n",
       "      <td>0.0</td>\n",
       "      <td>0.0</td>\n",
       "      <td>0.0</td>\n",
       "      <td>0.0</td>\n",
       "      <td>0.0</td>\n",
       "    </tr>\n",
       "    <tr>\n",
       "      <th>2</th>\n",
       "      <td>0.0</td>\n",
       "      <td>0.0</td>\n",
       "      <td>0.0</td>\n",
       "      <td>0.0</td>\n",
       "      <td>0.0</td>\n",
       "      <td>0.0</td>\n",
       "      <td>0.0</td>\n",
       "      <td>0.0</td>\n",
       "      <td>1.0</td>\n",
       "      <td>0.0</td>\n",
       "      <td>...</td>\n",
       "      <td>0.0</td>\n",
       "      <td>0.0</td>\n",
       "      <td>0.0</td>\n",
       "      <td>0.0</td>\n",
       "      <td>1.0</td>\n",
       "      <td>0.0</td>\n",
       "      <td>0.0</td>\n",
       "      <td>0.0</td>\n",
       "      <td>0.0</td>\n",
       "      <td>0.0</td>\n",
       "    </tr>\n",
       "    <tr>\n",
       "      <th>3</th>\n",
       "      <td>0.0</td>\n",
       "      <td>0.0</td>\n",
       "      <td>0.0</td>\n",
       "      <td>0.0</td>\n",
       "      <td>0.0</td>\n",
       "      <td>0.0</td>\n",
       "      <td>0.0</td>\n",
       "      <td>0.0</td>\n",
       "      <td>1.0</td>\n",
       "      <td>0.0</td>\n",
       "      <td>...</td>\n",
       "      <td>0.0</td>\n",
       "      <td>0.0</td>\n",
       "      <td>0.0</td>\n",
       "      <td>0.0</td>\n",
       "      <td>1.0</td>\n",
       "      <td>0.0</td>\n",
       "      <td>0.0</td>\n",
       "      <td>0.0</td>\n",
       "      <td>0.0</td>\n",
       "      <td>0.0</td>\n",
       "    </tr>\n",
       "    <tr>\n",
       "      <th>4</th>\n",
       "      <td>0.0</td>\n",
       "      <td>0.0</td>\n",
       "      <td>0.0</td>\n",
       "      <td>0.0</td>\n",
       "      <td>0.0</td>\n",
       "      <td>0.0</td>\n",
       "      <td>0.0</td>\n",
       "      <td>0.0</td>\n",
       "      <td>1.0</td>\n",
       "      <td>0.0</td>\n",
       "      <td>...</td>\n",
       "      <td>0.0</td>\n",
       "      <td>0.0</td>\n",
       "      <td>0.0</td>\n",
       "      <td>0.0</td>\n",
       "      <td>1.0</td>\n",
       "      <td>0.0</td>\n",
       "      <td>0.0</td>\n",
       "      <td>0.0</td>\n",
       "      <td>0.0</td>\n",
       "      <td>0.0</td>\n",
       "    </tr>\n",
       "    <tr>\n",
       "      <th>5</th>\n",
       "      <td>0.0</td>\n",
       "      <td>0.0</td>\n",
       "      <td>0.0</td>\n",
       "      <td>0.0</td>\n",
       "      <td>0.0</td>\n",
       "      <td>0.0</td>\n",
       "      <td>0.0</td>\n",
       "      <td>0.0</td>\n",
       "      <td>1.0</td>\n",
       "      <td>0.0</td>\n",
       "      <td>...</td>\n",
       "      <td>0.0</td>\n",
       "      <td>0.0</td>\n",
       "      <td>0.0</td>\n",
       "      <td>0.0</td>\n",
       "      <td>1.0</td>\n",
       "      <td>0.0</td>\n",
       "      <td>0.0</td>\n",
       "      <td>0.0</td>\n",
       "      <td>0.0</td>\n",
       "      <td>0.0</td>\n",
       "    </tr>\n",
       "    <tr>\n",
       "      <th>6</th>\n",
       "      <td>0.0</td>\n",
       "      <td>0.0</td>\n",
       "      <td>0.0</td>\n",
       "      <td>0.0</td>\n",
       "      <td>0.0</td>\n",
       "      <td>0.0</td>\n",
       "      <td>0.0</td>\n",
       "      <td>0.0</td>\n",
       "      <td>1.0</td>\n",
       "      <td>0.0</td>\n",
       "      <td>...</td>\n",
       "      <td>0.0</td>\n",
       "      <td>0.0</td>\n",
       "      <td>0.0</td>\n",
       "      <td>0.0</td>\n",
       "      <td>1.0</td>\n",
       "      <td>0.0</td>\n",
       "      <td>0.0</td>\n",
       "      <td>0.0</td>\n",
       "      <td>0.0</td>\n",
       "      <td>0.0</td>\n",
       "    </tr>\n",
       "    <tr>\n",
       "      <th>7</th>\n",
       "      <td>0.0</td>\n",
       "      <td>0.0</td>\n",
       "      <td>0.0</td>\n",
       "      <td>1.0</td>\n",
       "      <td>0.0</td>\n",
       "      <td>0.0</td>\n",
       "      <td>0.0</td>\n",
       "      <td>0.0</td>\n",
       "      <td>0.0</td>\n",
       "      <td>0.0</td>\n",
       "      <td>...</td>\n",
       "      <td>0.0</td>\n",
       "      <td>0.0</td>\n",
       "      <td>0.0</td>\n",
       "      <td>0.0</td>\n",
       "      <td>1.0</td>\n",
       "      <td>0.0</td>\n",
       "      <td>0.0</td>\n",
       "      <td>0.0</td>\n",
       "      <td>0.0</td>\n",
       "      <td>0.0</td>\n",
       "    </tr>\n",
       "    <tr>\n",
       "      <th>8</th>\n",
       "      <td>0.0</td>\n",
       "      <td>0.0</td>\n",
       "      <td>0.0</td>\n",
       "      <td>1.0</td>\n",
       "      <td>0.0</td>\n",
       "      <td>0.0</td>\n",
       "      <td>0.0</td>\n",
       "      <td>0.0</td>\n",
       "      <td>0.0</td>\n",
       "      <td>0.0</td>\n",
       "      <td>...</td>\n",
       "      <td>0.0</td>\n",
       "      <td>0.0</td>\n",
       "      <td>0.0</td>\n",
       "      <td>0.0</td>\n",
       "      <td>1.0</td>\n",
       "      <td>0.0</td>\n",
       "      <td>0.0</td>\n",
       "      <td>0.0</td>\n",
       "      <td>0.0</td>\n",
       "      <td>0.0</td>\n",
       "    </tr>\n",
       "    <tr>\n",
       "      <th>9</th>\n",
       "      <td>0.0</td>\n",
       "      <td>0.0</td>\n",
       "      <td>0.0</td>\n",
       "      <td>1.0</td>\n",
       "      <td>0.0</td>\n",
       "      <td>0.0</td>\n",
       "      <td>0.0</td>\n",
       "      <td>0.0</td>\n",
       "      <td>0.0</td>\n",
       "      <td>0.0</td>\n",
       "      <td>...</td>\n",
       "      <td>0.0</td>\n",
       "      <td>0.0</td>\n",
       "      <td>0.0</td>\n",
       "      <td>0.0</td>\n",
       "      <td>1.0</td>\n",
       "      <td>0.0</td>\n",
       "      <td>0.0</td>\n",
       "      <td>0.0</td>\n",
       "      <td>0.0</td>\n",
       "      <td>0.0</td>\n",
       "    </tr>\n",
       "  </tbody>\n",
       "</table>\n",
       "<p>10 rows × 25 columns</p>\n",
       "</div>"
      ],
      "text/plain": [
       "   population_group_code_1A  population_group_code_1B  \\\n",
       "0                       0.0                       0.0   \n",
       "1                       0.0                       0.0   \n",
       "2                       0.0                       0.0   \n",
       "3                       0.0                       0.0   \n",
       "4                       0.0                       0.0   \n",
       "5                       0.0                       0.0   \n",
       "6                       0.0                       0.0   \n",
       "7                       0.0                       0.0   \n",
       "8                       0.0                       0.0   \n",
       "9                       0.0                       0.0   \n",
       "\n",
       "   population_group_code_1C  population_group_code_2  population_group_code_3  \\\n",
       "0                       0.0                      0.0                      0.0   \n",
       "1                       0.0                      0.0                      0.0   \n",
       "2                       0.0                      0.0                      0.0   \n",
       "3                       0.0                      0.0                      0.0   \n",
       "4                       0.0                      0.0                      0.0   \n",
       "5                       0.0                      0.0                      0.0   \n",
       "6                       0.0                      0.0                      0.0   \n",
       "7                       0.0                      1.0                      0.0   \n",
       "8                       0.0                      1.0                      0.0   \n",
       "9                       0.0                      1.0                      0.0   \n",
       "\n",
       "   population_group_code_4  population_group_code_5  population_group_code_6  \\\n",
       "0                      0.0                      0.0                      0.0   \n",
       "1                      0.0                      0.0                      0.0   \n",
       "2                      0.0                      0.0                      0.0   \n",
       "3                      0.0                      0.0                      0.0   \n",
       "4                      0.0                      0.0                      0.0   \n",
       "5                      0.0                      0.0                      0.0   \n",
       "6                      0.0                      0.0                      0.0   \n",
       "7                      0.0                      0.0                      0.0   \n",
       "8                      0.0                      0.0                      0.0   \n",
       "9                      0.0                      0.0                      0.0   \n",
       "\n",
       "   population_group_code_9A  population_group_code_9B  ...  \\\n",
       "0                       0.0                       0.0  ...   \n",
       "1                       1.0                       0.0  ...   \n",
       "2                       1.0                       0.0  ...   \n",
       "3                       1.0                       0.0  ...   \n",
       "4                       1.0                       0.0  ...   \n",
       "5                       1.0                       0.0  ...   \n",
       "6                       1.0                       0.0  ...   \n",
       "7                       0.0                       0.0  ...   \n",
       "8                       0.0                       0.0  ...   \n",
       "9                       0.0                       0.0  ...   \n",
       "\n",
       "   offense_code_Other  victim_type_code_B  victim_type_code_F  \\\n",
       "0                 1.0                 0.0                 0.0   \n",
       "1                 0.0                 0.0                 0.0   \n",
       "2                 0.0                 0.0                 0.0   \n",
       "3                 0.0                 0.0                 0.0   \n",
       "4                 0.0                 0.0                 0.0   \n",
       "5                 0.0                 0.0                 0.0   \n",
       "6                 0.0                 0.0                 0.0   \n",
       "7                 0.0                 0.0                 0.0   \n",
       "8                 0.0                 0.0                 0.0   \n",
       "9                 0.0                 0.0                 0.0   \n",
       "\n",
       "   victim_type_code_G  victim_type_code_I  victim_type_code_L  \\\n",
       "0                 0.0                 1.0                 0.0   \n",
       "1                 0.0                 1.0                 0.0   \n",
       "2                 0.0                 1.0                 0.0   \n",
       "3                 0.0                 1.0                 0.0   \n",
       "4                 0.0                 1.0                 0.0   \n",
       "5                 0.0                 1.0                 0.0   \n",
       "6                 0.0                 1.0                 0.0   \n",
       "7                 0.0                 1.0                 0.0   \n",
       "8                 0.0                 1.0                 0.0   \n",
       "9                 0.0                 1.0                 0.0   \n",
       "\n",
       "   victim_type_code_O  victim_type_code_R  victim_type_code_S  \\\n",
       "0                 0.0                 0.0                 0.0   \n",
       "1                 0.0                 0.0                 0.0   \n",
       "2                 0.0                 0.0                 0.0   \n",
       "3                 0.0                 0.0                 0.0   \n",
       "4                 0.0                 0.0                 0.0   \n",
       "5                 0.0                 0.0                 0.0   \n",
       "6                 0.0                 0.0                 0.0   \n",
       "7                 0.0                 0.0                 0.0   \n",
       "8                 0.0                 0.0                 0.0   \n",
       "9                 0.0                 0.0                 0.0   \n",
       "\n",
       "   victim_type_code_U  \n",
       "0                 0.0  \n",
       "1                 0.0  \n",
       "2                 0.0  \n",
       "3                 0.0  \n",
       "4                 0.0  \n",
       "5                 0.0  \n",
       "6                 0.0  \n",
       "7                 0.0  \n",
       "8                 0.0  \n",
       "9                 0.0  \n",
       "\n",
       "[10 rows x 25 columns]"
      ]
     },
     "execution_count": 11,
     "metadata": {},
     "output_type": "execute_result"
    }
   ],
   "source": [
    "# Create a OneHotEncoder instance\n",
    "enc = OneHotEncoder(sparse=False)\n",
    "\n",
    "# Fit and transform the OneHotEncoder using the categorical variable list\n",
    "encode_df = pd.DataFrame(enc.fit_transform(binaryC_df[binary_cat]))\n",
    "\n",
    "\n",
    "# Add the encoded variable names to the dataframe\n",
    "encode_df.columns = enc.get_feature_names_out(binary_cat)\n",
    "print(encode_df.shape)\n",
    "encode_df.head(10)"
   ]
  },
  {
   "cell_type": "code",
   "execution_count": 12,
   "metadata": {},
   "outputs": [],
   "source": [
    "from sklearn.preprocessing import LabelEncoder\n",
    "le = LabelEncoder()\n",
    "binaryC_df = binaryC_df.copy()\n",
    "\n",
    "binaryC_df['recovered_flag'] = le.fit_transform(binaryC_df['recovered_flag'])"
   ]
  },
  {
   "cell_type": "code",
   "execution_count": 13,
   "metadata": {},
   "outputs": [
    {
     "name": "stderr",
     "output_type": "stream",
     "text": [
      "C:\\Users\\tomok\\anaconda3\\envs\\mlenv\\lib\\site-packages\\ipykernel_launcher.py:3: FutureWarning: In a future version of pandas all arguments of DataFrame.drop except for the argument 'labels' will be keyword-only\n",
      "  This is separate from the ipykernel package so we can avoid doing imports until\n"
     ]
    },
    {
     "data": {
      "text/html": [
       "<div>\n",
       "<style scoped>\n",
       "    .dataframe tbody tr th:only-of-type {\n",
       "        vertical-align: middle;\n",
       "    }\n",
       "\n",
       "    .dataframe tbody tr th {\n",
       "        vertical-align: top;\n",
       "    }\n",
       "\n",
       "    .dataframe thead th {\n",
       "        text-align: right;\n",
       "    }\n",
       "</style>\n",
       "<table border=\"1\" class=\"dataframe\">\n",
       "  <thead>\n",
       "    <tr style=\"text-align: right;\">\n",
       "      <th></th>\n",
       "      <th>offender_age</th>\n",
       "      <th>location_code</th>\n",
       "      <th>prop_desc_code</th>\n",
       "      <th>recovered_flag</th>\n",
       "      <th>population_group_code_1A</th>\n",
       "      <th>population_group_code_1B</th>\n",
       "      <th>population_group_code_1C</th>\n",
       "      <th>population_group_code_2</th>\n",
       "      <th>population_group_code_3</th>\n",
       "      <th>population_group_code_4</th>\n",
       "      <th>...</th>\n",
       "      <th>offense_code_Other</th>\n",
       "      <th>victim_type_code_B</th>\n",
       "      <th>victim_type_code_F</th>\n",
       "      <th>victim_type_code_G</th>\n",
       "      <th>victim_type_code_I</th>\n",
       "      <th>victim_type_code_L</th>\n",
       "      <th>victim_type_code_O</th>\n",
       "      <th>victim_type_code_R</th>\n",
       "      <th>victim_type_code_S</th>\n",
       "      <th>victim_type_code_U</th>\n",
       "    </tr>\n",
       "  </thead>\n",
       "  <tbody>\n",
       "    <tr>\n",
       "      <th>0</th>\n",
       "      <td>0.0</td>\n",
       "      <td>25</td>\n",
       "      <td>20</td>\n",
       "      <td>0</td>\n",
       "      <td>0.0</td>\n",
       "      <td>0.0</td>\n",
       "      <td>0.0</td>\n",
       "      <td>0.0</td>\n",
       "      <td>0.0</td>\n",
       "      <td>0.0</td>\n",
       "      <td>...</td>\n",
       "      <td>1.0</td>\n",
       "      <td>0.0</td>\n",
       "      <td>0.0</td>\n",
       "      <td>0.0</td>\n",
       "      <td>1.0</td>\n",
       "      <td>0.0</td>\n",
       "      <td>0.0</td>\n",
       "      <td>0.0</td>\n",
       "      <td>0.0</td>\n",
       "      <td>0.0</td>\n",
       "    </tr>\n",
       "    <tr>\n",
       "      <th>1</th>\n",
       "      <td>0.0</td>\n",
       "      <td>20</td>\n",
       "      <td>77</td>\n",
       "      <td>0</td>\n",
       "      <td>0.0</td>\n",
       "      <td>0.0</td>\n",
       "      <td>0.0</td>\n",
       "      <td>0.0</td>\n",
       "      <td>0.0</td>\n",
       "      <td>0.0</td>\n",
       "      <td>...</td>\n",
       "      <td>0.0</td>\n",
       "      <td>0.0</td>\n",
       "      <td>0.0</td>\n",
       "      <td>0.0</td>\n",
       "      <td>1.0</td>\n",
       "      <td>0.0</td>\n",
       "      <td>0.0</td>\n",
       "      <td>0.0</td>\n",
       "      <td>0.0</td>\n",
       "      <td>0.0</td>\n",
       "    </tr>\n",
       "    <tr>\n",
       "      <th>2</th>\n",
       "      <td>0.0</td>\n",
       "      <td>20</td>\n",
       "      <td>65</td>\n",
       "      <td>0</td>\n",
       "      <td>0.0</td>\n",
       "      <td>0.0</td>\n",
       "      <td>0.0</td>\n",
       "      <td>0.0</td>\n",
       "      <td>0.0</td>\n",
       "      <td>0.0</td>\n",
       "      <td>...</td>\n",
       "      <td>0.0</td>\n",
       "      <td>0.0</td>\n",
       "      <td>0.0</td>\n",
       "      <td>0.0</td>\n",
       "      <td>1.0</td>\n",
       "      <td>0.0</td>\n",
       "      <td>0.0</td>\n",
       "      <td>0.0</td>\n",
       "      <td>0.0</td>\n",
       "      <td>0.0</td>\n",
       "    </tr>\n",
       "    <tr>\n",
       "      <th>3</th>\n",
       "      <td>0.0</td>\n",
       "      <td>20</td>\n",
       "      <td>13</td>\n",
       "      <td>0</td>\n",
       "      <td>0.0</td>\n",
       "      <td>0.0</td>\n",
       "      <td>0.0</td>\n",
       "      <td>0.0</td>\n",
       "      <td>0.0</td>\n",
       "      <td>0.0</td>\n",
       "      <td>...</td>\n",
       "      <td>0.0</td>\n",
       "      <td>0.0</td>\n",
       "      <td>0.0</td>\n",
       "      <td>0.0</td>\n",
       "      <td>1.0</td>\n",
       "      <td>0.0</td>\n",
       "      <td>0.0</td>\n",
       "      <td>0.0</td>\n",
       "      <td>0.0</td>\n",
       "      <td>0.0</td>\n",
       "    </tr>\n",
       "    <tr>\n",
       "      <th>4</th>\n",
       "      <td>0.0</td>\n",
       "      <td>20</td>\n",
       "      <td>77</td>\n",
       "      <td>0</td>\n",
       "      <td>0.0</td>\n",
       "      <td>0.0</td>\n",
       "      <td>0.0</td>\n",
       "      <td>0.0</td>\n",
       "      <td>0.0</td>\n",
       "      <td>0.0</td>\n",
       "      <td>...</td>\n",
       "      <td>0.0</td>\n",
       "      <td>0.0</td>\n",
       "      <td>0.0</td>\n",
       "      <td>0.0</td>\n",
       "      <td>1.0</td>\n",
       "      <td>0.0</td>\n",
       "      <td>0.0</td>\n",
       "      <td>0.0</td>\n",
       "      <td>0.0</td>\n",
       "      <td>0.0</td>\n",
       "    </tr>\n",
       "  </tbody>\n",
       "</table>\n",
       "<p>5 rows × 29 columns</p>\n",
       "</div>"
      ],
      "text/plain": [
       "   offender_age  location_code  prop_desc_code  recovered_flag  \\\n",
       "0           0.0             25              20               0   \n",
       "1           0.0             20              77               0   \n",
       "2           0.0             20              65               0   \n",
       "3           0.0             20              13               0   \n",
       "4           0.0             20              77               0   \n",
       "\n",
       "   population_group_code_1A  population_group_code_1B  \\\n",
       "0                       0.0                       0.0   \n",
       "1                       0.0                       0.0   \n",
       "2                       0.0                       0.0   \n",
       "3                       0.0                       0.0   \n",
       "4                       0.0                       0.0   \n",
       "\n",
       "   population_group_code_1C  population_group_code_2  population_group_code_3  \\\n",
       "0                       0.0                      0.0                      0.0   \n",
       "1                       0.0                      0.0                      0.0   \n",
       "2                       0.0                      0.0                      0.0   \n",
       "3                       0.0                      0.0                      0.0   \n",
       "4                       0.0                      0.0                      0.0   \n",
       "\n",
       "   population_group_code_4  ...  offense_code_Other  victim_type_code_B  \\\n",
       "0                      0.0  ...                 1.0                 0.0   \n",
       "1                      0.0  ...                 0.0                 0.0   \n",
       "2                      0.0  ...                 0.0                 0.0   \n",
       "3                      0.0  ...                 0.0                 0.0   \n",
       "4                      0.0  ...                 0.0                 0.0   \n",
       "\n",
       "   victim_type_code_F  victim_type_code_G  victim_type_code_I  \\\n",
       "0                 0.0                 0.0                 1.0   \n",
       "1                 0.0                 0.0                 1.0   \n",
       "2                 0.0                 0.0                 1.0   \n",
       "3                 0.0                 0.0                 1.0   \n",
       "4                 0.0                 0.0                 1.0   \n",
       "\n",
       "   victim_type_code_L  victim_type_code_O  victim_type_code_R  \\\n",
       "0                 0.0                 0.0                 0.0   \n",
       "1                 0.0                 0.0                 0.0   \n",
       "2                 0.0                 0.0                 0.0   \n",
       "3                 0.0                 0.0                 0.0   \n",
       "4                 0.0                 0.0                 0.0   \n",
       "\n",
       "   victim_type_code_S  victim_type_code_U  \n",
       "0                 0.0                 0.0  \n",
       "1                 0.0                 0.0  \n",
       "2                 0.0                 0.0  \n",
       "3                 0.0                 0.0  \n",
       "4                 0.0                 0.0  \n",
       "\n",
       "[5 rows x 29 columns]"
      ]
     },
     "execution_count": 13,
     "metadata": {},
     "output_type": "execute_result"
    }
   ],
   "source": [
    "# Merge one-hot encoded features and drop the originals\n",
    "binaryC_df = binaryC_df.merge(encode_df,left_index=True, right_index=True)\n",
    "binaryC_df = binaryC_df.drop(binary_cat,1)\n",
    "binaryC_df.head()"
   ]
  },
  {
   "cell_type": "code",
   "execution_count": 14,
   "metadata": {},
   "outputs": [],
   "source": [
    "# Split our preprocessed data into our features and target arrays\n",
    "y = binaryC_df.recovered_flag\n",
    "X = binaryC_df.drop(columns=['recovered_flag'])\n",
    "\n",
    "\n",
    "# Split the preprocessed data into a training and testing dataset\n",
    "X_train, X_test, y_train, y_test = train_test_split(X, y, random_state=42, stratify=y)"
   ]
  },
  {
   "cell_type": "code",
   "execution_count": 15,
   "metadata": {},
   "outputs": [],
   "source": [
    "# Create a StandardScaler instances\n",
    "scaler = StandardScaler()\n",
    "\n",
    "# Fit the StandardScaler\n",
    "X_scaler = scaler.fit(X_train)\n",
    "\n",
    "# Scale the data\n",
    "X_train_scaled = X_scaler.transform(X_train)\n",
    "X_test_scaled = X_scaler.transform(X_test)"
   ]
  },
  {
   "cell_type": "code",
   "execution_count": 16,
   "metadata": {},
   "outputs": [
    {
     "name": "stdout",
     "output_type": "stream",
     "text": [
      "Model: \"sequential\"\n",
      "_________________________________________________________________\n",
      " Layer (type)                Output Shape              Param #   \n",
      "=================================================================\n",
      " dense (Dense)               (None, 18)                522       \n",
      "                                                                 \n",
      " dense_1 (Dense)             (None, 10)                190       \n",
      "                                                                 \n",
      " dense_2 (Dense)             (None, 6)                 66        \n",
      "                                                                 \n",
      " dense_3 (Dense)             (None, 1)                 7         \n",
      "                                                                 \n",
      "=================================================================\n",
      "Total params: 785\n",
      "Trainable params: 785\n",
      "Non-trainable params: 0\n",
      "_________________________________________________________________\n"
     ]
    }
   ],
   "source": [
    "# Define the model - deep neural net, i.e., the number of input features and hidden nodes for each layer.\n",
    "number_input_features = len(X_train_scaled[0])\n",
    "hidden_nodes_layer1 = 18\n",
    "hidden_nodes_layer2 = 10\n",
    "hidden_nodes_layer3 = 6\n",
    "\n",
    "nn = tf.keras.models.Sequential()\n",
    "\n",
    "# First hidden layer\n",
    "nn.add(\n",
    "    tf.keras.layers.Dense(units=hidden_nodes_layer1, input_dim=number_input_features, activation=\"relu\")\n",
    ")\n",
    "\n",
    "# Second hidden layer\n",
    "nn.add(tf.keras.layers.Dense(units=hidden_nodes_layer2, activation=\"relu\"))\n",
    "\n",
    "# Third hidden layer\n",
    "nn.add(tf.keras.layers.Dense(units=hidden_nodes_layer3, activation=\"relu\"))\n",
    "\n",
    "# Output layer\n",
    "nn.add(tf.keras.layers.Dense(units=1, activation=\"sigmoid\")) \n",
    "\n",
    "# Check the structure of the model\n",
    "nn.summary()"
   ]
  },
  {
   "cell_type": "code",
   "execution_count": 17,
   "metadata": {},
   "outputs": [],
   "source": [
    "# Compile the model\n",
    "nn.compile(loss=\"binary_crossentropy\", optimizer=\"adam\", metrics=[\"accuracy\"])"
   ]
  },
  {
   "cell_type": "code",
   "execution_count": 18,
   "metadata": {},
   "outputs": [
    {
     "name": "stdout",
     "output_type": "stream",
     "text": [
      "Epoch 1/100\n",
      "2882/2882 [==============================] - 7s 2ms/step - loss: 0.3683 - accuracy: 0.8541\n",
      "Epoch 2/100\n",
      "2882/2882 [==============================] - 6s 2ms/step - loss: 0.3447 - accuracy: 0.8620\n",
      "Epoch 3/100\n",
      "2882/2882 [==============================] - 5s 2ms/step - loss: 0.3409 - accuracy: 0.8631\n",
      "Epoch 4/100\n",
      "2882/2882 [==============================] - 6s 2ms/step - loss: 0.3385 - accuracy: 0.8645\n",
      "Epoch 5/100\n",
      "2882/2882 [==============================] - 5s 2ms/step - loss: 0.3371 - accuracy: 0.8651\n",
      "Epoch 6/100\n",
      "2882/2882 [==============================] - 5s 2ms/step - loss: 0.3360 - accuracy: 0.8646\n",
      "Epoch 7/100\n",
      "2882/2882 [==============================] - 6s 2ms/step - loss: 0.3349 - accuracy: 0.8657\n",
      "Epoch 8/100\n",
      "2882/2882 [==============================] - 6s 2ms/step - loss: 0.3341 - accuracy: 0.8662\n",
      "Epoch 9/100\n",
      "2882/2882 [==============================] - 6s 2ms/step - loss: 0.3335 - accuracy: 0.8665\n",
      "Epoch 10/100\n",
      "2882/2882 [==============================] - 6s 2ms/step - loss: 0.3331 - accuracy: 0.8661\n",
      "Epoch 11/100\n",
      "2882/2882 [==============================] - 5s 2ms/step - loss: 0.3327 - accuracy: 0.8667\n",
      "Epoch 12/100\n",
      "2882/2882 [==============================] - 5s 2ms/step - loss: 0.3323 - accuracy: 0.8665\n",
      "Epoch 13/100\n",
      "2882/2882 [==============================] - 5s 2ms/step - loss: 0.3320 - accuracy: 0.8670\n",
      "Epoch 14/100\n",
      "2882/2882 [==============================] - 5s 2ms/step - loss: 0.3314 - accuracy: 0.8674\n",
      "Epoch 15/100\n",
      "2882/2882 [==============================] - 5s 2ms/step - loss: 0.3313 - accuracy: 0.8673\n",
      "Epoch 16/100\n",
      "2882/2882 [==============================] - 6s 2ms/step - loss: 0.3305 - accuracy: 0.8672\n",
      "Epoch 17/100\n",
      "2882/2882 [==============================] - 6s 2ms/step - loss: 0.3305 - accuracy: 0.8671\n",
      "Epoch 18/100\n",
      "2882/2882 [==============================] - 6s 2ms/step - loss: 0.3305 - accuracy: 0.8675\n",
      "Epoch 19/100\n",
      "2882/2882 [==============================] - 5s 2ms/step - loss: 0.3298 - accuracy: 0.8675\n",
      "Epoch 20/100\n",
      "2882/2882 [==============================] - 5s 2ms/step - loss: 0.3296 - accuracy: 0.8677\n",
      "Epoch 21/100\n",
      "2882/2882 [==============================] - 6s 2ms/step - loss: 0.3294 - accuracy: 0.8679\n",
      "Epoch 22/100\n",
      "2882/2882 [==============================] - 6s 2ms/step - loss: 0.3293 - accuracy: 0.8682\n",
      "Epoch 23/100\n",
      "2882/2882 [==============================] - 6s 2ms/step - loss: 0.3290 - accuracy: 0.8681\n",
      "Epoch 24/100\n",
      "2882/2882 [==============================] - 6s 2ms/step - loss: 0.3284 - accuracy: 0.8685\n",
      "Epoch 25/100\n",
      "2882/2882 [==============================] - 5s 2ms/step - loss: 0.3283 - accuracy: 0.8679\n",
      "Epoch 26/100\n",
      "2882/2882 [==============================] - 6s 2ms/step - loss: 0.3280 - accuracy: 0.8688\n",
      "Epoch 27/100\n",
      "2882/2882 [==============================] - 6s 2ms/step - loss: 0.3282 - accuracy: 0.8688\n",
      "Epoch 28/100\n",
      "2882/2882 [==============================] - 6s 2ms/step - loss: 0.3281 - accuracy: 0.8680\n",
      "Epoch 29/100\n",
      "2882/2882 [==============================] - 6s 2ms/step - loss: 0.3276 - accuracy: 0.8687\n",
      "Epoch 30/100\n",
      "2882/2882 [==============================] - 6s 2ms/step - loss: 0.3277 - accuracy: 0.8684\n",
      "Epoch 31/100\n",
      "2882/2882 [==============================] - 6s 2ms/step - loss: 0.3275 - accuracy: 0.8682\n",
      "Epoch 32/100\n",
      "2882/2882 [==============================] - 6s 2ms/step - loss: 0.3270 - accuracy: 0.8687\n",
      "Epoch 33/100\n",
      "2882/2882 [==============================] - 6s 2ms/step - loss: 0.3270 - accuracy: 0.8686\n",
      "Epoch 34/100\n",
      "2882/2882 [==============================] - 6s 2ms/step - loss: 0.3270 - accuracy: 0.8688\n",
      "Epoch 35/100\n",
      "2882/2882 [==============================] - 5s 2ms/step - loss: 0.3266 - accuracy: 0.8689\n",
      "Epoch 36/100\n",
      "2882/2882 [==============================] - 5s 2ms/step - loss: 0.3264 - accuracy: 0.8686\n",
      "Epoch 37/100\n",
      "2882/2882 [==============================] - 5s 2ms/step - loss: 0.3266 - accuracy: 0.8687\n",
      "Epoch 38/100\n",
      "2882/2882 [==============================] - 5s 2ms/step - loss: 0.3262 - accuracy: 0.8687\n",
      "Epoch 39/100\n",
      "2882/2882 [==============================] - 5s 2ms/step - loss: 0.3262 - accuracy: 0.8690\n",
      "Epoch 40/100\n",
      "2882/2882 [==============================] - 6s 2ms/step - loss: 0.3260 - accuracy: 0.8687\n",
      "Epoch 41/100\n",
      "2882/2882 [==============================] - 6s 2ms/step - loss: 0.3261 - accuracy: 0.8691\n",
      "Epoch 42/100\n",
      "2882/2882 [==============================] - 6s 2ms/step - loss: 0.3260 - accuracy: 0.8688\n",
      "Epoch 43/100\n",
      "2882/2882 [==============================] - 6s 2ms/step - loss: 0.3258 - accuracy: 0.8689\n",
      "Epoch 44/100\n",
      "2882/2882 [==============================] - 6s 2ms/step - loss: 0.3255 - accuracy: 0.8690\n",
      "Epoch 45/100\n",
      "2882/2882 [==============================] - 6s 2ms/step - loss: 0.3256 - accuracy: 0.8698\n",
      "Epoch 46/100\n",
      "2882/2882 [==============================] - 6s 2ms/step - loss: 0.3251 - accuracy: 0.8694\n",
      "Epoch 47/100\n",
      "2882/2882 [==============================] - 6s 2ms/step - loss: 0.3252 - accuracy: 0.8694\n",
      "Epoch 48/100\n",
      "2882/2882 [==============================] - 6s 2ms/step - loss: 0.3251 - accuracy: 0.8698\n",
      "Epoch 49/100\n",
      "2882/2882 [==============================] - 6s 2ms/step - loss: 0.3248 - accuracy: 0.8709\n",
      "Epoch 50/100\n",
      "2882/2882 [==============================] - 5s 2ms/step - loss: 0.3249 - accuracy: 0.8700\n",
      "Epoch 51/100\n",
      "2882/2882 [==============================] - 6s 2ms/step - loss: 0.3246 - accuracy: 0.8696\n",
      "Epoch 52/100\n",
      "2882/2882 [==============================] - 5s 2ms/step - loss: 0.3249 - accuracy: 0.8697\n",
      "Epoch 53/100\n",
      "2882/2882 [==============================] - 6s 2ms/step - loss: 0.3248 - accuracy: 0.8696\n",
      "Epoch 54/100\n",
      "2882/2882 [==============================] - 6s 2ms/step - loss: 0.3246 - accuracy: 0.8699\n",
      "Epoch 55/100\n",
      "2882/2882 [==============================] - 6s 2ms/step - loss: 0.3245 - accuracy: 0.8699\n",
      "Epoch 56/100\n",
      "2882/2882 [==============================] - 6s 2ms/step - loss: 0.3244 - accuracy: 0.8697\n",
      "Epoch 57/100\n",
      "2882/2882 [==============================] - 5s 2ms/step - loss: 0.3241 - accuracy: 0.8697\n",
      "Epoch 58/100\n",
      "2882/2882 [==============================] - 5s 2ms/step - loss: 0.3243 - accuracy: 0.8701\n",
      "Epoch 59/100\n",
      "2882/2882 [==============================] - 6s 2ms/step - loss: 0.3239 - accuracy: 0.8702\n",
      "Epoch 60/100\n",
      "2882/2882 [==============================] - 6s 2ms/step - loss: 0.3242 - accuracy: 0.8702\n",
      "Epoch 61/100\n",
      "2882/2882 [==============================] - 5s 2ms/step - loss: 0.3236 - accuracy: 0.8705\n",
      "Epoch 62/100\n",
      "2882/2882 [==============================] - 6s 2ms/step - loss: 0.3237 - accuracy: 0.8701\n",
      "Epoch 63/100\n",
      "2882/2882 [==============================] - 6s 2ms/step - loss: 0.3237 - accuracy: 0.8701\n",
      "Epoch 64/100\n",
      "2882/2882 [==============================] - 6s 2ms/step - loss: 0.3238 - accuracy: 0.8702\n",
      "Epoch 65/100\n",
      "2882/2882 [==============================] - 6s 2ms/step - loss: 0.3234 - accuracy: 0.8698\n",
      "Epoch 66/100\n",
      "2882/2882 [==============================] - 6s 2ms/step - loss: 0.3234 - accuracy: 0.8700\n",
      "Epoch 67/100\n",
      "2882/2882 [==============================] - 6s 2ms/step - loss: 0.3231 - accuracy: 0.8703\n",
      "Epoch 68/100\n",
      "2882/2882 [==============================] - 6s 2ms/step - loss: 0.3234 - accuracy: 0.8700\n",
      "Epoch 69/100\n",
      "2882/2882 [==============================] - 6s 2ms/step - loss: 0.3232 - accuracy: 0.8701\n",
      "Epoch 70/100\n",
      "2882/2882 [==============================] - 6s 2ms/step - loss: 0.3230 - accuracy: 0.8705\n",
      "Epoch 71/100\n",
      "2882/2882 [==============================] - 6s 2ms/step - loss: 0.3228 - accuracy: 0.8705\n",
      "Epoch 72/100\n",
      "2882/2882 [==============================] - 6s 2ms/step - loss: 0.3230 - accuracy: 0.8706\n",
      "Epoch 73/100\n",
      "2882/2882 [==============================] - 6s 2ms/step - loss: 0.3228 - accuracy: 0.8706\n",
      "Epoch 74/100\n",
      "2882/2882 [==============================] - 6s 2ms/step - loss: 0.3227 - accuracy: 0.8704\n",
      "Epoch 75/100\n",
      "2882/2882 [==============================] - 5s 2ms/step - loss: 0.3226 - accuracy: 0.8708\n",
      "Epoch 76/100\n",
      "2882/2882 [==============================] - 5s 2ms/step - loss: 0.3228 - accuracy: 0.8707\n",
      "Epoch 77/100\n",
      "2882/2882 [==============================] - 5s 2ms/step - loss: 0.3224 - accuracy: 0.8704\n",
      "Epoch 78/100\n",
      "2882/2882 [==============================] - 5s 2ms/step - loss: 0.3225 - accuracy: 0.8712\n",
      "Epoch 79/100\n"
     ]
    },
    {
     "name": "stdout",
     "output_type": "stream",
     "text": [
      "2882/2882 [==============================] - 6s 2ms/step - loss: 0.3225 - accuracy: 0.8707\n",
      "Epoch 80/100\n",
      "2882/2882 [==============================] - 6s 2ms/step - loss: 0.3224 - accuracy: 0.8709\n",
      "Epoch 81/100\n",
      "2882/2882 [==============================] - 6s 2ms/step - loss: 0.3223 - accuracy: 0.8714\n",
      "Epoch 82/100\n",
      "2882/2882 [==============================] - 6s 2ms/step - loss: 0.3225 - accuracy: 0.8705\n",
      "Epoch 83/100\n",
      "2882/2882 [==============================] - 6s 2ms/step - loss: 0.3221 - accuracy: 0.8708\n",
      "Epoch 84/100\n",
      "2882/2882 [==============================] - 6s 2ms/step - loss: 0.3220 - accuracy: 0.8712\n",
      "Epoch 85/100\n",
      "2882/2882 [==============================] - 6s 2ms/step - loss: 0.3219 - accuracy: 0.8707\n",
      "Epoch 86/100\n",
      "2882/2882 [==============================] - 6s 2ms/step - loss: 0.3223 - accuracy: 0.8705\n",
      "Epoch 87/100\n",
      "2882/2882 [==============================] - 6s 2ms/step - loss: 0.3220 - accuracy: 0.8708\n",
      "Epoch 88/100\n",
      "2882/2882 [==============================] - 6s 2ms/step - loss: 0.3220 - accuracy: 0.8710\n",
      "Epoch 89/100\n",
      "2882/2882 [==============================] - 6s 2ms/step - loss: 0.3218 - accuracy: 0.8704\n",
      "Epoch 90/100\n",
      "2882/2882 [==============================] - 6s 2ms/step - loss: 0.3218 - accuracy: 0.8710\n",
      "Epoch 91/100\n",
      "2882/2882 [==============================] - 6s 2ms/step - loss: 0.3219 - accuracy: 0.8713\n",
      "Epoch 92/100\n",
      "2882/2882 [==============================] - 5s 2ms/step - loss: 0.3220 - accuracy: 0.8706\n",
      "Epoch 93/100\n",
      "2882/2882 [==============================] - 6s 2ms/step - loss: 0.3216 - accuracy: 0.8705\n",
      "Epoch 94/100\n",
      "2882/2882 [==============================] - 6s 2ms/step - loss: 0.3218 - accuracy: 0.8707\n",
      "Epoch 95/100\n",
      "2882/2882 [==============================] - 5s 2ms/step - loss: 0.3214 - accuracy: 0.8709\n",
      "Epoch 96/100\n",
      "2882/2882 [==============================] - 5s 2ms/step - loss: 0.3217 - accuracy: 0.8706\n",
      "Epoch 97/100\n",
      "2882/2882 [==============================] - 6s 2ms/step - loss: 0.3215 - accuracy: 0.8706\n",
      "Epoch 98/100\n",
      "2882/2882 [==============================] - 5s 2ms/step - loss: 0.3216 - accuracy: 0.8710\n",
      "Epoch 99/100\n",
      "2882/2882 [==============================] - 6s 2ms/step - loss: 0.3217 - accuracy: 0.8707\n",
      "Epoch 100/100\n",
      "2882/2882 [==============================] - 6s 2ms/step - loss: 0.3217 - accuracy: 0.8709\n"
     ]
    }
   ],
   "source": [
    "# Train the model\n",
    "fit_model = nn.fit(X_train_scaled, y_train, epochs=100)"
   ]
  },
  {
   "cell_type": "code",
   "execution_count": 19,
   "metadata": {},
   "outputs": [
    {
     "name": "stdout",
     "output_type": "stream",
     "text": [
      "961/961 - 1s - loss: 0.3313 - accuracy: 0.8658 - 1s/epoch - 1ms/step\n",
      "Loss: 0.3313010036945343, Accuracy: 0.8658381700515747\n"
     ]
    }
   ],
   "source": [
    "# Evaluate the model using the test data\n",
    "model_loss, model_accuracy = nn.evaluate(X_test_scaled,y_test,verbose=2)\n",
    "print(f\"Loss: {model_loss}, Accuracy: {model_accuracy}\")"
   ]
  },
  {
   "cell_type": "code",
   "execution_count": null,
   "metadata": {},
   "outputs": [],
   "source": []
  },
  {
   "cell_type": "code",
   "execution_count": null,
   "metadata": {},
   "outputs": [],
   "source": []
  },
  {
   "cell_type": "code",
   "execution_count": null,
   "metadata": {},
   "outputs": [],
   "source": []
  },
  {
   "cell_type": "code",
   "execution_count": null,
   "metadata": {},
   "outputs": [],
   "source": []
  },
  {
   "cell_type": "code",
   "execution_count": null,
   "metadata": {},
   "outputs": [],
   "source": []
  },
  {
   "cell_type": "markdown",
   "metadata": {},
   "source": [
    "### The model's weights are saved every 5 epochs and export your results to an HDF5 file"
   ]
  },
  {
   "cell_type": "code",
   "execution_count": null,
   "metadata": {},
   "outputs": [],
   "source": [
    "# Import checkpoint dependencies\n",
    "import os \n",
    "from tensorflow.keras.callbacks import ModelCheckpoint\n",
    "\n",
    "# Define the checkpoint path and filenames\n",
    "os.makedirs(\"checkpoints/\",exist_ok=True)\n",
    "checkpoint_path = \"checkpoints/weights.{epoch:n}.hdf5\""
   ]
  },
  {
   "cell_type": "code",
   "execution_count": null,
   "metadata": {},
   "outputs": [],
   "source": [
    "# Compile the model\n",
    "nn.compile(loss=\"binary_crossentropy\", optimizer=\"adam\", metrics=[\"accuracy\"])\n",
    "\n",
    "# Create a callback that saves the model's weights every epoch\n",
    "cp_callback = ModelCheckpoint(\n",
    "    filepath=checkpoint_path,\n",
    "    verbose=1,\n",
    "    save_weights_only=True,\n",
    "    save_freq='epoch')\n",
    "\n",
    "# Train the model\n",
    "fit_model = nn.fit(X_train_scaled,y_train,epochs=100,callbacks=[cp_callback])\n",
    "\n",
    "# Evaluate the model using the test data\n",
    "model_loss, model_accuracy = nn.evaluate(X_test_scaled,y_test,verbose=2)\n",
    "print(f\"Loss: {model_loss}, Accuracy: {model_accuracy}\")"
   ]
  },
  {
   "cell_type": "code",
   "execution_count": null,
   "metadata": {},
   "outputs": [],
   "source": [
    "# Define the model - deep neural net\n",
    "number_input_features = len(X_train_scaled[0])\n",
    "hidden_nodes_layer1 = 18\n",
    "hidden_nodes_layer2 = 10\n",
    "\n",
    "nn_new = tf.keras.models.Sequential()\n",
    "\n",
    "# First hidden layer\n",
    "nn_new.add(\n",
    "    tf.keras.layers.Dense(units=hidden_nodes_layer1, input_dim=number_input_features, activation=\"relu\")\n",
    ")\n",
    "\n",
    "# Second hidden layer\n",
    "nn_new.add(tf.keras.layers.Dense(units=hidden_nodes_layer2, activation=\"relu\"))\n",
    "\n",
    "# Output layer\n",
    "nn_new.add(tf.keras.layers.Dense(units=1, activation=\"sigmoid\"))\n",
    "\n",
    "# Compile the model\n",
    "nn_new.compile(loss=\"binary_crossentropy\", optimizer=\"adam\", metrics=[\"accuracy\"])\n",
    "\n",
    "# Restore the model weights\n",
    "nn_new.load_weights(\"checkpoints/weights.5.hdf5\")\n",
    "\n",
    "# Evaluate the model using the test data\n",
    "model_loss, model_accuracy = nn_new.evaluate(X_test_scaled,y_test,verbose=2)\n",
    "print(f\"Loss: {model_loss}, Accuracy: {model_accuracy}\")"
   ]
  },
  {
   "cell_type": "code",
   "execution_count": null,
   "metadata": {},
   "outputs": [],
   "source": [
    "# Export our model to HDF5 file\n",
    "nn_new.save(\"Cargotheft.h5\")"
   ]
  },
  {
   "cell_type": "code",
   "execution_count": null,
   "metadata": {},
   "outputs": [],
   "source": [
    "# Import the model to a new object\n",
    "nn_imported = tf.keras.models.load_model('Cargotheft.h5')"
   ]
  },
  {
   "cell_type": "code",
   "execution_count": null,
   "metadata": {},
   "outputs": [],
   "source": [
    "# Evaluate the completed model using the test data\n",
    "model_loss, model_accuracy = nn_imported.evaluate(X_test_scaled,y_test,verbose=2)\n",
    "print(f\"Loss: {model_loss}, Accuracy: {model_accuracy}\")"
   ]
  },
  {
   "cell_type": "code",
   "execution_count": null,
   "metadata": {},
   "outputs": [],
   "source": []
  },
  {
   "cell_type": "code",
   "execution_count": null,
   "metadata": {},
   "outputs": [],
   "source": []
  }
 ],
 "metadata": {
  "file_extension": ".py",
  "kernelspec": {
   "display_name": "Python 3 (ipykernel)",
   "language": "python",
   "name": "python3"
  },
  "language_info": {
   "codemirror_mode": {
    "name": "ipython",
    "version": 3
   },
   "file_extension": ".py",
   "mimetype": "text/x-python",
   "name": "python",
   "nbconvert_exporter": "python",
   "pygments_lexer": "ipython3",
   "version": "3.7.15"
  },
  "latex_envs": {
   "LaTeX_envs_menu_present": true,
   "autoclose": false,
   "autocomplete": true,
   "bibliofile": "biblio.bib",
   "cite_by": "apalike",
   "current_citInitial": 1,
   "eqLabelWithNumbers": true,
   "eqNumInitial": 1,
   "hotkeys": {
    "equation": "Ctrl-E",
    "itemize": "Ctrl-I"
   },
   "labels_anchors": false,
   "latex_user_defs": false,
   "report_style_numbering": false,
   "user_envs_cfg": false
  },
  "mimetype": "text/x-python",
  "name": "python",
  "npconvert_exporter": "python",
  "pygments_lexer": "ipython3",
  "version": 3
 },
 "nbformat": 4,
 "nbformat_minor": 2
}
