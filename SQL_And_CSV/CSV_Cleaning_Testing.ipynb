{
 "cells": [
  {
   "cell_type": "code",
   "execution_count": 1,
   "id": "729df5b8",
   "metadata": {},
   "outputs": [],
   "source": [
    "import pandas as pd\n",
    "import numpy as np"
   ]
  },
  {
   "cell_type": "code",
   "execution_count": 3,
   "id": "d145ccef",
   "metadata": {},
   "outputs": [
    {
     "data": {
      "text/html": [
       "<div>\n",
       "<style scoped>\n",
       "    .dataframe tbody tr th:only-of-type {\n",
       "        vertical-align: middle;\n",
       "    }\n",
       "\n",
       "    .dataframe tbody tr th {\n",
       "        vertical-align: top;\n",
       "    }\n",
       "\n",
       "    .dataframe thead th {\n",
       "        text-align: right;\n",
       "    }\n",
       "</style>\n",
       "<table border=\"1\" class=\"dataframe\">\n",
       "  <thead>\n",
       "    <tr style=\"text-align: right;\">\n",
       "      <th></th>\n",
       "      <th>data_year</th>\n",
       "      <th>ori</th>\n",
       "      <th>pub_agency_name</th>\n",
       "      <th>pub_agency_unit</th>\n",
       "      <th>agency_type_name</th>\n",
       "      <th>state_abbr</th>\n",
       "      <th>state_name</th>\n",
       "      <th>division_name</th>\n",
       "      <th>county_name</th>\n",
       "      <th>region_name</th>\n",
       "      <th>...</th>\n",
       "      <th>weapon_code</th>\n",
       "      <th>weapon_name</th>\n",
       "      <th>prop_desc_code</th>\n",
       "      <th>data_year.1</th>\n",
       "      <th>prop_desc_code.1</th>\n",
       "      <th>prop_desc_name</th>\n",
       "      <th>stolen_value</th>\n",
       "      <th>recovered_value</th>\n",
       "      <th>recovered_flag</th>\n",
       "      <th>date_recovered</th>\n",
       "    </tr>\n",
       "  </thead>\n",
       "  <tbody>\n",
       "    <tr>\n",
       "      <th>0</th>\n",
       "      <td>2021</td>\n",
       "      <td>TX0030000</td>\n",
       "      <td>Angelina</td>\n",
       "      <td>NaN</td>\n",
       "      <td>County</td>\n",
       "      <td>TX</td>\n",
       "      <td>Texas</td>\n",
       "      <td>West South Central</td>\n",
       "      <td>ANGELINA</td>\n",
       "      <td>South</td>\n",
       "      <td>...</td>\n",
       "      <td>NaN</td>\n",
       "      <td>NaN</td>\n",
       "      <td>20</td>\n",
       "      <td>2021</td>\n",
       "      <td>20</td>\n",
       "      <td>Money</td>\n",
       "      <td>375.0</td>\n",
       "      <td>0</td>\n",
       "      <td>False</td>\n",
       "      <td>NaN</td>\n",
       "    </tr>\n",
       "    <tr>\n",
       "      <th>1</th>\n",
       "      <td>2021</td>\n",
       "      <td>AL0010000</td>\n",
       "      <td>Jefferson</td>\n",
       "      <td>NaN</td>\n",
       "      <td>County</td>\n",
       "      <td>AL</td>\n",
       "      <td>Alabama</td>\n",
       "      <td>East South Central</td>\n",
       "      <td>JEFFERSON</td>\n",
       "      <td>South</td>\n",
       "      <td>...</td>\n",
       "      <td>NaN</td>\n",
       "      <td>NaN</td>\n",
       "      <td>77</td>\n",
       "      <td>2021</td>\n",
       "      <td>77</td>\n",
       "      <td>Other</td>\n",
       "      <td>1.0</td>\n",
       "      <td>0</td>\n",
       "      <td>False</td>\n",
       "      <td>NaN</td>\n",
       "    </tr>\n",
       "    <tr>\n",
       "      <th>2</th>\n",
       "      <td>2021</td>\n",
       "      <td>AL0010000</td>\n",
       "      <td>Jefferson</td>\n",
       "      <td>NaN</td>\n",
       "      <td>County</td>\n",
       "      <td>AL</td>\n",
       "      <td>Alabama</td>\n",
       "      <td>East South Central</td>\n",
       "      <td>JEFFERSON</td>\n",
       "      <td>South</td>\n",
       "      <td>...</td>\n",
       "      <td>NaN</td>\n",
       "      <td>NaN</td>\n",
       "      <td>65</td>\n",
       "      <td>2021</td>\n",
       "      <td>65</td>\n",
       "      <td>Identity Documents</td>\n",
       "      <td>0.0</td>\n",
       "      <td>0</td>\n",
       "      <td>False</td>\n",
       "      <td>NaN</td>\n",
       "    </tr>\n",
       "    <tr>\n",
       "      <th>3</th>\n",
       "      <td>2021</td>\n",
       "      <td>AL0010000</td>\n",
       "      <td>Jefferson</td>\n",
       "      <td>NaN</td>\n",
       "      <td>County</td>\n",
       "      <td>AL</td>\n",
       "      <td>Alabama</td>\n",
       "      <td>East South Central</td>\n",
       "      <td>JEFFERSON</td>\n",
       "      <td>South</td>\n",
       "      <td>...</td>\n",
       "      <td>NaN</td>\n",
       "      <td>NaN</td>\n",
       "      <td>13</td>\n",
       "      <td>2021</td>\n",
       "      <td>13</td>\n",
       "      <td>Firearms</td>\n",
       "      <td>320.0</td>\n",
       "      <td>0</td>\n",
       "      <td>False</td>\n",
       "      <td>NaN</td>\n",
       "    </tr>\n",
       "    <tr>\n",
       "      <th>4</th>\n",
       "      <td>2021</td>\n",
       "      <td>AL0010000</td>\n",
       "      <td>Jefferson</td>\n",
       "      <td>NaN</td>\n",
       "      <td>County</td>\n",
       "      <td>AL</td>\n",
       "      <td>Alabama</td>\n",
       "      <td>East South Central</td>\n",
       "      <td>JEFFERSON</td>\n",
       "      <td>South</td>\n",
       "      <td>...</td>\n",
       "      <td>NaN</td>\n",
       "      <td>NaN</td>\n",
       "      <td>77</td>\n",
       "      <td>2021</td>\n",
       "      <td>77</td>\n",
       "      <td>Other</td>\n",
       "      <td>1.0</td>\n",
       "      <td>0</td>\n",
       "      <td>False</td>\n",
       "      <td>NaN</td>\n",
       "    </tr>\n",
       "  </tbody>\n",
       "</table>\n",
       "<p>5 rows × 32 columns</p>\n",
       "</div>"
      ],
      "text/plain": [
       "   data_year        ori pub_agency_name pub_agency_unit agency_type_name  \\\n",
       "0       2021  TX0030000        Angelina             NaN           County   \n",
       "1       2021  AL0010000       Jefferson             NaN           County   \n",
       "2       2021  AL0010000       Jefferson             NaN           County   \n",
       "3       2021  AL0010000       Jefferson             NaN           County   \n",
       "4       2021  AL0010000       Jefferson             NaN           County   \n",
       "\n",
       "  state_abbr state_name       division_name county_name region_name  ...  \\\n",
       "0         TX      Texas  West South Central    ANGELINA       South  ...   \n",
       "1         AL    Alabama  East South Central   JEFFERSON       South  ...   \n",
       "2         AL    Alabama  East South Central   JEFFERSON       South  ...   \n",
       "3         AL    Alabama  East South Central   JEFFERSON       South  ...   \n",
       "4         AL    Alabama  East South Central   JEFFERSON       South  ...   \n",
       "\n",
       "  weapon_code weapon_name prop_desc_code data_year.1 prop_desc_code.1  \\\n",
       "0         NaN         NaN             20        2021               20   \n",
       "1         NaN         NaN             77        2021               77   \n",
       "2         NaN         NaN             65        2021               65   \n",
       "3         NaN         NaN             13        2021               13   \n",
       "4         NaN         NaN             77        2021               77   \n",
       "\n",
       "       prop_desc_name  stolen_value recovered_value recovered_flag  \\\n",
       "0               Money         375.0               0          False   \n",
       "1               Other           1.0               0          False   \n",
       "2  Identity Documents           0.0               0          False   \n",
       "3            Firearms         320.0               0          False   \n",
       "4               Other           1.0               0          False   \n",
       "\n",
       "  date_recovered  \n",
       "0            NaN  \n",
       "1            NaN  \n",
       "2            NaN  \n",
       "3            NaN  \n",
       "4            NaN  \n",
       "\n",
       "[5 rows x 32 columns]"
      ]
     },
     "execution_count": 3,
     "metadata": {},
     "output_type": "execute_result"
    }
   ],
   "source": [
    "#Importing original csv\n",
    "\n",
    "fbi_og = pd.read_csv(\"FBIDataSetOriginal.csv\")\n",
    "fbi_og.head()"
   ]
  },
  {
   "cell_type": "code",
   "execution_count": 5,
   "id": "8ab46cff",
   "metadata": {},
   "outputs": [
    {
     "data": {
      "text/plain": [
       "data_year                  int64\n",
       "ori                       object\n",
       "pub_agency_name           object\n",
       "pub_agency_unit           object\n",
       "agency_type_name          object\n",
       "state_abbr                object\n",
       "state_name                object\n",
       "division_name             object\n",
       "county_name               object\n",
       "region_name               object\n",
       "population_group_code     object\n",
       "population_group_desc     object\n",
       "offense_code              object\n",
       "offense_name              object\n",
       "offender_race             object\n",
       "offender_ethnicity        object\n",
       "offender_age             float64\n",
       "offender_sex              object\n",
       "victim_type_code          object\n",
       "victim_type_name          object\n",
       "location_code              int64\n",
       "location_name             object\n",
       "weapon_code               object\n",
       "weapon_name               object\n",
       "prop_desc_code             int64\n",
       "data_year.1                int64\n",
       "prop_desc_code.1           int64\n",
       "prop_desc_name            object\n",
       "stolen_value             float64\n",
       "recovered_value            int64\n",
       "recovered_flag              bool\n",
       "date_recovered            object\n",
       "dtype: object"
      ]
     },
     "execution_count": 5,
     "metadata": {},
     "output_type": "execute_result"
    }
   ],
   "source": [
    "#printing out datatypes for ERD and SQL purposes\n",
    "\n",
    "fbi_og.dtypes"
   ]
  },
  {
   "cell_type": "code",
   "execution_count": 12,
   "id": "1226216b",
   "metadata": {},
   "outputs": [
    {
     "data": {
      "text/plain": [
       "data_year                     0\n",
       "ori                           0\n",
       "pub_agency_name               0\n",
       "pub_agency_unit          150070\n",
       "agency_type_name              0\n",
       "state_abbr                    0\n",
       "state_name                    0\n",
       "division_name                 0\n",
       "county_name                   0\n",
       "region_name                   0\n",
       "population_group_code         6\n",
       "population_group_desc         6\n",
       "offense_code                  0\n",
       "offense_name                  0\n",
       "offender_race             68219\n",
       "offender_ethnicity        68219\n",
       "offender_age              72765\n",
       "offender_sex              68219\n",
       "victim_type_code              0\n",
       "victim_type_name              0\n",
       "location_code                 0\n",
       "location_name                 0\n",
       "weapon_code              138505\n",
       "weapon_name              138505\n",
       "prop_desc_code                0\n",
       "data_year.1                   0\n",
       "prop_desc_code.1              0\n",
       "prop_desc_name                0\n",
       "stolen_value                271\n",
       "recovered_value               0\n",
       "recovered_flag                0\n",
       "date_recovered           130021\n",
       "dtype: int64"
      ]
     },
     "execution_count": 12,
     "metadata": {},
     "output_type": "execute_result"
    }
   ],
   "source": [
    "#Observing null values and where they are.\n",
    "fbi_og.isna().sum()"
   ]
  },
  {
   "cell_type": "code",
   "execution_count": 19,
   "id": "1a73ec5a",
   "metadata": {},
   "outputs": [
    {
     "data": {
      "text/html": [
       "<div>\n",
       "<style scoped>\n",
       "    .dataframe tbody tr th:only-of-type {\n",
       "        vertical-align: middle;\n",
       "    }\n",
       "\n",
       "    .dataframe tbody tr th {\n",
       "        vertical-align: top;\n",
       "    }\n",
       "\n",
       "    .dataframe thead th {\n",
       "        text-align: right;\n",
       "    }\n",
       "</style>\n",
       "<table border=\"1\" class=\"dataframe\">\n",
       "  <thead>\n",
       "    <tr style=\"text-align: right;\">\n",
       "      <th></th>\n",
       "      <th>data_year</th>\n",
       "      <th>pub_agency_name</th>\n",
       "      <th>agency_type_name</th>\n",
       "      <th>state_abbr</th>\n",
       "      <th>division_name</th>\n",
       "      <th>county_name</th>\n",
       "      <th>region_name</th>\n",
       "      <th>population_group_code</th>\n",
       "      <th>offense_code</th>\n",
       "      <th>offender_race</th>\n",
       "      <th>offender_ethnicity</th>\n",
       "      <th>offender_age</th>\n",
       "      <th>offender_sex</th>\n",
       "      <th>victim_type_code</th>\n",
       "      <th>location_code</th>\n",
       "      <th>prop_desc_code</th>\n",
       "      <th>data_year.1</th>\n",
       "      <th>stolen_value</th>\n",
       "      <th>recovered_value</th>\n",
       "      <th>recovered_flag</th>\n",
       "    </tr>\n",
       "  </thead>\n",
       "  <tbody>\n",
       "    <tr>\n",
       "      <th>0</th>\n",
       "      <td>2021</td>\n",
       "      <td>Angelina</td>\n",
       "      <td>County</td>\n",
       "      <td>TX</td>\n",
       "      <td>West South Central</td>\n",
       "      <td>ANGELINA</td>\n",
       "      <td>South</td>\n",
       "      <td>8B</td>\n",
       "      <td>26B</td>\n",
       "      <td>NaN</td>\n",
       "      <td>NaN</td>\n",
       "      <td>NaN</td>\n",
       "      <td>NaN</td>\n",
       "      <td>I</td>\n",
       "      <td>25</td>\n",
       "      <td>20</td>\n",
       "      <td>2021</td>\n",
       "      <td>375.0</td>\n",
       "      <td>0</td>\n",
       "      <td>False</td>\n",
       "    </tr>\n",
       "    <tr>\n",
       "      <th>1</th>\n",
       "      <td>2021</td>\n",
       "      <td>Jefferson</td>\n",
       "      <td>County</td>\n",
       "      <td>AL</td>\n",
       "      <td>East South Central</td>\n",
       "      <td>JEFFERSON</td>\n",
       "      <td>South</td>\n",
       "      <td>9A</td>\n",
       "      <td>23H</td>\n",
       "      <td>Unknown</td>\n",
       "      <td>Unknown</td>\n",
       "      <td>0.0</td>\n",
       "      <td>U</td>\n",
       "      <td>I</td>\n",
       "      <td>20</td>\n",
       "      <td>77</td>\n",
       "      <td>2021</td>\n",
       "      <td>1.0</td>\n",
       "      <td>0</td>\n",
       "      <td>False</td>\n",
       "    </tr>\n",
       "    <tr>\n",
       "      <th>2</th>\n",
       "      <td>2021</td>\n",
       "      <td>Jefferson</td>\n",
       "      <td>County</td>\n",
       "      <td>AL</td>\n",
       "      <td>East South Central</td>\n",
       "      <td>JEFFERSON</td>\n",
       "      <td>South</td>\n",
       "      <td>9A</td>\n",
       "      <td>23H</td>\n",
       "      <td>Unknown</td>\n",
       "      <td>Unknown</td>\n",
       "      <td>0.0</td>\n",
       "      <td>U</td>\n",
       "      <td>I</td>\n",
       "      <td>20</td>\n",
       "      <td>65</td>\n",
       "      <td>2021</td>\n",
       "      <td>0.0</td>\n",
       "      <td>0</td>\n",
       "      <td>False</td>\n",
       "    </tr>\n",
       "    <tr>\n",
       "      <th>3</th>\n",
       "      <td>2021</td>\n",
       "      <td>Jefferson</td>\n",
       "      <td>County</td>\n",
       "      <td>AL</td>\n",
       "      <td>East South Central</td>\n",
       "      <td>JEFFERSON</td>\n",
       "      <td>South</td>\n",
       "      <td>9A</td>\n",
       "      <td>23H</td>\n",
       "      <td>Unknown</td>\n",
       "      <td>Unknown</td>\n",
       "      <td>0.0</td>\n",
       "      <td>U</td>\n",
       "      <td>I</td>\n",
       "      <td>20</td>\n",
       "      <td>13</td>\n",
       "      <td>2021</td>\n",
       "      <td>320.0</td>\n",
       "      <td>0</td>\n",
       "      <td>False</td>\n",
       "    </tr>\n",
       "    <tr>\n",
       "      <th>4</th>\n",
       "      <td>2021</td>\n",
       "      <td>Jefferson</td>\n",
       "      <td>County</td>\n",
       "      <td>AL</td>\n",
       "      <td>East South Central</td>\n",
       "      <td>JEFFERSON</td>\n",
       "      <td>South</td>\n",
       "      <td>9A</td>\n",
       "      <td>23F</td>\n",
       "      <td>Unknown</td>\n",
       "      <td>Unknown</td>\n",
       "      <td>0.0</td>\n",
       "      <td>U</td>\n",
       "      <td>I</td>\n",
       "      <td>20</td>\n",
       "      <td>77</td>\n",
       "      <td>2021</td>\n",
       "      <td>1.0</td>\n",
       "      <td>0</td>\n",
       "      <td>False</td>\n",
       "    </tr>\n",
       "  </tbody>\n",
       "</table>\n",
       "</div>"
      ],
      "text/plain": [
       "   data_year pub_agency_name agency_type_name state_abbr       division_name  \\\n",
       "0       2021        Angelina           County         TX  West South Central   \n",
       "1       2021       Jefferson           County         AL  East South Central   \n",
       "2       2021       Jefferson           County         AL  East South Central   \n",
       "3       2021       Jefferson           County         AL  East South Central   \n",
       "4       2021       Jefferson           County         AL  East South Central   \n",
       "\n",
       "  county_name region_name population_group_code offense_code offender_race  \\\n",
       "0    ANGELINA       South                    8B          26B           NaN   \n",
       "1   JEFFERSON       South                    9A          23H       Unknown   \n",
       "2   JEFFERSON       South                    9A          23H       Unknown   \n",
       "3   JEFFERSON       South                    9A          23H       Unknown   \n",
       "4   JEFFERSON       South                    9A          23F       Unknown   \n",
       "\n",
       "  offender_ethnicity  offender_age offender_sex victim_type_code  \\\n",
       "0                NaN           NaN          NaN                I   \n",
       "1            Unknown           0.0            U                I   \n",
       "2            Unknown           0.0            U                I   \n",
       "3            Unknown           0.0            U                I   \n",
       "4            Unknown           0.0            U                I   \n",
       "\n",
       "   location_code  prop_desc_code  data_year.1  stolen_value  recovered_value  \\\n",
       "0             25              20         2021         375.0                0   \n",
       "1             20              77         2021           1.0                0   \n",
       "2             20              65         2021           0.0                0   \n",
       "3             20              13         2021         320.0                0   \n",
       "4             20              77         2021           1.0                0   \n",
       "\n",
       "   recovered_flag  \n",
       "0           False  \n",
       "1           False  \n",
       "2           False  \n",
       "3           False  \n",
       "4           False  "
      ]
     },
     "execution_count": 19,
     "metadata": {},
     "output_type": "execute_result"
    }
   ],
   "source": [
    "#first pass at cutting down \n",
    "#pub agency unit seems redundant, so it and others will be dropped to clean up dataframe\n",
    "#weapon name and code perhaps unneeeded. prop_desc code will most likely include weapons\n",
    "#date recovered will mostly be blank because never recovered\n",
    "#removing names to simplify things. codes are provided in attached word doc we should include anyway\n",
    "fbi_trimmed = fbi_og.drop(columns =[\"ori\",\"pub_agency_unit\",\"state_name\",\"weapon_code\",\"weapon_name\",\"date_recovered\",\n",
    "                          \"prop_desc_code.1\",\"prop_desc_name\",\"victim_type_name\",\"location_name\",\"offense_name\",\"population_group_desc\"], axis=1)\n",
    "fbi_trimmed.head()"
   ]
  },
  {
   "cell_type": "code",
   "execution_count": 20,
   "id": "6e8d2674",
   "metadata": {},
   "outputs": [
    {
     "data": {
      "text/plain": [
       "data_year                  int64\n",
       "pub_agency_name           object\n",
       "agency_type_name          object\n",
       "state_abbr                object\n",
       "division_name             object\n",
       "county_name               object\n",
       "region_name               object\n",
       "population_group_code     object\n",
       "offense_code              object\n",
       "offender_race             object\n",
       "offender_ethnicity        object\n",
       "offender_age             float64\n",
       "offender_sex              object\n",
       "victim_type_code          object\n",
       "location_code              int64\n",
       "prop_desc_code             int64\n",
       "data_year.1                int64\n",
       "stolen_value             float64\n",
       "recovered_value            int64\n",
       "recovered_flag              bool\n",
       "dtype: object"
      ]
     },
     "execution_count": 20,
     "metadata": {},
     "output_type": "execute_result"
    }
   ],
   "source": [
    "#look at new set\n",
    "#can use this for a baseline SQL chart to begin the ERD at\n",
    "#can make smaller datasets from here\n",
    "fbi_trimmed.dtypes"
   ]
  },
  {
   "cell_type": "code",
   "execution_count": 22,
   "id": "9f6ab132",
   "metadata": {},
   "outputs": [
    {
     "data": {
      "text/plain": [
       "data_year                    0\n",
       "pub_agency_name              0\n",
       "agency_type_name             0\n",
       "state_abbr                   0\n",
       "division_name                0\n",
       "county_name                  0\n",
       "region_name                  0\n",
       "population_group_code        6\n",
       "offense_code                 0\n",
       "offender_race            68219\n",
       "offender_ethnicity       68219\n",
       "offender_age             72765\n",
       "offender_sex             68219\n",
       "victim_type_code             0\n",
       "location_code                0\n",
       "prop_desc_code               0\n",
       "data_year.1                  0\n",
       "stolen_value               271\n",
       "recovered_value              0\n",
       "recovered_flag               0\n",
       "dtype: int64"
      ]
     },
     "execution_count": 22,
     "metadata": {},
     "output_type": "execute_result"
    }
   ],
   "source": [
    "#checking out nulls again\n",
    "fbi_trimmed.isna().sum()"
   ]
  },
  {
   "cell_type": "code",
   "execution_count": 28,
   "id": "e1546416",
   "metadata": {},
   "outputs": [
    {
     "data": {
      "text/plain": [
       "offender_race          6\n",
       "offender_ethnicity     4\n",
       "offender_age          87\n",
       "offender_sex           3\n",
       "dtype: int64"
      ]
     },
     "execution_count": 28,
     "metadata": {},
     "output_type": "execute_result"
    }
   ],
   "source": [
    "#how manyu options for each of these null columns\n",
    "fbi_trimmed[[\"offender_race\",\"offender_ethnicity\",\"offender_age\",\"offender_sex\"]].nunique()"
   ]
  },
  {
   "cell_type": "code",
   "execution_count": 31,
   "id": "2e44c3b9",
   "metadata": {},
   "outputs": [
    {
     "data": {
      "text/plain": [
       "array([nan, 'Unknown', 'White', 'Black or African American', 'Asian',\n",
       "       'American Indian or Alaska Native',\n",
       "       'Native Hawaiian or Other Pacific Islander'], dtype=object)"
      ]
     },
     "execution_count": 31,
     "metadata": {},
     "output_type": "execute_result"
    }
   ],
   "source": [
    "#looking at them one by one\n",
    "fbi_trimmed.offender_race.unique()"
   ]
  },
  {
   "cell_type": "code",
   "execution_count": 32,
   "id": "74133380",
   "metadata": {},
   "outputs": [],
   "source": [
    "#already has \"Unknown\" included, so let's fix\n",
    "fbi_trimmed[\"offender_race\"] = fbi_trimmed[\"offender_race\"].fillna(\"Unknown\")"
   ]
  },
  {
   "cell_type": "code",
   "execution_count": 40,
   "id": "edfa93ce",
   "metadata": {},
   "outputs": [
    {
     "data": {
      "text/plain": [
       "array(['Unknown', 'White', 'Black or African American', 'Asian',\n",
       "       'American Indian or Alaska Native',\n",
       "       'Native Hawaiian or Other Pacific Islander'], dtype=object)"
      ]
     },
     "execution_count": 40,
     "metadata": {},
     "output_type": "execute_result"
    }
   ],
   "source": [
    "#see if it worked\n",
    "fbi_trimmed.offender_race.unique()"
   ]
  },
  {
   "cell_type": "code",
   "execution_count": 41,
   "id": "2d7279b4",
   "metadata": {},
   "outputs": [
    {
     "data": {
      "text/plain": [
       "array([nan, 'Unknown', 'Not Hispanic or Latino', 'Not Specified',\n",
       "       'Hispanic or Latino'], dtype=object)"
      ]
     },
     "execution_count": 41,
     "metadata": {},
     "output_type": "execute_result"
    }
   ],
   "source": [
    "#do it all over again for the next one\n",
    "fbi_trimmed.offender_ethnicity.unique()"
   ]
  },
  {
   "cell_type": "code",
   "execution_count": 42,
   "id": "96510496",
   "metadata": {},
   "outputs": [],
   "source": [
    "fbi_trimmed[\"offender_ethnicity\"] = fbi_trimmed[\"offender_ethnicity\"].fillna(\"Unknown\")"
   ]
  },
  {
   "cell_type": "code",
   "execution_count": 43,
   "id": "a359d92b",
   "metadata": {},
   "outputs": [
    {
     "data": {
      "text/plain": [
       "array(['Unknown', 'Not Hispanic or Latino', 'Not Specified',\n",
       "       'Hispanic or Latino'], dtype=object)"
      ]
     },
     "execution_count": 43,
     "metadata": {},
     "output_type": "execute_result"
    }
   ],
   "source": [
    "#that's done\n",
    "fbi_trimmed.offender_ethnicity.unique()"
   ]
  },
  {
   "cell_type": "code",
   "execution_count": 44,
   "id": "bcbc114e",
   "metadata": {
    "scrolled": true
   },
   "outputs": [
    {
     "data": {
      "text/plain": [
       "array([nan,  0., 99., 20., 28., 37., 29., 35., 32., 36., 24., 16., 52.,\n",
       "       31., 41., 40., 45., 26., 34., 56., 50., 47., 38., 61., 42., 39.,\n",
       "       18., 33., 69., 27., 58., 25., 14., 43., 30., 22., 23., 49., 17.,\n",
       "       21., 53., 15., 60., 46., 51., 62.,  1., 63., 48., 55., 19., 54.,\n",
       "       98., 13., 65., 64., 10., 44., 12., 71.,  9., 81., 66., 57., 59.,\n",
       "       70., 68.,  5., 67., 73., 75., 85., 80., 72., 11., 74.,  7., 86.,\n",
       "       78., 76.,  8.,  6., 77., 83., 79., 87., 82.,  4.])"
      ]
     },
     "execution_count": 44,
     "metadata": {},
     "output_type": "execute_result"
    }
   ],
   "source": [
    "fbi_trimmed.offender_age.unique()"
   ]
  },
  {
   "cell_type": "code",
   "execution_count": 45,
   "id": "1d21c729",
   "metadata": {},
   "outputs": [],
   "source": [
    "#adjust age assumming that 0 = unknown\n",
    "fbi_trimmed.offender_age = fbi_trimmed.offender_age.fillna(0)"
   ]
  },
  {
   "cell_type": "code",
   "execution_count": 50,
   "id": "5f02c97d",
   "metadata": {},
   "outputs": [
    {
     "data": {
      "text/plain": [
       "array([nan, 'U', 'M', 'F'], dtype=object)"
      ]
     },
     "execution_count": 50,
     "metadata": {},
     "output_type": "execute_result"
    }
   ],
   "source": [
    "#Moving on to Gender\n",
    "fbi_trimmed.offender_sex.unique()"
   ]
  },
  {
   "cell_type": "code",
   "execution_count": 51,
   "id": "36f5cb60",
   "metadata": {},
   "outputs": [],
   "source": [
    "#U for unknown, replacing\n",
    "fbi_trimmed.offender_sex = fbi_trimmed.offender_sex.fillna(\"U\")"
   ]
  },
  {
   "cell_type": "code",
   "execution_count": 54,
   "id": "6975765f",
   "metadata": {},
   "outputs": [],
   "source": [
    "#and finally to adjust those null values in cost.\n",
    "fbi_trimmed[\"stolen_value\"] = fbi_trimmed[\"stolen_value\"].fillna(0.0)"
   ]
  },
  {
   "cell_type": "code",
   "execution_count": 57,
   "id": "3392b06d",
   "metadata": {},
   "outputs": [
    {
     "data": {
      "text/plain": [
       "data_year                0\n",
       "pub_agency_name          0\n",
       "agency_type_name         0\n",
       "state_abbr               0\n",
       "division_name            0\n",
       "county_name              0\n",
       "region_name              0\n",
       "population_group_code    6\n",
       "offense_code             0\n",
       "offender_race            0\n",
       "offender_ethnicity       0\n",
       "offender_age             0\n",
       "offender_sex             0\n",
       "victim_type_code         0\n",
       "location_code            0\n",
       "prop_desc_code           0\n",
       "data_year.1              0\n",
       "stolen_value             0\n",
       "recovered_value          0\n",
       "recovered_flag           0\n",
       "dtype: int64"
      ]
     },
     "execution_count": 57,
     "metadata": {},
     "output_type": "execute_result"
    }
   ],
   "source": [
    "#looks like a null values have been handled for this particular set\n",
    "fbi_trimmed.isna().sum()"
   ]
  },
  {
   "cell_type": "code",
   "execution_count": 59,
   "id": "99adf515",
   "metadata": {},
   "outputs": [
    {
     "data": {
      "text/plain": [
       "data_year                  int64\n",
       "pub_agency_name           object\n",
       "agency_type_name          object\n",
       "state_abbr                object\n",
       "division_name             object\n",
       "county_name               object\n",
       "region_name               object\n",
       "population_group_code     object\n",
       "offense_code              object\n",
       "offender_race             object\n",
       "offender_ethnicity        object\n",
       "offender_age             float64\n",
       "offender_sex              object\n",
       "victim_type_code          object\n",
       "location_code              int64\n",
       "prop_desc_code             int64\n",
       "data_year.1                int64\n",
       "stolen_value             float64\n",
       "recovered_value            int64\n",
       "recovered_flag              bool\n",
       "dtype: object"
      ]
     },
     "execution_count": 59,
     "metadata": {},
     "output_type": "execute_result"
    }
   ],
   "source": [
    "#datasets again for SQL\n",
    "fbi_trimmed.dtypes"
   ]
  },
  {
   "cell_type": "code",
   "execution_count": 61,
   "id": "e2ae0cda",
   "metadata": {},
   "outputs": [],
   "source": [
    "#this CSV could be a good jumping off point. can split diagrams off of it perhaps\n",
    "#saving it\n",
    "\n",
    "fbi_trimmed.to_csv(\"FBI_DATA_CLEANED1.csv\")"
   ]
  }
 ],
 "metadata": {
  "kernelspec": {
   "display_name": "mlenv",
   "language": "python",
   "name": "mlenv"
  },
  "language_info": {
   "codemirror_mode": {
    "name": "ipython",
    "version": 3
   },
   "file_extension": ".py",
   "mimetype": "text/x-python",
   "name": "python",
   "nbconvert_exporter": "python",
   "pygments_lexer": "ipython3",
   "version": "3.7.15"
  }
 },
 "nbformat": 4,
 "nbformat_minor": 5
}
