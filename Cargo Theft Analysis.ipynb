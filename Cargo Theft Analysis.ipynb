{
 "cells": [
  {
   "cell_type": "markdown",
   "metadata": {},
   "source": [
    "# Cargo Theft Dataset Pre-Processing"
   ]
  },
  {
   "cell_type": "code",
   "execution_count": 1,
   "metadata": {},
   "outputs": [],
   "source": [
    "# Import the necessary dependencies\n",
    "import pandas as pd\n",
    "import numpy as np"
   ]
  },
  {
   "cell_type": "markdown",
   "metadata": {},
   "source": [
    "### Preprocessing the Data "
   ]
  },
  {
   "cell_type": "code",
   "execution_count": 2,
   "metadata": {},
   "outputs": [
    {
     "data": {
      "text/html": [
       "<div>\n",
       "<style scoped>\n",
       "    .dataframe tbody tr th:only-of-type {\n",
       "        vertical-align: middle;\n",
       "    }\n",
       "\n",
       "    .dataframe tbody tr th {\n",
       "        vertical-align: top;\n",
       "    }\n",
       "\n",
       "    .dataframe thead th {\n",
       "        text-align: right;\n",
       "    }\n",
       "</style>\n",
       "<table border=\"1\" class=\"dataframe\">\n",
       "  <thead>\n",
       "    <tr style=\"text-align: right;\">\n",
       "      <th></th>\n",
       "      <th>data_year</th>\n",
       "      <th>ori</th>\n",
       "      <th>pub_agency_name</th>\n",
       "      <th>pub_agency_unit</th>\n",
       "      <th>agency_type_name</th>\n",
       "      <th>state_abbr</th>\n",
       "      <th>state_name</th>\n",
       "      <th>division_name</th>\n",
       "      <th>county_name</th>\n",
       "      <th>region_name</th>\n",
       "      <th>...</th>\n",
       "      <th>weapon_code</th>\n",
       "      <th>weapon_name</th>\n",
       "      <th>prop_desc_code</th>\n",
       "      <th>data_year.1</th>\n",
       "      <th>prop_desc_code.1</th>\n",
       "      <th>prop_desc_name</th>\n",
       "      <th>stolen_value</th>\n",
       "      <th>recovered_value</th>\n",
       "      <th>recovered_flag</th>\n",
       "      <th>date_recovered</th>\n",
       "    </tr>\n",
       "  </thead>\n",
       "  <tbody>\n",
       "    <tr>\n",
       "      <th>0</th>\n",
       "      <td>2021</td>\n",
       "      <td>TX0030000</td>\n",
       "      <td>Angelina</td>\n",
       "      <td>NaN</td>\n",
       "      <td>County</td>\n",
       "      <td>TX</td>\n",
       "      <td>Texas</td>\n",
       "      <td>West South Central</td>\n",
       "      <td>ANGELINA</td>\n",
       "      <td>South</td>\n",
       "      <td>...</td>\n",
       "      <td>NaN</td>\n",
       "      <td>NaN</td>\n",
       "      <td>20</td>\n",
       "      <td>2021</td>\n",
       "      <td>20</td>\n",
       "      <td>Money</td>\n",
       "      <td>375.0</td>\n",
       "      <td>0</td>\n",
       "      <td>False</td>\n",
       "      <td>NaN</td>\n",
       "    </tr>\n",
       "    <tr>\n",
       "      <th>1</th>\n",
       "      <td>2021</td>\n",
       "      <td>AL0010000</td>\n",
       "      <td>Jefferson</td>\n",
       "      <td>NaN</td>\n",
       "      <td>County</td>\n",
       "      <td>AL</td>\n",
       "      <td>Alabama</td>\n",
       "      <td>East South Central</td>\n",
       "      <td>JEFFERSON</td>\n",
       "      <td>South</td>\n",
       "      <td>...</td>\n",
       "      <td>NaN</td>\n",
       "      <td>NaN</td>\n",
       "      <td>77</td>\n",
       "      <td>2021</td>\n",
       "      <td>77</td>\n",
       "      <td>Other</td>\n",
       "      <td>1.0</td>\n",
       "      <td>0</td>\n",
       "      <td>False</td>\n",
       "      <td>NaN</td>\n",
       "    </tr>\n",
       "    <tr>\n",
       "      <th>2</th>\n",
       "      <td>2021</td>\n",
       "      <td>AL0010000</td>\n",
       "      <td>Jefferson</td>\n",
       "      <td>NaN</td>\n",
       "      <td>County</td>\n",
       "      <td>AL</td>\n",
       "      <td>Alabama</td>\n",
       "      <td>East South Central</td>\n",
       "      <td>JEFFERSON</td>\n",
       "      <td>South</td>\n",
       "      <td>...</td>\n",
       "      <td>NaN</td>\n",
       "      <td>NaN</td>\n",
       "      <td>65</td>\n",
       "      <td>2021</td>\n",
       "      <td>65</td>\n",
       "      <td>Identity Documents</td>\n",
       "      <td>0.0</td>\n",
       "      <td>0</td>\n",
       "      <td>False</td>\n",
       "      <td>NaN</td>\n",
       "    </tr>\n",
       "    <tr>\n",
       "      <th>3</th>\n",
       "      <td>2021</td>\n",
       "      <td>AL0010000</td>\n",
       "      <td>Jefferson</td>\n",
       "      <td>NaN</td>\n",
       "      <td>County</td>\n",
       "      <td>AL</td>\n",
       "      <td>Alabama</td>\n",
       "      <td>East South Central</td>\n",
       "      <td>JEFFERSON</td>\n",
       "      <td>South</td>\n",
       "      <td>...</td>\n",
       "      <td>NaN</td>\n",
       "      <td>NaN</td>\n",
       "      <td>13</td>\n",
       "      <td>2021</td>\n",
       "      <td>13</td>\n",
       "      <td>Firearms</td>\n",
       "      <td>320.0</td>\n",
       "      <td>0</td>\n",
       "      <td>False</td>\n",
       "      <td>NaN</td>\n",
       "    </tr>\n",
       "    <tr>\n",
       "      <th>4</th>\n",
       "      <td>2021</td>\n",
       "      <td>AL0010000</td>\n",
       "      <td>Jefferson</td>\n",
       "      <td>NaN</td>\n",
       "      <td>County</td>\n",
       "      <td>AL</td>\n",
       "      <td>Alabama</td>\n",
       "      <td>East South Central</td>\n",
       "      <td>JEFFERSON</td>\n",
       "      <td>South</td>\n",
       "      <td>...</td>\n",
       "      <td>NaN</td>\n",
       "      <td>NaN</td>\n",
       "      <td>77</td>\n",
       "      <td>2021</td>\n",
       "      <td>77</td>\n",
       "      <td>Other</td>\n",
       "      <td>1.0</td>\n",
       "      <td>0</td>\n",
       "      <td>False</td>\n",
       "      <td>NaN</td>\n",
       "    </tr>\n",
       "  </tbody>\n",
       "</table>\n",
       "<p>5 rows × 32 columns</p>\n",
       "</div>"
      ],
      "text/plain": [
       "   data_year        ori pub_agency_name pub_agency_unit agency_type_name  \\\n",
       "0       2021  TX0030000        Angelina             NaN           County   \n",
       "1       2021  AL0010000       Jefferson             NaN           County   \n",
       "2       2021  AL0010000       Jefferson             NaN           County   \n",
       "3       2021  AL0010000       Jefferson             NaN           County   \n",
       "4       2021  AL0010000       Jefferson             NaN           County   \n",
       "\n",
       "  state_abbr state_name       division_name county_name region_name  ...  \\\n",
       "0         TX      Texas  West South Central    ANGELINA       South  ...   \n",
       "1         AL    Alabama  East South Central   JEFFERSON       South  ...   \n",
       "2         AL    Alabama  East South Central   JEFFERSON       South  ...   \n",
       "3         AL    Alabama  East South Central   JEFFERSON       South  ...   \n",
       "4         AL    Alabama  East South Central   JEFFERSON       South  ...   \n",
       "\n",
       "  weapon_code weapon_name prop_desc_code data_year.1 prop_desc_code.1  \\\n",
       "0         NaN         NaN             20        2021               20   \n",
       "1         NaN         NaN             77        2021               77   \n",
       "2         NaN         NaN             65        2021               65   \n",
       "3         NaN         NaN             13        2021               13   \n",
       "4         NaN         NaN             77        2021               77   \n",
       "\n",
       "       prop_desc_name  stolen_value recovered_value recovered_flag  \\\n",
       "0               Money         375.0               0          False   \n",
       "1               Other           1.0               0          False   \n",
       "2  Identity Documents           0.0               0          False   \n",
       "3            Firearms         320.0               0          False   \n",
       "4               Other           1.0               0          False   \n",
       "\n",
       "  date_recovered  \n",
       "0            NaN  \n",
       "1            NaN  \n",
       "2            NaN  \n",
       "3            NaN  \n",
       "4            NaN  \n",
       "\n",
       "[5 rows x 32 columns]"
      ]
     },
     "execution_count": 2,
     "metadata": {},
     "output_type": "execute_result"
    }
   ],
   "source": [
    "# Read the CSV file into a DataFrame.\n",
    "theft_df = pd.read_csv(\"Resources/CT_2013_2021.csv\")\n",
    "theft_df.head()"
   ]
  },
  {
   "cell_type": "code",
   "execution_count": 3,
   "metadata": {},
   "outputs": [
    {
     "name": "stdout",
     "output_type": "stream",
     "text": [
      "<class 'pandas.core.frame.DataFrame'>\n",
      "RangeIndex: 151492 entries, 0 to 151491\n",
      "Data columns (total 32 columns):\n",
      " #   Column                 Non-Null Count   Dtype  \n",
      "---  ------                 --------------   -----  \n",
      " 0   data_year              151492 non-null  int64  \n",
      " 1   ori                    151492 non-null  object \n",
      " 2   pub_agency_name        151492 non-null  object \n",
      " 3   pub_agency_unit        1422 non-null    object \n",
      " 4   agency_type_name       151492 non-null  object \n",
      " 5   state_abbr             151492 non-null  object \n",
      " 6   state_name             151492 non-null  object \n",
      " 7   division_name          151492 non-null  object \n",
      " 8   county_name            151492 non-null  object \n",
      " 9   region_name            151492 non-null  object \n",
      " 10  population_group_code  151486 non-null  object \n",
      " 11  population_group_desc  151486 non-null  object \n",
      " 12  offense_code           151492 non-null  object \n",
      " 13  offense_name           151492 non-null  object \n",
      " 14  offender_race          83273 non-null   object \n",
      " 15  offender_ethnicity     83273 non-null   object \n",
      " 16  offender_age           78727 non-null   float64\n",
      " 17  offender_sex           83273 non-null   object \n",
      " 18  victim_type_code       151492 non-null  object \n",
      " 19  victim_type_name       151492 non-null  object \n",
      " 20  location_code          151492 non-null  int64  \n",
      " 21  location_name          151492 non-null  object \n",
      " 22  weapon_code            12987 non-null   object \n",
      " 23  weapon_name            12987 non-null   object \n",
      " 24  prop_desc_code         151492 non-null  int64  \n",
      " 25  data_year.1            151492 non-null  int64  \n",
      " 26  prop_desc_code.1       151492 non-null  int64  \n",
      " 27  prop_desc_name         151492 non-null  object \n",
      " 28  stolen_value           151221 non-null  float64\n",
      " 29  recovered_value        151492 non-null  int64  \n",
      " 30  recovered_flag         151492 non-null  bool   \n",
      " 31  date_recovered         21471 non-null   object \n",
      "dtypes: bool(1), float64(2), int64(6), object(23)\n",
      "memory usage: 36.0+ MB\n"
     ]
    }
   ],
   "source": [
    "# Data information\n",
    "theft_df.info()"
   ]
  },
  {
   "cell_type": "code",
   "execution_count": 4,
   "metadata": {},
   "outputs": [
    {
     "data": {
      "text/plain": [
       "data_year                   9\n",
       "ori                      3912\n",
       "pub_agency_name          2935\n",
       "pub_agency_unit           147\n",
       "agency_type_name            8\n",
       "state_abbr                 50\n",
       "state_name                 50\n",
       "division_name              10\n",
       "county_name              1227\n",
       "region_name                 5\n",
       "population_group_code      19\n",
       "population_group_desc      19\n",
       "offense_code               40\n",
       "offense_name               40\n",
       "offender_race               6\n",
       "offender_ethnicity          4\n",
       "offender_age               87\n",
       "offender_sex                3\n",
       "victim_type_code            9\n",
       "victim_type_name            9\n",
       "location_code              47\n",
       "location_name              47\n",
       "weapon_code                19\n",
       "weapon_name                19\n",
       "prop_desc_code             68\n",
       "data_year.1                 9\n",
       "prop_desc_code.1           68\n",
       "prop_desc_name             68\n",
       "stolen_value             5265\n",
       "recovered_value          1144\n",
       "recovered_flag              2\n",
       "date_recovered           2431\n",
       "dtype: int64"
      ]
     },
     "execution_count": 4,
     "metadata": {},
     "output_type": "execute_result"
    }
   ],
   "source": [
    "# How many different values are each column\n",
    "theft_df.nunique()"
   ]
  },
  {
   "cell_type": "code",
   "execution_count": 5,
   "metadata": {},
   "outputs": [
    {
     "data": {
      "text/plain": [
       "data_year                     0\n",
       "ori                           0\n",
       "pub_agency_name               0\n",
       "pub_agency_unit          150070\n",
       "agency_type_name              0\n",
       "state_abbr                    0\n",
       "state_name                    0\n",
       "division_name                 0\n",
       "county_name                   0\n",
       "region_name                   0\n",
       "population_group_code         6\n",
       "population_group_desc         6\n",
       "offense_code                  0\n",
       "offense_name                  0\n",
       "offender_race             68219\n",
       "offender_ethnicity        68219\n",
       "offender_age              72765\n",
       "offender_sex              68219\n",
       "victim_type_code              0\n",
       "victim_type_name              0\n",
       "location_code                 0\n",
       "location_name                 0\n",
       "weapon_code              138505\n",
       "weapon_name              138505\n",
       "prop_desc_code                0\n",
       "data_year.1                   0\n",
       "prop_desc_code.1              0\n",
       "prop_desc_name                0\n",
       "stolen_value                271\n",
       "recovered_value               0\n",
       "recovered_flag                0\n",
       "date_recovered           130021\n",
       "dtype: int64"
      ]
     },
     "execution_count": 5,
     "metadata": {},
     "output_type": "execute_result"
    }
   ],
   "source": [
    "# Null Values \n",
    "theft_df.isna().sum()"
   ]
  },
  {
   "cell_type": "code",
   "execution_count": 6,
   "metadata": {},
   "outputs": [
    {
     "data": {
      "text/plain": [
       "14518"
      ]
     },
     "execution_count": 6,
     "metadata": {},
     "output_type": "execute_result"
    }
   ],
   "source": [
    "# Duplicated Values\n",
    "theft_df.duplicated().sum()"
   ]
  },
  {
   "cell_type": "code",
   "execution_count": 7,
   "metadata": {},
   "outputs": [],
   "source": [
    "dropped = [\"ori\", \"data_year.1\", \"prop_desc_code.1\", \"state_abbr\"]"
   ]
  },
  {
   "cell_type": "code",
   "execution_count": 8,
   "metadata": {},
   "outputs": [
    {
     "name": "stdout",
     "output_type": "stream",
     "text": [
      "(136974, 28)\n"
     ]
    },
    {
     "data": {
      "text/html": [
       "<div>\n",
       "<style scoped>\n",
       "    .dataframe tbody tr th:only-of-type {\n",
       "        vertical-align: middle;\n",
       "    }\n",
       "\n",
       "    .dataframe tbody tr th {\n",
       "        vertical-align: top;\n",
       "    }\n",
       "\n",
       "    .dataframe thead th {\n",
       "        text-align: right;\n",
       "    }\n",
       "</style>\n",
       "<table border=\"1\" class=\"dataframe\">\n",
       "  <thead>\n",
       "    <tr style=\"text-align: right;\">\n",
       "      <th></th>\n",
       "      <th>data_year</th>\n",
       "      <th>pub_agency_name</th>\n",
       "      <th>pub_agency_unit</th>\n",
       "      <th>agency_type_name</th>\n",
       "      <th>state_name</th>\n",
       "      <th>division_name</th>\n",
       "      <th>county_name</th>\n",
       "      <th>region_name</th>\n",
       "      <th>population_group_code</th>\n",
       "      <th>population_group_desc</th>\n",
       "      <th>...</th>\n",
       "      <th>location_code</th>\n",
       "      <th>location_name</th>\n",
       "      <th>weapon_code</th>\n",
       "      <th>weapon_name</th>\n",
       "      <th>prop_desc_code</th>\n",
       "      <th>prop_desc_name</th>\n",
       "      <th>stolen_value</th>\n",
       "      <th>recovered_value</th>\n",
       "      <th>recovered_flag</th>\n",
       "      <th>date_recovered</th>\n",
       "    </tr>\n",
       "  </thead>\n",
       "  <tbody>\n",
       "    <tr>\n",
       "      <th>0</th>\n",
       "      <td>2021</td>\n",
       "      <td>Angelina</td>\n",
       "      <td>NaN</td>\n",
       "      <td>County</td>\n",
       "      <td>Texas</td>\n",
       "      <td>West South Central</td>\n",
       "      <td>ANGELINA</td>\n",
       "      <td>South</td>\n",
       "      <td>8B</td>\n",
       "      <td>Non-MSA counties from 25,000 thru 99,999</td>\n",
       "      <td>...</td>\n",
       "      <td>25</td>\n",
       "      <td>Other/Unknown</td>\n",
       "      <td>NaN</td>\n",
       "      <td>NaN</td>\n",
       "      <td>20</td>\n",
       "      <td>Money</td>\n",
       "      <td>375.0</td>\n",
       "      <td>0</td>\n",
       "      <td>False</td>\n",
       "      <td>NaN</td>\n",
       "    </tr>\n",
       "    <tr>\n",
       "      <th>1</th>\n",
       "      <td>2021</td>\n",
       "      <td>Jefferson</td>\n",
       "      <td>NaN</td>\n",
       "      <td>County</td>\n",
       "      <td>Alabama</td>\n",
       "      <td>East South Central</td>\n",
       "      <td>JEFFERSON</td>\n",
       "      <td>South</td>\n",
       "      <td>9A</td>\n",
       "      <td>MSA counties 100,000 or over</td>\n",
       "      <td>...</td>\n",
       "      <td>20</td>\n",
       "      <td>Residence/Home</td>\n",
       "      <td>NaN</td>\n",
       "      <td>NaN</td>\n",
       "      <td>77</td>\n",
       "      <td>Other</td>\n",
       "      <td>1.0</td>\n",
       "      <td>0</td>\n",
       "      <td>False</td>\n",
       "      <td>NaN</td>\n",
       "    </tr>\n",
       "    <tr>\n",
       "      <th>2</th>\n",
       "      <td>2021</td>\n",
       "      <td>Jefferson</td>\n",
       "      <td>NaN</td>\n",
       "      <td>County</td>\n",
       "      <td>Alabama</td>\n",
       "      <td>East South Central</td>\n",
       "      <td>JEFFERSON</td>\n",
       "      <td>South</td>\n",
       "      <td>9A</td>\n",
       "      <td>MSA counties 100,000 or over</td>\n",
       "      <td>...</td>\n",
       "      <td>20</td>\n",
       "      <td>Residence/Home</td>\n",
       "      <td>NaN</td>\n",
       "      <td>NaN</td>\n",
       "      <td>65</td>\n",
       "      <td>Identity Documents</td>\n",
       "      <td>0.0</td>\n",
       "      <td>0</td>\n",
       "      <td>False</td>\n",
       "      <td>NaN</td>\n",
       "    </tr>\n",
       "    <tr>\n",
       "      <th>3</th>\n",
       "      <td>2021</td>\n",
       "      <td>Jefferson</td>\n",
       "      <td>NaN</td>\n",
       "      <td>County</td>\n",
       "      <td>Alabama</td>\n",
       "      <td>East South Central</td>\n",
       "      <td>JEFFERSON</td>\n",
       "      <td>South</td>\n",
       "      <td>9A</td>\n",
       "      <td>MSA counties 100,000 or over</td>\n",
       "      <td>...</td>\n",
       "      <td>20</td>\n",
       "      <td>Residence/Home</td>\n",
       "      <td>NaN</td>\n",
       "      <td>NaN</td>\n",
       "      <td>13</td>\n",
       "      <td>Firearms</td>\n",
       "      <td>320.0</td>\n",
       "      <td>0</td>\n",
       "      <td>False</td>\n",
       "      <td>NaN</td>\n",
       "    </tr>\n",
       "    <tr>\n",
       "      <th>4</th>\n",
       "      <td>2021</td>\n",
       "      <td>Jefferson</td>\n",
       "      <td>NaN</td>\n",
       "      <td>County</td>\n",
       "      <td>Alabama</td>\n",
       "      <td>East South Central</td>\n",
       "      <td>JEFFERSON</td>\n",
       "      <td>South</td>\n",
       "      <td>9A</td>\n",
       "      <td>MSA counties 100,000 or over</td>\n",
       "      <td>...</td>\n",
       "      <td>20</td>\n",
       "      <td>Residence/Home</td>\n",
       "      <td>NaN</td>\n",
       "      <td>NaN</td>\n",
       "      <td>77</td>\n",
       "      <td>Other</td>\n",
       "      <td>1.0</td>\n",
       "      <td>0</td>\n",
       "      <td>False</td>\n",
       "      <td>NaN</td>\n",
       "    </tr>\n",
       "  </tbody>\n",
       "</table>\n",
       "<p>5 rows × 28 columns</p>\n",
       "</div>"
      ],
      "text/plain": [
       "   data_year pub_agency_name pub_agency_unit agency_type_name state_name  \\\n",
       "0       2021        Angelina             NaN           County      Texas   \n",
       "1       2021       Jefferson             NaN           County    Alabama   \n",
       "2       2021       Jefferson             NaN           County    Alabama   \n",
       "3       2021       Jefferson             NaN           County    Alabama   \n",
       "4       2021       Jefferson             NaN           County    Alabama   \n",
       "\n",
       "        division_name county_name region_name population_group_code  \\\n",
       "0  West South Central    ANGELINA       South                    8B   \n",
       "1  East South Central   JEFFERSON       South                    9A   \n",
       "2  East South Central   JEFFERSON       South                    9A   \n",
       "3  East South Central   JEFFERSON       South                    9A   \n",
       "4  East South Central   JEFFERSON       South                    9A   \n",
       "\n",
       "                      population_group_desc  ... location_code  \\\n",
       "0  Non-MSA counties from 25,000 thru 99,999  ...            25   \n",
       "1              MSA counties 100,000 or over  ...            20   \n",
       "2              MSA counties 100,000 or over  ...            20   \n",
       "3              MSA counties 100,000 or over  ...            20   \n",
       "4              MSA counties 100,000 or over  ...            20   \n",
       "\n",
       "    location_name weapon_code weapon_name  prop_desc_code      prop_desc_name  \\\n",
       "0   Other/Unknown         NaN         NaN              20               Money   \n",
       "1  Residence/Home         NaN         NaN              77               Other   \n",
       "2  Residence/Home         NaN         NaN              65  Identity Documents   \n",
       "3  Residence/Home         NaN         NaN              13            Firearms   \n",
       "4  Residence/Home         NaN         NaN              77               Other   \n",
       "\n",
       "  stolen_value recovered_value  recovered_flag date_recovered  \n",
       "0        375.0               0           False            NaN  \n",
       "1          1.0               0           False            NaN  \n",
       "2          0.0               0           False            NaN  \n",
       "3        320.0               0           False            NaN  \n",
       "4          1.0               0           False            NaN  \n",
       "\n",
       "[5 rows x 28 columns]"
      ]
     },
     "execution_count": 8,
     "metadata": {},
     "output_type": "execute_result"
    }
   ],
   "source": [
    "# Transformation and remove duplicate entries\n",
    "theft_original_df = theft_df.drop(columns = [\"ori\", \"data_year.1\", \"prop_desc_code.1\", \"state_abbr\"], axis = 1).drop_duplicates()\n",
    "print(theft_original_df.shape)\n",
    "theft_original_df.head() "
   ]
  },
  {
   "cell_type": "code",
   "execution_count": 9,
   "metadata": {},
   "outputs": [],
   "source": [
    "# Write this DataFrame out to a CSV file\n",
    "theft_original_df.to_csv(\"Resources/cargo_theft_original.csv\", index=False)"
   ]
  },
  {
   "cell_type": "markdown",
   "metadata": {},
   "source": [
    "### Null Values in Dataset "
   ]
  },
  {
   "cell_type": "code",
   "execution_count": 10,
   "metadata": {},
   "outputs": [
    {
     "data": {
      "text/plain": [
       "New Castle County    113\n",
       "Keyser               109\n",
       "Princeton            101\n",
       "Lake Norman           56\n",
       "Lake James            50\n",
       "                    ... \n",
       "Accomack County        1\n",
       "Gibson County          1\n",
       "Hamilton County        1\n",
       "Grayson County         1\n",
       "Berkeley County        1\n",
       "Name: pub_agency_unit, Length: 147, dtype: int64"
      ]
     },
     "execution_count": 10,
     "metadata": {},
     "output_type": "execute_result"
    }
   ],
   "source": [
    "#'public_agency_unit' column\n",
    "theft_original_df.pub_agency_unit.value_counts()"
   ]
  },
  {
   "cell_type": "code",
   "execution_count": 11,
   "metadata": {},
   "outputs": [
    {
     "data": {
      "text/plain": [
       "5     15941\n",
       "4     15810\n",
       "1B    15375\n",
       "9A    14764\n",
       "3     12385\n",
       "6      9887\n",
       "2      9679\n",
       "1C     9166\n",
       "9B     8830\n",
       "1A     6483\n",
       "8B     5296\n",
       "8C     4343\n",
       "7      4227\n",
       "8D     1837\n",
       "9C     1732\n",
       "9D     1157\n",
       "8E       50\n",
       "8A        4\n",
       "9E        2\n",
       "Name: population_group_code, dtype: int64"
      ]
     },
     "execution_count": 11,
     "metadata": {},
     "output_type": "execute_result"
    }
   ],
   "source": [
    "#'population_group_code' column\n",
    "theft_original_df.population_group_code.value_counts()"
   ]
  },
  {
   "cell_type": "code",
   "execution_count": 12,
   "metadata": {},
   "outputs": [
    {
     "data": {
      "text/plain": [
       "Cities from 10,000 thru 24,999              15941\n",
       "Cities from 25,000 thru 49,999              15810\n",
       "Cities from 500,000 thru 999,999            15375\n",
       "MSA counties 100,000 or over                14764\n",
       "Cities from 50,000 thru 99,999              12385\n",
       "Cities from 2,500 thru 9,999                 9887\n",
       "Cities from 100,000 thru 249,999             9679\n",
       "Cities from 250,000 thru 499,999             9166\n",
       "MSA counties from 25,000 thru 99,999         8830\n",
       "Cities 1,000,000 or over                     6483\n",
       "Non-MSA counties from 25,000 thru 99,999     5296\n",
       "Non-MSA counties from 10,000 thru 24,999     4343\n",
       "Cities under 2,500                           4227\n",
       "Non-MSA counties under 10,000                1837\n",
       "MSA counties from 10,000 thru 24,999         1732\n",
       "MSA counties under 10,000                    1157\n",
       "Non-MSA State Police                           50\n",
       "Non-MSA counties 100,000 or over                4\n",
       "MSA State Police                                2\n",
       "Name: population_group_desc, dtype: int64"
      ]
     },
     "execution_count": 12,
     "metadata": {},
     "output_type": "execute_result"
    }
   ],
   "source": [
    "#'population_group_desc' column\n",
    "theft_original_df.population_group_desc.value_counts()"
   ]
  },
  {
   "cell_type": "code",
   "execution_count": 13,
   "metadata": {},
   "outputs": [
    {
     "data": {
      "text/plain": [
       "White                                        32591\n",
       "Black or African American                    21170\n",
       "Unknown                                      20801\n",
       "American Indian or Alaska Native               693\n",
       "Asian                                          269\n",
       "Native Hawaiian or Other Pacific Islander       17\n",
       "Name: offender_race, dtype: int64"
      ]
     },
     "execution_count": 13,
     "metadata": {},
     "output_type": "execute_result"
    }
   ],
   "source": [
    "#'offender_race' column\n",
    "theft_original_df.offender_race.value_counts()"
   ]
  },
  {
   "cell_type": "code",
   "execution_count": 14,
   "metadata": {},
   "outputs": [
    {
     "data": {
      "text/plain": [
       "Not Hispanic or Latino    29452\n",
       "Not Specified             22171\n",
       "Unknown                   20046\n",
       "Hispanic or Latino         3872\n",
       "Name: offender_ethnicity, dtype: int64"
      ]
     },
     "execution_count": 14,
     "metadata": {},
     "output_type": "execute_result"
    }
   ],
   "source": [
    "#'offender_ethnicity' column\n",
    "theft_original_df.offender_ethnicity.value_counts()"
   ]
  },
  {
   "cell_type": "code",
   "execution_count": 15,
   "metadata": {},
   "outputs": [
    {
     "data": {
      "text/plain": [
       "0.0     15926\n",
       "1.0       169\n",
       "4.0         4\n",
       "5.0         7\n",
       "6.0         3\n",
       "        ...  \n",
       "85.0        1\n",
       "86.0        3\n",
       "87.0        3\n",
       "98.0       20\n",
       "99.0      418\n",
       "Name: offender_age, Length: 87, dtype: int64"
      ]
     },
     "execution_count": 15,
     "metadata": {},
     "output_type": "execute_result"
    }
   ],
   "source": [
    "#'offender_age' column\n",
    "theft_original_df.offender_age.value_counts().sort_index()"
   ]
  },
  {
   "cell_type": "code",
   "execution_count": 16,
   "metadata": {},
   "outputs": [
    {
     "data": {
      "text/plain": [
       "M    44856\n",
       "U    18191\n",
       "F    12494\n",
       "Name: offender_sex, dtype: int64"
      ]
     },
     "execution_count": 16,
     "metadata": {},
     "output_type": "execute_result"
    }
   ],
   "source": [
    "#'offender_sex' column\n",
    "theft_original_df.offender_sex.value_counts()"
   ]
  },
  {
   "cell_type": "code",
   "execution_count": 17,
   "metadata": {},
   "outputs": [
    {
     "data": {
      "text/plain": [
       "12     3666\n",
       "40     2672\n",
       "99     1532\n",
       "20      666\n",
       "11      616\n",
       "90      600\n",
       "95      436\n",
       "12A     294\n",
       "30      223\n",
       "13      208\n",
       "35      172\n",
       "11A      78\n",
       "15       71\n",
       "14       67\n",
       "85       22\n",
       "70       18\n",
       "13A      11\n",
       "14A       2\n",
       "50        2\n",
       "Name: weapon_code, dtype: int64"
      ]
     },
     "execution_count": 17,
     "metadata": {},
     "output_type": "execute_result"
    }
   ],
   "source": [
    "#'weapon_code' column\n",
    "theft_original_df.weapon_code.value_counts()"
   ]
  },
  {
   "cell_type": "code",
   "execution_count": 18,
   "metadata": {},
   "outputs": [
    {
     "data": {
      "text/plain": [
       "Handgun                           3666\n",
       "Personal Weapons                  2672\n",
       "None                              1532\n",
       "Knife/Cutting Instrument           666\n",
       "Firearm                            616\n",
       "Other                              600\n",
       "Unknown                            436\n",
       "Handgun (Automatic)                294\n",
       "Blunt Object                       223\n",
       "Rifle                              208\n",
       "Motor Vehicle/Vessel               172\n",
       "Firearm (Automatic)                 78\n",
       "Other Firearm                       71\n",
       "Shotgun                             67\n",
       "Asphyxiation                        22\n",
       "Drugs/Narcotics/Sleeping Pills      18\n",
       "Rifle (Automatic)                   11\n",
       "Shotgun (Automatic)                  2\n",
       "Poison                               2\n",
       "Name: weapon_name, dtype: int64"
      ]
     },
     "execution_count": 18,
     "metadata": {},
     "output_type": "execute_result"
    }
   ],
   "source": [
    "#'weapon_name' column\n",
    "theft_original_df.weapon_name.value_counts()"
   ]
  },
  {
   "cell_type": "code",
   "execution_count": 19,
   "metadata": {},
   "outputs": [
    {
     "data": {
      "text/plain": [
       "0.0            11776\n",
       "1.0            15517\n",
       "2.0             1273\n",
       "3.0              470\n",
       "4.0              285\n",
       "               ...  \n",
       "25000000.0         6\n",
       "25496498.0         1\n",
       "120029400.0        1\n",
       "250000000.0        1\n",
       "311128346.0        1\n",
       "Name: stolen_value, Length: 5265, dtype: int64"
      ]
     },
     "execution_count": 19,
     "metadata": {},
     "output_type": "execute_result"
    }
   ],
   "source": [
    "#'stolen_value' column\n",
    "theft_original_df.stolen_value.value_counts().sort_index()"
   ]
  },
  {
   "cell_type": "code",
   "execution_count": 20,
   "metadata": {},
   "outputs": [
    {
     "data": {
      "text/plain": [
       "2019-10-09    127\n",
       "2016-10-07    121\n",
       "2020-09-09    108\n",
       "2020-12-28     96\n",
       "2020-08-19     95\n",
       "             ... \n",
       "2018-10-01      1\n",
       "2018-03-20      1\n",
       "2015-06-18      1\n",
       "2015-05-17      1\n",
       "2013-03-11      1\n",
       "Name: date_recovered, Length: 2431, dtype: int64"
      ]
     },
     "execution_count": 20,
     "metadata": {},
     "output_type": "execute_result"
    }
   ],
   "source": [
    "#'date_recoverd' column\n",
    "theft_original_df.date_recovered.value_counts()"
   ]
  },
  {
   "cell_type": "code",
   "execution_count": 21,
   "metadata": {},
   "outputs": [
    {
     "data": {
      "text/plain": [
       "City                     96897\n",
       "County                   36861\n",
       "State Police              1108\n",
       "University or College      755\n",
       "Other                      739\n",
       "Other State Agency         533\n",
       "Tribal                      67\n",
       "Federal                     14\n",
       "Name: agency_type_name, dtype: int64"
      ]
     },
     "execution_count": 21,
     "metadata": {},
     "output_type": "execute_result"
    }
   ],
   "source": [
    "# DataFrame in general\n",
    "theft_original_df.agency_type_name.value_counts()"
   ]
  },
  {
   "cell_type": "code",
   "execution_count": 22,
   "metadata": {},
   "outputs": [
    {
     "data": {
      "text/plain": [
       "Theft From Motor Vehicle                       35024\n",
       "All Other Larceny                              29737\n",
       "Burglary/Breaking & Entering                   21125\n",
       "Motor Vehicle Theft                            14899\n",
       "Destruction/Damage/Vandalism of Property        7458\n",
       "Theft From Building                             6767\n",
       "Robbery                                         4993\n",
       "False Pretenses/Swindle/Confidence Game         3384\n",
       "Credit Card/Automated Teller Machine Fraud      2634\n",
       "Drug/Narcotic Violations                        1707\n",
       "Stolen Property Offenses                        1171\n",
       "Impersonation                                    877\n",
       "Weapon Law Violations                            875\n",
       "Embezzlement                                     853\n",
       "Drug Equipment Violations                        831\n",
       "Identity Theft                                   830\n",
       "Simple Assault                                   782\n",
       "Aggravated Assault                               535\n",
       "Counterfeiting/Forgery                           464\n",
       "Theft of Motor Vehicle Parts or Accessories      399\n",
       "Kidnapping/Abduction                             380\n",
       "Shoplifting                                      309\n",
       "Intimidation                                     234\n",
       "Wire Fraud                                       166\n",
       "Extortion/Blackmail                              103\n",
       "Pocket-picking                                    82\n",
       "Purse-snatching                                   75\n",
       "Rape                                              53\n",
       "Murder and Nonnegligent Manslaughter              47\n",
       "Theft From Coin-Operated Machine or Device        43\n",
       "Arson                                             38\n",
       "Hacking/Computer Invasion                         38\n",
       "Fondling                                          21\n",
       "Pornography/Obscene Material                      16\n",
       "Human Trafficking, Involuntary Servitude          16\n",
       "Sodomy                                             3\n",
       "Animal Cruelty                                     2\n",
       "Bribery                                            1\n",
       "Welfare Fraud                                      1\n",
       "Sexual Assault With An Object                      1\n",
       "Name: offense_name, dtype: int64"
      ]
     },
     "execution_count": 22,
     "metadata": {},
     "output_type": "execute_result"
    }
   ],
   "source": [
    "# Offenses types\n",
    "theft_original_df.offense_name.value_counts()"
   ]
  },
  {
   "cell_type": "code",
   "execution_count": 23,
   "metadata": {},
   "outputs": [
    {
     "data": {
      "text/plain": [
       "23F    35024\n",
       "23H    29737\n",
       "220    21125\n",
       "240    14899\n",
       "290     7458\n",
       "23D     6767\n",
       "120     4993\n",
       "26A     3384\n",
       "26B     2634\n",
       "35A     1707\n",
       "280     1171\n",
       "26C      877\n",
       "520      875\n",
       "270      853\n",
       "35B      831\n",
       "26F      830\n",
       "13B      782\n",
       "13A      535\n",
       "250      464\n",
       "23G      399\n",
       "100      380\n",
       "23C      309\n",
       "13C      234\n",
       "26E      166\n",
       "210      103\n",
       "23A       82\n",
       "23B       75\n",
       "11A       53\n",
       "09A       47\n",
       "23E       43\n",
       "200       38\n",
       "26G       38\n",
       "11D       21\n",
       "370       16\n",
       "64B       16\n",
       "11B        3\n",
       "720        2\n",
       "510        1\n",
       "26D        1\n",
       "11C        1\n",
       "Name: offense_code, dtype: int64"
      ]
     },
     "execution_count": 23,
     "metadata": {},
     "output_type": "execute_result"
    }
   ],
   "source": [
    "# Offenses codes\n",
    "theft_original_df.offense_code.value_counts()"
   ]
  },
  {
   "cell_type": "code",
   "execution_count": 24,
   "metadata": {},
   "outputs": [],
   "source": [
    "# Replace empty values\n",
    "# Fixing categorical values\n",
    "theft_original_df['offender_race'].fillna('Unknown', inplace = True)\n",
    "theft_original_df['offender_ethnicity'].fillna('Unknown', inplace = True)\n",
    "theft_original_df['offender_age'].fillna(0.0, inplace = True)\n",
    "theft_original_df['offender_sex'].fillna('U', inplace = True)\n",
    "theft_original_df['stolen_value'].fillna(0, inplace = True)\n",
    "theft_original_df.weapon_code = theft_original_df.weapon_code.fillna(\"95\")\n",
    "theft_original_df.weapon_name = theft_original_df.weapon_name.fillna(\"Unknown\")\n",
    "theft_original_df.population_group_desc = theft_original_df.population_group_desc.fillna(\"National\")\n",
    "theft_original_df.population_group_code = theft_original_df.population_group_code.fillna(\"0\")"
   ]
  },
  {
   "cell_type": "code",
   "execution_count": 25,
   "metadata": {},
   "outputs": [
    {
     "name": "stdout",
     "output_type": "stream",
     "text": [
      "(122956, 28)\n"
     ]
    },
    {
     "data": {
      "text/html": [
       "<div>\n",
       "<style scoped>\n",
       "    .dataframe tbody tr th:only-of-type {\n",
       "        vertical-align: middle;\n",
       "    }\n",
       "\n",
       "    .dataframe tbody tr th {\n",
       "        vertical-align: top;\n",
       "    }\n",
       "\n",
       "    .dataframe thead th {\n",
       "        text-align: right;\n",
       "    }\n",
       "</style>\n",
       "<table border=\"1\" class=\"dataframe\">\n",
       "  <thead>\n",
       "    <tr style=\"text-align: right;\">\n",
       "      <th></th>\n",
       "      <th>data_year</th>\n",
       "      <th>pub_agency_name</th>\n",
       "      <th>pub_agency_unit</th>\n",
       "      <th>agency_type_name</th>\n",
       "      <th>state_name</th>\n",
       "      <th>division_name</th>\n",
       "      <th>county_name</th>\n",
       "      <th>region_name</th>\n",
       "      <th>population_group_code</th>\n",
       "      <th>population_group_desc</th>\n",
       "      <th>...</th>\n",
       "      <th>location_code</th>\n",
       "      <th>location_name</th>\n",
       "      <th>weapon_code</th>\n",
       "      <th>weapon_name</th>\n",
       "      <th>prop_desc_code</th>\n",
       "      <th>prop_desc_name</th>\n",
       "      <th>stolen_value</th>\n",
       "      <th>recovered_value</th>\n",
       "      <th>recovered_flag</th>\n",
       "      <th>date_recovered</th>\n",
       "    </tr>\n",
       "  </thead>\n",
       "  <tbody>\n",
       "    <tr>\n",
       "      <th>0</th>\n",
       "      <td>2021</td>\n",
       "      <td>Angelina</td>\n",
       "      <td>NaN</td>\n",
       "      <td>County</td>\n",
       "      <td>Texas</td>\n",
       "      <td>West South Central</td>\n",
       "      <td>ANGELINA</td>\n",
       "      <td>South</td>\n",
       "      <td>8B</td>\n",
       "      <td>Non-MSA counties from 25,000 thru 99,999</td>\n",
       "      <td>...</td>\n",
       "      <td>25</td>\n",
       "      <td>Other/Unknown</td>\n",
       "      <td>95</td>\n",
       "      <td>Unknown</td>\n",
       "      <td>20</td>\n",
       "      <td>Money</td>\n",
       "      <td>375.0</td>\n",
       "      <td>0</td>\n",
       "      <td>False</td>\n",
       "      <td>NaN</td>\n",
       "    </tr>\n",
       "    <tr>\n",
       "      <th>1</th>\n",
       "      <td>2021</td>\n",
       "      <td>Jefferson</td>\n",
       "      <td>NaN</td>\n",
       "      <td>County</td>\n",
       "      <td>Alabama</td>\n",
       "      <td>East South Central</td>\n",
       "      <td>JEFFERSON</td>\n",
       "      <td>South</td>\n",
       "      <td>9A</td>\n",
       "      <td>MSA counties 100,000 or over</td>\n",
       "      <td>...</td>\n",
       "      <td>20</td>\n",
       "      <td>Residence/Home</td>\n",
       "      <td>95</td>\n",
       "      <td>Unknown</td>\n",
       "      <td>77</td>\n",
       "      <td>Other</td>\n",
       "      <td>1.0</td>\n",
       "      <td>0</td>\n",
       "      <td>False</td>\n",
       "      <td>NaN</td>\n",
       "    </tr>\n",
       "    <tr>\n",
       "      <th>2</th>\n",
       "      <td>2021</td>\n",
       "      <td>Jefferson</td>\n",
       "      <td>NaN</td>\n",
       "      <td>County</td>\n",
       "      <td>Alabama</td>\n",
       "      <td>East South Central</td>\n",
       "      <td>JEFFERSON</td>\n",
       "      <td>South</td>\n",
       "      <td>9A</td>\n",
       "      <td>MSA counties 100,000 or over</td>\n",
       "      <td>...</td>\n",
       "      <td>20</td>\n",
       "      <td>Residence/Home</td>\n",
       "      <td>95</td>\n",
       "      <td>Unknown</td>\n",
       "      <td>65</td>\n",
       "      <td>Identity Documents</td>\n",
       "      <td>0.0</td>\n",
       "      <td>0</td>\n",
       "      <td>False</td>\n",
       "      <td>NaN</td>\n",
       "    </tr>\n",
       "    <tr>\n",
       "      <th>3</th>\n",
       "      <td>2021</td>\n",
       "      <td>Jefferson</td>\n",
       "      <td>NaN</td>\n",
       "      <td>County</td>\n",
       "      <td>Alabama</td>\n",
       "      <td>East South Central</td>\n",
       "      <td>JEFFERSON</td>\n",
       "      <td>South</td>\n",
       "      <td>9A</td>\n",
       "      <td>MSA counties 100,000 or over</td>\n",
       "      <td>...</td>\n",
       "      <td>20</td>\n",
       "      <td>Residence/Home</td>\n",
       "      <td>95</td>\n",
       "      <td>Unknown</td>\n",
       "      <td>13</td>\n",
       "      <td>Firearms</td>\n",
       "      <td>320.0</td>\n",
       "      <td>0</td>\n",
       "      <td>False</td>\n",
       "      <td>NaN</td>\n",
       "    </tr>\n",
       "    <tr>\n",
       "      <th>4</th>\n",
       "      <td>2021</td>\n",
       "      <td>Jefferson</td>\n",
       "      <td>NaN</td>\n",
       "      <td>County</td>\n",
       "      <td>Alabama</td>\n",
       "      <td>East South Central</td>\n",
       "      <td>JEFFERSON</td>\n",
       "      <td>South</td>\n",
       "      <td>9A</td>\n",
       "      <td>MSA counties 100,000 or over</td>\n",
       "      <td>...</td>\n",
       "      <td>20</td>\n",
       "      <td>Residence/Home</td>\n",
       "      <td>95</td>\n",
       "      <td>Unknown</td>\n",
       "      <td>77</td>\n",
       "      <td>Other</td>\n",
       "      <td>1.0</td>\n",
       "      <td>0</td>\n",
       "      <td>False</td>\n",
       "      <td>NaN</td>\n",
       "    </tr>\n",
       "  </tbody>\n",
       "</table>\n",
       "<p>5 rows × 28 columns</p>\n",
       "</div>"
      ],
      "text/plain": [
       "   data_year pub_agency_name pub_agency_unit agency_type_name state_name  \\\n",
       "0       2021        Angelina             NaN           County      Texas   \n",
       "1       2021       Jefferson             NaN           County    Alabama   \n",
       "2       2021       Jefferson             NaN           County    Alabama   \n",
       "3       2021       Jefferson             NaN           County    Alabama   \n",
       "4       2021       Jefferson             NaN           County    Alabama   \n",
       "\n",
       "        division_name county_name region_name population_group_code  \\\n",
       "0  West South Central    ANGELINA       South                    8B   \n",
       "1  East South Central   JEFFERSON       South                    9A   \n",
       "2  East South Central   JEFFERSON       South                    9A   \n",
       "3  East South Central   JEFFERSON       South                    9A   \n",
       "4  East South Central   JEFFERSON       South                    9A   \n",
       "\n",
       "                      population_group_desc  ... location_code  \\\n",
       "0  Non-MSA counties from 25,000 thru 99,999  ...            25   \n",
       "1              MSA counties 100,000 or over  ...            20   \n",
       "2              MSA counties 100,000 or over  ...            20   \n",
       "3              MSA counties 100,000 or over  ...            20   \n",
       "4              MSA counties 100,000 or over  ...            20   \n",
       "\n",
       "    location_name weapon_code weapon_name  prop_desc_code      prop_desc_name  \\\n",
       "0   Other/Unknown          95     Unknown              20               Money   \n",
       "1  Residence/Home          95     Unknown              77               Other   \n",
       "2  Residence/Home          95     Unknown              65  Identity Documents   \n",
       "3  Residence/Home          95     Unknown              13            Firearms   \n",
       "4  Residence/Home          95     Unknown              77               Other   \n",
       "\n",
       "  stolen_value recovered_value  recovered_flag date_recovered  \n",
       "0        375.0               0           False            NaN  \n",
       "1          1.0               0           False            NaN  \n",
       "2          0.0               0           False            NaN  \n",
       "3        320.0               0           False            NaN  \n",
       "4          1.0               0           False            NaN  \n",
       "\n",
       "[5 rows x 28 columns]"
      ]
     },
     "execution_count": 25,
     "metadata": {},
     "output_type": "execute_result"
    }
   ],
   "source": [
    "# Not necessary columns\n",
    "not_added = [\"Destruction/Damage/Vandalism of Property\", \"Drug/Narcotic Violations\", \"Impersonation\", \"Weapon Law Violations\", \"Drug Equipment Violations\",\n",
    "            \"Simple Assault\", \"Aggravated Assault\", \"Kidnapping/Abduction\", \"Intimidation\",\"Extortion/Blackmail\", \"Rape\", \"Murder and Nonnegligent Manslaughter\",\n",
    "            \"Arson\", \"Hacking/Computer Invasion\", \"Fondling\", \"Pornography/Obscene Material\",\"Human Trafficking, Involuntary Servitude\", \"Sodomy\",\n",
    "            \"Animal Cruelty\", \"Bribery\", \"Sexual Assault With An Object\"]\n",
    "\n",
    "cleaned_data = theft_original_df.loc[~theft_original_df.offense_name.isin(not_added)]\n",
    "print(cleaned_data.shape)\n",
    "cleaned_data.head() "
   ]
  },
  {
   "cell_type": "code",
   "execution_count": 26,
   "metadata": {},
   "outputs": [
    {
     "data": {
      "text/plain": [
       "23F    35024\n",
       "23H    29737\n",
       "220    21125\n",
       "240    14899\n",
       "23D     6767\n",
       "120     4993\n",
       "26A     3384\n",
       "26B     2634\n",
       "280     1171\n",
       "270      853\n",
       "26F      830\n",
       "250      464\n",
       "23G      399\n",
       "23C      309\n",
       "26E      166\n",
       "23A       82\n",
       "23B       75\n",
       "23E       43\n",
       "26D        1\n",
       "Name: offense_code, dtype: int64"
      ]
     },
     "execution_count": 26,
     "metadata": {},
     "output_type": "execute_result"
    }
   ],
   "source": [
    "# Check the results.\n",
    "cleaned_data.offense_code.value_counts()"
   ]
  },
  {
   "cell_type": "code",
   "execution_count": 27,
   "metadata": {},
   "outputs": [
    {
     "data": {
      "text/plain": [
       "count    1.229560e+05\n",
       "mean     1.251784e+04\n",
       "std      1.200240e+06\n",
       "min      0.000000e+00\n",
       "25%      2.000000e+01\n",
       "50%      2.500000e+02\n",
       "75%      1.200000e+03\n",
       "max      3.111283e+08\n",
       "Name: stolen_value, dtype: float64"
      ]
     },
     "execution_count": 27,
     "metadata": {},
     "output_type": "execute_result"
    }
   ],
   "source": [
    "cleaned_data.describe()['stolen_value']"
   ]
  },
  {
   "cell_type": "code",
   "execution_count": 28,
   "metadata": {},
   "outputs": [],
   "source": [
    "# Write this DataFrame out to a CSV file\n",
    "cleaned_data.to_csv(\"Resources/cargo_theft_cleaned.csv\", index = False)"
   ]
  },
  {
   "cell_type": "code",
   "execution_count": 29,
   "metadata": {},
   "outputs": [
    {
     "name": "stdout",
     "output_type": "stream",
     "text": [
      "(122956, 18)\n"
     ]
    },
    {
     "data": {
      "text/html": [
       "<div>\n",
       "<style scoped>\n",
       "    .dataframe tbody tr th:only-of-type {\n",
       "        vertical-align: middle;\n",
       "    }\n",
       "\n",
       "    .dataframe tbody tr th {\n",
       "        vertical-align: top;\n",
       "    }\n",
       "\n",
       "    .dataframe thead th {\n",
       "        text-align: right;\n",
       "    }\n",
       "</style>\n",
       "<table border=\"1\" class=\"dataframe\">\n",
       "  <thead>\n",
       "    <tr style=\"text-align: right;\">\n",
       "      <th></th>\n",
       "      <th>pub_agency_name</th>\n",
       "      <th>agency_type_name</th>\n",
       "      <th>state_name</th>\n",
       "      <th>division_name</th>\n",
       "      <th>county_name</th>\n",
       "      <th>region_name</th>\n",
       "      <th>population_group_code</th>\n",
       "      <th>offense_code</th>\n",
       "      <th>offender_race</th>\n",
       "      <th>offender_ethnicity</th>\n",
       "      <th>offender_age</th>\n",
       "      <th>offender_sex</th>\n",
       "      <th>victim_type_code</th>\n",
       "      <th>location_code</th>\n",
       "      <th>weapon_code</th>\n",
       "      <th>prop_desc_code</th>\n",
       "      <th>stolen_value</th>\n",
       "      <th>recovered_flag</th>\n",
       "    </tr>\n",
       "  </thead>\n",
       "  <tbody>\n",
       "    <tr>\n",
       "      <th>0</th>\n",
       "      <td>Angelina</td>\n",
       "      <td>County</td>\n",
       "      <td>Texas</td>\n",
       "      <td>West South Central</td>\n",
       "      <td>ANGELINA</td>\n",
       "      <td>South</td>\n",
       "      <td>8B</td>\n",
       "      <td>26B</td>\n",
       "      <td>Unknown</td>\n",
       "      <td>Unknown</td>\n",
       "      <td>0.0</td>\n",
       "      <td>U</td>\n",
       "      <td>I</td>\n",
       "      <td>25</td>\n",
       "      <td>95</td>\n",
       "      <td>20</td>\n",
       "      <td>375.0</td>\n",
       "      <td>False</td>\n",
       "    </tr>\n",
       "    <tr>\n",
       "      <th>1</th>\n",
       "      <td>Jefferson</td>\n",
       "      <td>County</td>\n",
       "      <td>Alabama</td>\n",
       "      <td>East South Central</td>\n",
       "      <td>JEFFERSON</td>\n",
       "      <td>South</td>\n",
       "      <td>9A</td>\n",
       "      <td>23H</td>\n",
       "      <td>Unknown</td>\n",
       "      <td>Unknown</td>\n",
       "      <td>0.0</td>\n",
       "      <td>U</td>\n",
       "      <td>I</td>\n",
       "      <td>20</td>\n",
       "      <td>95</td>\n",
       "      <td>77</td>\n",
       "      <td>1.0</td>\n",
       "      <td>False</td>\n",
       "    </tr>\n",
       "    <tr>\n",
       "      <th>2</th>\n",
       "      <td>Jefferson</td>\n",
       "      <td>County</td>\n",
       "      <td>Alabama</td>\n",
       "      <td>East South Central</td>\n",
       "      <td>JEFFERSON</td>\n",
       "      <td>South</td>\n",
       "      <td>9A</td>\n",
       "      <td>23H</td>\n",
       "      <td>Unknown</td>\n",
       "      <td>Unknown</td>\n",
       "      <td>0.0</td>\n",
       "      <td>U</td>\n",
       "      <td>I</td>\n",
       "      <td>20</td>\n",
       "      <td>95</td>\n",
       "      <td>65</td>\n",
       "      <td>0.0</td>\n",
       "      <td>False</td>\n",
       "    </tr>\n",
       "    <tr>\n",
       "      <th>3</th>\n",
       "      <td>Jefferson</td>\n",
       "      <td>County</td>\n",
       "      <td>Alabama</td>\n",
       "      <td>East South Central</td>\n",
       "      <td>JEFFERSON</td>\n",
       "      <td>South</td>\n",
       "      <td>9A</td>\n",
       "      <td>23H</td>\n",
       "      <td>Unknown</td>\n",
       "      <td>Unknown</td>\n",
       "      <td>0.0</td>\n",
       "      <td>U</td>\n",
       "      <td>I</td>\n",
       "      <td>20</td>\n",
       "      <td>95</td>\n",
       "      <td>13</td>\n",
       "      <td>320.0</td>\n",
       "      <td>False</td>\n",
       "    </tr>\n",
       "    <tr>\n",
       "      <th>4</th>\n",
       "      <td>Jefferson</td>\n",
       "      <td>County</td>\n",
       "      <td>Alabama</td>\n",
       "      <td>East South Central</td>\n",
       "      <td>JEFFERSON</td>\n",
       "      <td>South</td>\n",
       "      <td>9A</td>\n",
       "      <td>23F</td>\n",
       "      <td>Unknown</td>\n",
       "      <td>Unknown</td>\n",
       "      <td>0.0</td>\n",
       "      <td>U</td>\n",
       "      <td>I</td>\n",
       "      <td>20</td>\n",
       "      <td>95</td>\n",
       "      <td>77</td>\n",
       "      <td>1.0</td>\n",
       "      <td>False</td>\n",
       "    </tr>\n",
       "  </tbody>\n",
       "</table>\n",
       "</div>"
      ],
      "text/plain": [
       "  pub_agency_name agency_type_name state_name       division_name county_name  \\\n",
       "0        Angelina           County      Texas  West South Central    ANGELINA   \n",
       "1       Jefferson           County    Alabama  East South Central   JEFFERSON   \n",
       "2       Jefferson           County    Alabama  East South Central   JEFFERSON   \n",
       "3       Jefferson           County    Alabama  East South Central   JEFFERSON   \n",
       "4       Jefferson           County    Alabama  East South Central   JEFFERSON   \n",
       "\n",
       "  region_name population_group_code offense_code offender_race  \\\n",
       "0       South                    8B          26B       Unknown   \n",
       "1       South                    9A          23H       Unknown   \n",
       "2       South                    9A          23H       Unknown   \n",
       "3       South                    9A          23H       Unknown   \n",
       "4       South                    9A          23F       Unknown   \n",
       "\n",
       "  offender_ethnicity  offender_age offender_sex victim_type_code  \\\n",
       "0            Unknown           0.0            U                I   \n",
       "1            Unknown           0.0            U                I   \n",
       "2            Unknown           0.0            U                I   \n",
       "3            Unknown           0.0            U                I   \n",
       "4            Unknown           0.0            U                I   \n",
       "\n",
       "   location_code weapon_code  prop_desc_code  stolen_value  recovered_flag  \n",
       "0             25          95              20         375.0           False  \n",
       "1             20          95              77           1.0           False  \n",
       "2             20          95              65           0.0           False  \n",
       "3             20          95              13         320.0           False  \n",
       "4             20          95              77           1.0           False  "
      ]
     },
     "execution_count": 29,
     "metadata": {},
     "output_type": "execute_result"
    }
   ],
   "source": [
    "# Determine which columns will be used as features and which column will be the target.\n",
    "# For this case, it is easier to drop unneeded columns.\n",
    "not_added = [\"data_year\", \"pub_agency_unit\", \"population_group_desc\", \"offense_name\", \"victim_type_name\", \"location_name\", \"weapon_name\", \"prop_desc_name\", \"recovered_value\", \"date_recovered\"]\n",
    "binary_data = cleaned_data.drop(columns = not_added, axis = 1)\n",
    "print(binary_data.shape)\n",
    "binary_data.head() "
   ]
  },
  {
   "cell_type": "code",
   "execution_count": 30,
   "metadata": {},
   "outputs": [],
   "source": [
    "# Write this DataFrame out to a CSV file\n",
    "binary_data.to_csv(\"Resources/binary_classifier.csv\", index = False)"
   ]
  },
  {
   "cell_type": "markdown",
   "metadata": {},
   "source": [
    "## Logistic Regression"
   ]
  },
  {
   "cell_type": "code",
   "execution_count": 31,
   "metadata": {},
   "outputs": [],
   "source": [
    "import pandas as pd\n",
    "import numpy as np\n",
    "from statsmodels.stats.outliers_influence import variance_inflation_factor\n",
    "import statsmodels.api as sm\n",
    "from sklearn.metrics import classification_report, confusion_matrix\n",
    "from sklearn.model_selection import train_test_split\n",
    "from sklearn.preprocessing import StandardScaler\n",
    "from sklearn.linear_model import LogisticRegression\n",
    "import statsmodels.formula.api as smf\n",
    "import patsy\n",
    "import itertools"
   ]
  },
  {
   "cell_type": "code",
   "execution_count": 32,
   "metadata": {},
   "outputs": [],
   "source": [
    "# Transform text/object into numerical data for features to be used. \n",
    "from sklearn.preprocessing import LabelEncoder\n",
    "le = LabelEncoder()\n",
    "\n",
    "binary_data['population_group_code'] = le.fit_transform(cleaned_data['population_group_code'])\n",
    "binary_data['offense_code'] = le.fit_transform(cleaned_data['offense_code'])\n",
    "binary_data['offender_race'] = le.fit_transform(cleaned_data['offender_race'])\n",
    "binary_data['offender_ethnicity'] = le.fit_transform(cleaned_data['offender_ethnicity'])\n",
    "binary_data['offender_sex'] = le.fit_transform(cleaned_data['offender_sex'])\n",
    "binary_data['victim_type_code'] = le.fit_transform(cleaned_data['victim_type_code'])\n",
    "binary_data['recovered_flag'] = le.fit_transform(cleaned_data['recovered_flag'])"
   ]
  },
  {
   "cell_type": "code",
   "execution_count": 33,
   "metadata": {},
   "outputs": [],
   "source": [
    "X = binary_data[['population_group_code','offense_code','offender_race',\n",
    "    'offender_ethnicity','offender_age','offender_sex','victim_type_code','location_code',\n",
    "    'prop_desc_code','stolen_value']]\n",
    "\n",
    "y = binary_data['recovered_flag']"
   ]
  },
  {
   "cell_type": "code",
   "execution_count": 34,
   "metadata": {},
   "outputs": [
    {
     "data": {
      "text/html": [
       "<div>\n",
       "<style scoped>\n",
       "    .dataframe tbody tr th:only-of-type {\n",
       "        vertical-align: middle;\n",
       "    }\n",
       "\n",
       "    .dataframe tbody tr th {\n",
       "        vertical-align: top;\n",
       "    }\n",
       "\n",
       "    .dataframe thead th {\n",
       "        text-align: right;\n",
       "    }\n",
       "</style>\n",
       "<table border=\"1\" class=\"dataframe\">\n",
       "  <thead>\n",
       "    <tr style=\"text-align: right;\">\n",
       "      <th></th>\n",
       "      <th>feature</th>\n",
       "      <th>VIF</th>\n",
       "    </tr>\n",
       "  </thead>\n",
       "  <tbody>\n",
       "    <tr>\n",
       "      <th>0</th>\n",
       "      <td>population_group_code</td>\n",
       "      <td>3.542983</td>\n",
       "    </tr>\n",
       "    <tr>\n",
       "      <th>1</th>\n",
       "      <td>offense_code</td>\n",
       "      <td>4.057491</td>\n",
       "    </tr>\n",
       "    <tr>\n",
       "      <th>2</th>\n",
       "      <td>offender_race</td>\n",
       "      <td>13.655167</td>\n",
       "    </tr>\n",
       "    <tr>\n",
       "      <th>3</th>\n",
       "      <td>offender_ethnicity</td>\n",
       "      <td>14.380545</td>\n",
       "    </tr>\n",
       "    <tr>\n",
       "      <th>4</th>\n",
       "      <td>offender_age</td>\n",
       "      <td>2.217070</td>\n",
       "    </tr>\n",
       "    <tr>\n",
       "      <th>5</th>\n",
       "      <td>offender_sex</td>\n",
       "      <td>14.020552</td>\n",
       "    </tr>\n",
       "    <tr>\n",
       "      <th>6</th>\n",
       "      <td>victim_type_code</td>\n",
       "      <td>3.816982</td>\n",
       "    </tr>\n",
       "    <tr>\n",
       "      <th>7</th>\n",
       "      <td>location_code</td>\n",
       "      <td>5.148715</td>\n",
       "    </tr>\n",
       "    <tr>\n",
       "      <th>8</th>\n",
       "      <td>prop_desc_code</td>\n",
       "      <td>2.538717</td>\n",
       "    </tr>\n",
       "    <tr>\n",
       "      <th>9</th>\n",
       "      <td>stolen_value</td>\n",
       "      <td>1.000263</td>\n",
       "    </tr>\n",
       "  </tbody>\n",
       "</table>\n",
       "</div>"
      ],
      "text/plain": [
       "                 feature        VIF\n",
       "0  population_group_code   3.542983\n",
       "1           offense_code   4.057491\n",
       "2          offender_race  13.655167\n",
       "3     offender_ethnicity  14.380545\n",
       "4           offender_age   2.217070\n",
       "5           offender_sex  14.020552\n",
       "6       victim_type_code   3.816982\n",
       "7          location_code   5.148715\n",
       "8         prop_desc_code   2.538717\n",
       "9           stolen_value   1.000263"
      ]
     },
     "execution_count": 34,
     "metadata": {},
     "output_type": "execute_result"
    }
   ],
   "source": [
    "vif_data = pd.DataFrame()\n",
    "vif_data[\"feature\"] = X.columns\n",
    "vif_data[\"VIF\"] = [variance_inflation_factor(X.values, i) for i in range(len(X.columns))]\n",
    "vif_data"
   ]
  },
  {
   "cell_type": "code",
   "execution_count": 35,
   "metadata": {},
   "outputs": [
    {
     "data": {
      "text/plain": [
       "(92217, 10)"
      ]
     },
     "execution_count": 35,
     "metadata": {},
     "output_type": "execute_result"
    }
   ],
   "source": [
    "# split the dataset into training and testing sets:\n",
    "from sklearn.model_selection import train_test_split\n",
    "X_train, X_test, y_train, y_test = train_test_split(X, y, random_state=42, stratify=y)\n",
    "X_train.shape"
   ]
  },
  {
   "cell_type": "code",
   "execution_count": 36,
   "metadata": {},
   "outputs": [
    {
     "name": "stdout",
     "output_type": "stream",
     "text": [
      "Optimization terminated successfully.\n",
      "         Current function value: 0.377012\n",
      "         Iterations 6\n"
     ]
    },
    {
     "data": {
      "text/html": [
       "<table class=\"simpletable\">\n",
       "<caption>Logit Regression Results</caption>\n",
       "<tr>\n",
       "  <th>Dep. Variable:</th>    <td>recovered_flag</td>  <th>  No. Observations:  </th>  <td> 92217</td> \n",
       "</tr>\n",
       "<tr>\n",
       "  <th>Model:</th>                 <td>Logit</td>      <th>  Df Residuals:      </th>  <td> 92206</td> \n",
       "</tr>\n",
       "<tr>\n",
       "  <th>Method:</th>                 <td>MLE</td>       <th>  Df Model:          </th>  <td>    10</td> \n",
       "</tr>\n",
       "<tr>\n",
       "  <th>Date:</th>            <td>Thu, 09 Feb 2023</td> <th>  Pseudo R-squ.:     </th>  <td>0.07130</td>\n",
       "</tr>\n",
       "<tr>\n",
       "  <th>Time:</th>                <td>16:49:04</td>     <th>  Log-Likelihood:    </th> <td> -34767.</td>\n",
       "</tr>\n",
       "<tr>\n",
       "  <th>converged:</th>             <td>True</td>       <th>  LL-Null:           </th> <td> -37436.</td>\n",
       "</tr>\n",
       "<tr>\n",
       "  <th>Covariance Type:</th>     <td>nonrobust</td>    <th>  LLR p-value:       </th>  <td> 0.000</td> \n",
       "</tr>\n",
       "</table>\n",
       "<table class=\"simpletable\">\n",
       "<tr>\n",
       "            <td></td>               <th>coef</th>     <th>std err</th>      <th>z</th>      <th>P>|z|</th>  <th>[0.025</th>    <th>0.975]</th>  \n",
       "</tr>\n",
       "<tr>\n",
       "  <th>population_group_code</th> <td>   -0.0121</td> <td>    0.002</td> <td>   -5.724</td> <td> 0.000</td> <td>   -0.016</td> <td>   -0.008</td>\n",
       "</tr>\n",
       "<tr>\n",
       "  <th>offense_code</th>          <td>    0.0620</td> <td>    0.003</td> <td>   24.659</td> <td> 0.000</td> <td>    0.057</td> <td>    0.067</td>\n",
       "</tr>\n",
       "<tr>\n",
       "  <th>offender_race</th>         <td>    0.0187</td> <td>    0.009</td> <td>    2.136</td> <td> 0.033</td> <td>    0.002</td> <td>    0.036</td>\n",
       "</tr>\n",
       "<tr>\n",
       "  <th>offender_ethnicity</th>    <td>   -0.3449</td> <td>    0.013</td> <td>  -25.602</td> <td> 0.000</td> <td>   -0.371</td> <td>   -0.319</td>\n",
       "</tr>\n",
       "<tr>\n",
       "  <th>offender_age</th>          <td>    0.0065</td> <td>    0.001</td> <td>    9.813</td> <td> 0.000</td> <td>    0.005</td> <td>    0.008</td>\n",
       "</tr>\n",
       "<tr>\n",
       "  <th>offender_sex</th>          <td>   -0.3664</td> <td>    0.020</td> <td>  -18.439</td> <td> 0.000</td> <td>   -0.405</td> <td>   -0.327</td>\n",
       "</tr>\n",
       "<tr>\n",
       "  <th>victim_type_code</th>      <td>   -0.0344</td> <td>    0.007</td> <td>   -5.178</td> <td> 0.000</td> <td>   -0.047</td> <td>   -0.021</td>\n",
       "</tr>\n",
       "<tr>\n",
       "  <th>location_code</th>         <td>   -0.0015</td> <td>    0.001</td> <td>   -1.383</td> <td> 0.167</td> <td>   -0.004</td> <td>    0.001</td>\n",
       "</tr>\n",
       "<tr>\n",
       "  <th>prop_desc_code</th>        <td>   -0.0049</td> <td>    0.000</td> <td>  -13.194</td> <td> 0.000</td> <td>   -0.006</td> <td>   -0.004</td>\n",
       "</tr>\n",
       "<tr>\n",
       "  <th>stolen_value</th>          <td> 4.621e-09</td> <td> 5.17e-09</td> <td>    0.894</td> <td> 0.371</td> <td>-5.51e-09</td> <td> 1.48e-08</td>\n",
       "</tr>\n",
       "<tr>\n",
       "  <th>intercept</th>             <td>   -0.8176</td> <td>    0.060</td> <td>  -13.702</td> <td> 0.000</td> <td>   -0.935</td> <td>   -0.701</td>\n",
       "</tr>\n",
       "</table>"
      ],
      "text/plain": [
       "<class 'statsmodels.iolib.summary.Summary'>\n",
       "\"\"\"\n",
       "                           Logit Regression Results                           \n",
       "==============================================================================\n",
       "Dep. Variable:         recovered_flag   No. Observations:                92217\n",
       "Model:                          Logit   Df Residuals:                    92206\n",
       "Method:                           MLE   Df Model:                           10\n",
       "Date:                Thu, 09 Feb 2023   Pseudo R-squ.:                 0.07130\n",
       "Time:                        16:49:04   Log-Likelihood:                -34767.\n",
       "converged:                       True   LL-Null:                       -37436.\n",
       "Covariance Type:            nonrobust   LLR p-value:                     0.000\n",
       "=========================================================================================\n",
       "                            coef    std err          z      P>|z|      [0.025      0.975]\n",
       "-----------------------------------------------------------------------------------------\n",
       "population_group_code    -0.0121      0.002     -5.724      0.000      -0.016      -0.008\n",
       "offense_code              0.0620      0.003     24.659      0.000       0.057       0.067\n",
       "offender_race             0.0187      0.009      2.136      0.033       0.002       0.036\n",
       "offender_ethnicity       -0.3449      0.013    -25.602      0.000      -0.371      -0.319\n",
       "offender_age              0.0065      0.001      9.813      0.000       0.005       0.008\n",
       "offender_sex             -0.3664      0.020    -18.439      0.000      -0.405      -0.327\n",
       "victim_type_code         -0.0344      0.007     -5.178      0.000      -0.047      -0.021\n",
       "location_code            -0.0015      0.001     -1.383      0.167      -0.004       0.001\n",
       "prop_desc_code           -0.0049      0.000    -13.194      0.000      -0.006      -0.004\n",
       "stolen_value           4.621e-09   5.17e-09      0.894      0.371   -5.51e-09    1.48e-08\n",
       "intercept                -0.8176      0.060    -13.702      0.000      -0.935      -0.701\n",
       "=========================================================================================\n",
       "\"\"\""
      ]
     },
     "execution_count": 36,
     "metadata": {},
     "output_type": "execute_result"
    }
   ],
   "source": [
    "# Fitting model - Logit Regression\n",
    "import statsmodels.api as sm\n",
    "X_train['intercept'] = 1.0\n",
    "logit = sm.Logit(y_train, X_train)\n",
    "result = logit.fit()\n",
    "result.summary()"
   ]
  },
  {
   "cell_type": "code",
   "execution_count": 37,
   "metadata": {},
   "outputs": [
    {
     "data": {
      "text/html": [
       "<table class=\"simpletable\">\n",
       "<caption>Generalized Linear Model Regression Results</caption>\n",
       "<tr>\n",
       "  <th>Dep. Variable:</th>    <td>recovered_flag</td>  <th>  No. Observations:  </th>  <td> 92217</td> \n",
       "</tr>\n",
       "<tr>\n",
       "  <th>Model:</th>                  <td>GLM</td>       <th>  Df Residuals:      </th>  <td> 92206</td> \n",
       "</tr>\n",
       "<tr>\n",
       "  <th>Model Family:</th>        <td>Binomial</td>     <th>  Df Model:          </th>  <td>    10</td> \n",
       "</tr>\n",
       "<tr>\n",
       "  <th>Link Function:</th>         <td>Logit</td>      <th>  Scale:             </th> <td>  1.0000</td>\n",
       "</tr>\n",
       "<tr>\n",
       "  <th>Method:</th>                <td>IRLS</td>       <th>  Log-Likelihood:    </th> <td> -34767.</td>\n",
       "</tr>\n",
       "<tr>\n",
       "  <th>Date:</th>            <td>Thu, 09 Feb 2023</td> <th>  Deviance:          </th> <td>  69534.</td>\n",
       "</tr>\n",
       "<tr>\n",
       "  <th>Time:</th>                <td>16:49:05</td>     <th>  Pearson chi2:      </th> <td>8.90e+04</td>\n",
       "</tr>\n",
       "<tr>\n",
       "  <th>No. Iterations:</th>          <td>5</td>        <th>  Pseudo R-squ. (CS):</th>  <td>0.05625</td>\n",
       "</tr>\n",
       "<tr>\n",
       "  <th>Covariance Type:</th>     <td>nonrobust</td>    <th>                     </th>     <td> </td>   \n",
       "</tr>\n",
       "</table>\n",
       "<table class=\"simpletable\">\n",
       "<tr>\n",
       "            <td></td>               <th>coef</th>     <th>std err</th>      <th>z</th>      <th>P>|z|</th>  <th>[0.025</th>    <th>0.975]</th>  \n",
       "</tr>\n",
       "<tr>\n",
       "  <th>population_group_code</th> <td>   -0.0121</td> <td>    0.002</td> <td>   -5.724</td> <td> 0.000</td> <td>   -0.016</td> <td>   -0.008</td>\n",
       "</tr>\n",
       "<tr>\n",
       "  <th>offense_code</th>          <td>    0.0620</td> <td>    0.003</td> <td>   24.659</td> <td> 0.000</td> <td>    0.057</td> <td>    0.067</td>\n",
       "</tr>\n",
       "<tr>\n",
       "  <th>offender_race</th>         <td>    0.0187</td> <td>    0.009</td> <td>    2.136</td> <td> 0.033</td> <td>    0.002</td> <td>    0.036</td>\n",
       "</tr>\n",
       "<tr>\n",
       "  <th>offender_ethnicity</th>    <td>   -0.3449</td> <td>    0.013</td> <td>  -25.602</td> <td> 0.000</td> <td>   -0.371</td> <td>   -0.319</td>\n",
       "</tr>\n",
       "<tr>\n",
       "  <th>offender_age</th>          <td>    0.0065</td> <td>    0.001</td> <td>    9.813</td> <td> 0.000</td> <td>    0.005</td> <td>    0.008</td>\n",
       "</tr>\n",
       "<tr>\n",
       "  <th>offender_sex</th>          <td>   -0.3664</td> <td>    0.020</td> <td>  -18.439</td> <td> 0.000</td> <td>   -0.405</td> <td>   -0.327</td>\n",
       "</tr>\n",
       "<tr>\n",
       "  <th>victim_type_code</th>      <td>   -0.0344</td> <td>    0.007</td> <td>   -5.178</td> <td> 0.000</td> <td>   -0.047</td> <td>   -0.021</td>\n",
       "</tr>\n",
       "<tr>\n",
       "  <th>location_code</th>         <td>   -0.0015</td> <td>    0.001</td> <td>   -1.383</td> <td> 0.167</td> <td>   -0.004</td> <td>    0.001</td>\n",
       "</tr>\n",
       "<tr>\n",
       "  <th>prop_desc_code</th>        <td>   -0.0049</td> <td>    0.000</td> <td>  -13.194</td> <td> 0.000</td> <td>   -0.006</td> <td>   -0.004</td>\n",
       "</tr>\n",
       "<tr>\n",
       "  <th>stolen_value</th>          <td> 4.621e-09</td> <td> 5.17e-09</td> <td>    0.894</td> <td> 0.371</td> <td>-5.51e-09</td> <td> 1.48e-08</td>\n",
       "</tr>\n",
       "<tr>\n",
       "  <th>intercept</th>             <td>   -0.8176</td> <td>    0.060</td> <td>  -13.702</td> <td> 0.000</td> <td>   -0.935</td> <td>   -0.701</td>\n",
       "</tr>\n",
       "</table>"
      ],
      "text/plain": [
       "<class 'statsmodels.iolib.summary.Summary'>\n",
       "\"\"\"\n",
       "                 Generalized Linear Model Regression Results                  \n",
       "==============================================================================\n",
       "Dep. Variable:         recovered_flag   No. Observations:                92217\n",
       "Model:                            GLM   Df Residuals:                    92206\n",
       "Model Family:                Binomial   Df Model:                           10\n",
       "Link Function:                  Logit   Scale:                          1.0000\n",
       "Method:                          IRLS   Log-Likelihood:                -34767.\n",
       "Date:                Thu, 09 Feb 2023   Deviance:                       69534.\n",
       "Time:                        16:49:05   Pearson chi2:                 8.90e+04\n",
       "No. Iterations:                     5   Pseudo R-squ. (CS):            0.05625\n",
       "Covariance Type:            nonrobust                                         \n",
       "=========================================================================================\n",
       "                            coef    std err          z      P>|z|      [0.025      0.975]\n",
       "-----------------------------------------------------------------------------------------\n",
       "population_group_code    -0.0121      0.002     -5.724      0.000      -0.016      -0.008\n",
       "offense_code              0.0620      0.003     24.659      0.000       0.057       0.067\n",
       "offender_race             0.0187      0.009      2.136      0.033       0.002       0.036\n",
       "offender_ethnicity       -0.3449      0.013    -25.602      0.000      -0.371      -0.319\n",
       "offender_age              0.0065      0.001      9.813      0.000       0.005       0.008\n",
       "offender_sex             -0.3664      0.020    -18.439      0.000      -0.405      -0.327\n",
       "victim_type_code         -0.0344      0.007     -5.178      0.000      -0.047      -0.021\n",
       "location_code            -0.0015      0.001     -1.383      0.167      -0.004       0.001\n",
       "prop_desc_code           -0.0049      0.000    -13.194      0.000      -0.006      -0.004\n",
       "stolen_value           4.621e-09   5.17e-09      0.894      0.371   -5.51e-09    1.48e-08\n",
       "intercept                -0.8176      0.060    -13.702      0.000      -0.935      -0.701\n",
       "=========================================================================================\n",
       "\"\"\""
      ]
     },
     "execution_count": 37,
     "metadata": {},
     "output_type": "execute_result"
    }
   ],
   "source": [
    "# Binomial Logistic Regression\n",
    "log_reg = sm.GLM(y_train, X_train, family=sm.families.Binomial()).fit()\n",
    "log_reg.summary()"
   ]
  },
  {
   "cell_type": "code",
   "execution_count": 38,
   "metadata": {},
   "outputs": [
    {
     "name": "stderr",
     "output_type": "stream",
     "text": [
      "/opt/anaconda3/lib/python3.9/site-packages/statsmodels/base/model.py:127: ValueWarning: unknown kwargs ['random_state']\n",
      "  warnings.warn(msg, ValueWarning)\n",
      "/opt/anaconda3/lib/python3.9/site-packages/statsmodels/base/model.py:127: ValueWarning: unknown kwargs ['random_state']\n",
      "  warnings.warn(msg, ValueWarning)\n"
     ]
    },
    {
     "name": "stdout",
     "output_type": "stream",
     "text": [
      "Optimization terminated successfully.\n",
      "         Current function value: 0.376323\n",
      "         Iterations 6\n",
      "                           Logit Regression Results                           \n",
      "==============================================================================\n",
      "Dep. Variable:         recovered_flag   No. Observations:                98364\n",
      "Model:                          Logit   Df Residuals:                    98353\n",
      "Method:                           MLE   Df Model:                           10\n",
      "Date:                Thu, 09 Feb 2023   Pseudo R-squ.:                 0.07296\n",
      "Time:                        16:49:05   Log-Likelihood:                -37017.\n",
      "converged:                       True   LL-Null:                       -39930.\n",
      "Covariance Type:            nonrobust   LLR p-value:                     0.000\n",
      "=========================================================================================\n",
      "                            coef    std err          z      P>|z|      [0.025      0.975]\n",
      "-----------------------------------------------------------------------------------------\n",
      "const                    -0.8166      0.058    -14.144      0.000      -0.930      -0.703\n",
      "population_group_code    -0.0147      0.002     -7.158      0.000      -0.019      -0.011\n",
      "offense_code              0.0636      0.002     26.070      0.000       0.059       0.068\n",
      "offender_race             0.0185      0.008      2.182      0.029       0.002       0.035\n",
      "offender_ethnicity       -0.3475      0.013    -26.643      0.000      -0.373      -0.322\n",
      "offender_age              0.0073      0.001     11.424      0.000       0.006       0.009\n",
      "offender_sex             -0.3545      0.019    -18.371      0.000      -0.392      -0.317\n",
      "victim_type_code         -0.0375      0.006     -5.804      0.000      -0.050      -0.025\n",
      "location_code            -0.0026      0.001     -2.433      0.015      -0.005      -0.001\n",
      "prop_desc_code           -0.0046      0.000    -12.834      0.000      -0.005      -0.004\n",
      "stolen_value           4.397e-09   5.04e-09      0.873      0.383   -5.48e-09    1.43e-08\n",
      "=========================================================================================\n"
     ]
    }
   ],
   "source": [
    "X=sm.add_constant(X)\n",
    "#Splitting the dataset\n",
    "X_train, X_test, y_train, y_test = train_test_split(X, y, test_size=0.2, random_state=0)\n",
    "model=sm.Logit(y_train,X_train,random_state=0)\n",
    "result=model.fit()\n",
    "print(result.summary())"
   ]
  },
  {
   "cell_type": "code",
   "execution_count": 39,
   "metadata": {},
   "outputs": [
    {
     "data": {
      "text/html": [
       "<div>\n",
       "<style scoped>\n",
       "    .dataframe tbody tr th:only-of-type {\n",
       "        vertical-align: middle;\n",
       "    }\n",
       "\n",
       "    .dataframe tbody tr th {\n",
       "        vertical-align: top;\n",
       "    }\n",
       "\n",
       "    .dataframe thead th {\n",
       "        text-align: right;\n",
       "    }\n",
       "</style>\n",
       "<table border=\"1\" class=\"dataframe\">\n",
       "  <thead>\n",
       "    <tr style=\"text-align: right;\">\n",
       "      <th></th>\n",
       "      <th>coefficients</th>\n",
       "      <th>p-value</th>\n",
       "      <th>odds_ratio</th>\n",
       "    </tr>\n",
       "  </thead>\n",
       "  <tbody>\n",
       "    <tr>\n",
       "      <th>const</th>\n",
       "      <td>-8.165584e-01</td>\n",
       "      <td>2.021458e-45</td>\n",
       "      <td>0.441950</td>\n",
       "    </tr>\n",
       "    <tr>\n",
       "      <th>population_group_code</th>\n",
       "      <td>-1.466845e-02</td>\n",
       "      <td>8.167097e-13</td>\n",
       "      <td>0.985439</td>\n",
       "    </tr>\n",
       "    <tr>\n",
       "      <th>offense_code</th>\n",
       "      <td>6.359470e-02</td>\n",
       "      <td>7.985539e-150</td>\n",
       "      <td>1.065660</td>\n",
       "    </tr>\n",
       "    <tr>\n",
       "      <th>offender_race</th>\n",
       "      <td>1.848176e-02</td>\n",
       "      <td>2.911607e-02</td>\n",
       "      <td>1.018654</td>\n",
       "    </tr>\n",
       "    <tr>\n",
       "      <th>offender_ethnicity</th>\n",
       "      <td>-3.475229e-01</td>\n",
       "      <td>2.142245e-156</td>\n",
       "      <td>0.706436</td>\n",
       "    </tr>\n",
       "    <tr>\n",
       "      <th>offender_age</th>\n",
       "      <td>7.303784e-03</td>\n",
       "      <td>3.161318e-30</td>\n",
       "      <td>1.007331</td>\n",
       "    </tr>\n",
       "    <tr>\n",
       "      <th>offender_sex</th>\n",
       "      <td>-3.544591e-01</td>\n",
       "      <td>2.239136e-75</td>\n",
       "      <td>0.701553</td>\n",
       "    </tr>\n",
       "    <tr>\n",
       "      <th>victim_type_code</th>\n",
       "      <td>-3.749586e-02</td>\n",
       "      <td>6.468313e-09</td>\n",
       "      <td>0.963198</td>\n",
       "    </tr>\n",
       "    <tr>\n",
       "      <th>location_code</th>\n",
       "      <td>-2.616511e-03</td>\n",
       "      <td>1.495732e-02</td>\n",
       "      <td>0.997387</td>\n",
       "    </tr>\n",
       "    <tr>\n",
       "      <th>prop_desc_code</th>\n",
       "      <td>-4.629227e-03</td>\n",
       "      <td>1.062554e-37</td>\n",
       "      <td>0.995381</td>\n",
       "    </tr>\n",
       "    <tr>\n",
       "      <th>stolen_value</th>\n",
       "      <td>4.396706e-09</td>\n",
       "      <td>3.828072e-01</td>\n",
       "      <td>1.000000</td>\n",
       "    </tr>\n",
       "  </tbody>\n",
       "</table>\n",
       "</div>"
      ],
      "text/plain": [
       "                       coefficients        p-value  odds_ratio\n",
       "const                 -8.165584e-01   2.021458e-45    0.441950\n",
       "population_group_code -1.466845e-02   8.167097e-13    0.985439\n",
       "offense_code           6.359470e-02  7.985539e-150    1.065660\n",
       "offender_race          1.848176e-02   2.911607e-02    1.018654\n",
       "offender_ethnicity    -3.475229e-01  2.142245e-156    0.706436\n",
       "offender_age           7.303784e-03   3.161318e-30    1.007331\n",
       "offender_sex          -3.544591e-01   2.239136e-75    0.701553\n",
       "victim_type_code      -3.749586e-02   6.468313e-09    0.963198\n",
       "location_code         -2.616511e-03   1.495732e-02    0.997387\n",
       "prop_desc_code        -4.629227e-03   1.062554e-37    0.995381\n",
       "stolen_value           4.396706e-09   3.828072e-01    1.000000"
      ]
     },
     "execution_count": 39,
     "metadata": {},
     "output_type": "execute_result"
    }
   ],
   "source": [
    "# Fetching the statistics\n",
    "stat_df=pd.DataFrame({'coefficients':result.params, 'p-value': result.pvalues, 'odds_ratio': np.exp(result.params)})\n",
    "stat_df"
   ]
  },
  {
   "cell_type": "code",
   "execution_count": 40,
   "metadata": {},
   "outputs": [
    {
     "data": {
      "text/plain": [
       "Index(['population_group_code', 'offense_code', 'offender_race',\n",
       "       'offender_ethnicity', 'offender_age', 'offender_sex',\n",
       "       'victim_type_code', 'location_code', 'prop_desc_code'],\n",
       "      dtype='object')"
      ]
     },
     "execution_count": 40,
     "metadata": {},
     "output_type": "execute_result"
    }
   ],
   "source": [
    "# Condition for significant parameters\n",
    "significant_params=stat_df[stat_df['p-value']<=0.05].index\n",
    "significant_params= significant_params.drop('const')\n",
    "significant_params"
   ]
  },
  {
   "cell_type": "code",
   "execution_count": 41,
   "metadata": {},
   "outputs": [
    {
     "name": "stdout",
     "output_type": "stream",
     "text": [
      "Total number of parameters: 11 \n"
     ]
    },
    {
     "data": {
      "text/plain": [
       "offense_code             1.065660\n",
       "offender_race            1.018654\n",
       "offender_age             1.007331\n",
       "location_code            0.997387\n",
       "prop_desc_code           0.995381\n",
       "population_group_code    0.985439\n",
       "victim_type_code         0.963198\n",
       "offender_ethnicity       0.706436\n",
       "offender_sex             0.701553\n",
       "Name: odds_ratio, dtype: float64"
      ]
     },
     "execution_count": 41,
     "metadata": {},
     "output_type": "execute_result"
    }
   ],
   "source": [
    "print('Total number of parameters: %s '%len(X.keys()) )\n",
    "stat_df.loc[significant_params].sort_values('odds_ratio', ascending=False)['odds_ratio']"
   ]
  },
  {
   "cell_type": "code",
   "execution_count": 42,
   "metadata": {},
   "outputs": [
    {
     "data": {
      "text/plain": [
       "LogisticRegression(max_iter=200, random_state=42)"
      ]
     },
     "execution_count": 42,
     "metadata": {},
     "output_type": "execute_result"
    }
   ],
   "source": [
    "# create a logistic regression model with the specified arguments\n",
    "from sklearn.linear_model import LogisticRegression\n",
    "classifier = LogisticRegression(solver='lbfgs', max_iter=200, random_state=42)\n",
    "classifier"
   ]
  },
  {
   "cell_type": "code",
   "execution_count": 43,
   "metadata": {},
   "outputs": [
    {
     "data": {
      "text/plain": [
       "LogisticRegression(max_iter=200, random_state=42)"
      ]
     },
     "execution_count": 43,
     "metadata": {},
     "output_type": "execute_result"
    }
   ],
   "source": [
    "# trained the model with the training data:\n",
    "classifier.fit(X_train, y_train)"
   ]
  },
  {
   "cell_type": "code",
   "execution_count": 44,
   "metadata": {},
   "outputs": [],
   "source": [
    "y_pred=result.predict(X_test)"
   ]
  },
  {
   "cell_type": "code",
   "execution_count": 45,
   "metadata": {},
   "outputs": [],
   "source": [
    "# ROC Curve\n",
    "from sklearn.metrics import roc_auc_score\n",
    "from sklearn.metrics import roc_curve\n",
    "fpr, tpr, thresholds = roc_curve(y_test, y_pred)\n",
    "# To get roc stats in df\n",
    "roc_df=pd.DataFrame({'thresholds': thresholds,'tpr':tpr,'fpr':fpr})"
   ]
  },
  {
   "cell_type": "code",
   "execution_count": 46,
   "metadata": {},
   "outputs": [
    {
     "data": {
      "image/png": "[encoded data removed]",
      "text/plain": [
       "<Figure size 864x576 with 1 Axes>"
      ]
     },
     "metadata": {
      "needs_background": "light"
     },
     "output_type": "display_data"
    }
   ],
   "source": [
    "import matplotlib.pyplot as plt\n",
    "# Plotting the ROC curve\n",
    "plt.figure(figsize=(12,8))\n",
    "plt.plot(fpr, tpr, label= 'Logistic Regression (Sensitivity = %0.3f )', marker='o')\n",
    "plt.plot([0,1], [0,1] , 'r-')\n",
    "plt.xlim(0,1)\n",
    "plt.ylim(0,1.05)\n",
    "plt.xlabel('False Positive Rate')\n",
    "plt.ylabel('True Positive rate')\n",
    "plt.title('Receiver Operating Characteristics')\n",
    "plt.legend(loc='lower right')\n",
    "plt.show()"
   ]
  },
  {
   "cell_type": "code",
   "execution_count": 47,
   "metadata": {},
   "outputs": [],
   "source": [
    "# Converting y into binary. Here 0.5 is the threshold\n",
    "opt_thr=0.5\n",
    "y_pred=result.predict(X_test)\n",
    "y_pred= np.where(y_pred>opt_thr,1,0)"
   ]
  },
  {
   "cell_type": "code",
   "execution_count": 48,
   "metadata": {},
   "outputs": [
    {
     "data": {
      "text/html": [
       "<div>\n",
       "<style scoped>\n",
       "    .dataframe tbody tr th:only-of-type {\n",
       "        vertical-align: middle;\n",
       "    }\n",
       "\n",
       "    .dataframe tbody tr th {\n",
       "        vertical-align: top;\n",
       "    }\n",
       "\n",
       "    .dataframe thead th {\n",
       "        text-align: right;\n",
       "    }\n",
       "</style>\n",
       "<table border=\"1\" class=\"dataframe\">\n",
       "  <thead>\n",
       "    <tr style=\"text-align: right;\">\n",
       "      <th></th>\n",
       "      <th>Prediction</th>\n",
       "      <th>Actual</th>\n",
       "    </tr>\n",
       "  </thead>\n",
       "  <tbody>\n",
       "    <tr>\n",
       "      <th>96801</th>\n",
       "      <td>0</td>\n",
       "      <td>0</td>\n",
       "    </tr>\n",
       "    <tr>\n",
       "      <th>29570</th>\n",
       "      <td>0</td>\n",
       "      <td>0</td>\n",
       "    </tr>\n",
       "    <tr>\n",
       "      <th>127632</th>\n",
       "      <td>0</td>\n",
       "      <td>0</td>\n",
       "    </tr>\n",
       "    <tr>\n",
       "      <th>106584</th>\n",
       "      <td>0</td>\n",
       "      <td>0</td>\n",
       "    </tr>\n",
       "    <tr>\n",
       "      <th>149368</th>\n",
       "      <td>0</td>\n",
       "      <td>0</td>\n",
       "    </tr>\n",
       "    <tr>\n",
       "      <th>...</th>\n",
       "      <td>...</td>\n",
       "      <td>...</td>\n",
       "    </tr>\n",
       "    <tr>\n",
       "      <th>111198</th>\n",
       "      <td>0</td>\n",
       "      <td>0</td>\n",
       "    </tr>\n",
       "    <tr>\n",
       "      <th>147789</th>\n",
       "      <td>0</td>\n",
       "      <td>0</td>\n",
       "    </tr>\n",
       "    <tr>\n",
       "      <th>26074</th>\n",
       "      <td>0</td>\n",
       "      <td>0</td>\n",
       "    </tr>\n",
       "    <tr>\n",
       "      <th>145189</th>\n",
       "      <td>0</td>\n",
       "      <td>0</td>\n",
       "    </tr>\n",
       "    <tr>\n",
       "      <th>18868</th>\n",
       "      <td>0</td>\n",
       "      <td>0</td>\n",
       "    </tr>\n",
       "  </tbody>\n",
       "</table>\n",
       "<p>24592 rows × 2 columns</p>\n",
       "</div>"
      ],
      "text/plain": [
       "        Prediction  Actual\n",
       "96801            0       0\n",
       "29570            0       0\n",
       "127632           0       0\n",
       "106584           0       0\n",
       "149368           0       0\n",
       "...            ...     ...\n",
       "111198           0       0\n",
       "147789           0       0\n",
       "26074            0       0\n",
       "145189           0       0\n",
       "18868            0       0\n",
       "\n",
       "[24592 rows x 2 columns]"
      ]
     },
     "execution_count": 48,
     "metadata": {},
     "output_type": "execute_result"
    }
   ],
   "source": [
    "# to create predictions based on X_test.\n",
    "predictions = classifier.predict(X_test)\n",
    "pd.DataFrame({\"Prediction\": predictions, \"Actual\": y_test})"
   ]
  },
  {
   "cell_type": "code",
   "execution_count": 49,
   "metadata": {},
   "outputs": [
    {
     "data": {
      "text/plain": [
       "Text(33.0, 0.5, 'Actual Output')"
      ]
     },
     "execution_count": 49,
     "metadata": {},
     "output_type": "execute_result"
    },
    {
     "data": {
      "image/png": "[encoded data removed]",
      "text/plain": [
       "<Figure size 432x288 with 2 Axes>"
      ]
     },
     "metadata": {
      "needs_background": "light"
     },
     "output_type": "display_data"
    }
   ],
   "source": [
    "# Getting confusion Matrix\n",
    "import seaborn as sns\n",
    "cm= confusion_matrix(y_test,y_pred)\n",
    "ax=sns.heatmap(cm, annot=True, fmt=\"0\", annot_kws={\"size\":20})\n",
    "plt.xlabel('Predicted Output', fontsize=20)\n",
    "plt.ylabel('Actual Output', fontsize=20)"
   ]
  },
  {
   "cell_type": "code",
   "execution_count": 50,
   "metadata": {},
   "outputs": [
    {
     "data": {
      "text/plain": [
       "0.8594258295380611"
      ]
     },
     "execution_count": 50,
     "metadata": {},
     "output_type": "execute_result"
    }
   ],
   "source": [
    "from sklearn.metrics import accuracy_score\n",
    "accuracy_score(y_test, predictions)"
   ]
  },
  {
   "cell_type": "code",
   "execution_count": 51,
   "metadata": {},
   "outputs": [
    {
     "name": "stdout",
     "output_type": "stream",
     "text": [
      "              precision    recall  f1-score   support\n",
      "\n",
      "           0       0.86      1.00      0.92     21135\n",
      "           1       0.21      0.00      0.00      3457\n",
      "\n",
      "    accuracy                           0.86     24592\n",
      "   macro avg       0.53      0.50      0.46     24592\n",
      "weighted avg       0.77      0.86      0.79     24592\n",
      "\n"
     ]
    }
   ],
   "source": [
    "# Classification Report\n",
    "print(classification_report(y_test, y_pred))"
   ]
  },
  {
   "cell_type": "markdown",
   "metadata": {},
   "source": [
    "## Logistic Regression 2 - Dropped offender_sex, offender_race and offender_ethnicity columns"
   ]
  },
  {
   "cell_type": "code",
   "execution_count": 52,
   "metadata": {},
   "outputs": [],
   "source": [
    "X1 = binary_data[['population_group_code','offense_code','offender_age','victim_type_code','location_code',\n",
    "    'prop_desc_code','stolen_value']]\n",
    "\n",
    "y1 = binary_data['recovered_flag']"
   ]
  },
  {
   "cell_type": "code",
   "execution_count": 53,
   "metadata": {},
   "outputs": [
    {
     "data": {
      "text/html": [
       "<div>\n",
       "<style scoped>\n",
       "    .dataframe tbody tr th:only-of-type {\n",
       "        vertical-align: middle;\n",
       "    }\n",
       "\n",
       "    .dataframe tbody tr th {\n",
       "        vertical-align: top;\n",
       "    }\n",
       "\n",
       "    .dataframe thead th {\n",
       "        text-align: right;\n",
       "    }\n",
       "</style>\n",
       "<table border=\"1\" class=\"dataframe\">\n",
       "  <thead>\n",
       "    <tr style=\"text-align: right;\">\n",
       "      <th></th>\n",
       "      <th>feature</th>\n",
       "      <th>VIF</th>\n",
       "    </tr>\n",
       "  </thead>\n",
       "  <tbody>\n",
       "    <tr>\n",
       "      <th>0</th>\n",
       "      <td>population_group_code</td>\n",
       "      <td>3.170106</td>\n",
       "    </tr>\n",
       "    <tr>\n",
       "      <th>1</th>\n",
       "      <td>offense_code</td>\n",
       "      <td>3.310374</td>\n",
       "    </tr>\n",
       "    <tr>\n",
       "      <th>2</th>\n",
       "      <td>offender_age</td>\n",
       "      <td>1.458783</td>\n",
       "    </tr>\n",
       "    <tr>\n",
       "      <th>3</th>\n",
       "      <td>victim_type_code</td>\n",
       "      <td>3.372951</td>\n",
       "    </tr>\n",
       "    <tr>\n",
       "      <th>4</th>\n",
       "      <td>location_code</td>\n",
       "      <td>4.153879</td>\n",
       "    </tr>\n",
       "    <tr>\n",
       "      <th>5</th>\n",
       "      <td>prop_desc_code</td>\n",
       "      <td>2.314177</td>\n",
       "    </tr>\n",
       "    <tr>\n",
       "      <th>6</th>\n",
       "      <td>stolen_value</td>\n",
       "      <td>1.000176</td>\n",
       "    </tr>\n",
       "  </tbody>\n",
       "</table>\n",
       "</div>"
      ],
      "text/plain": [
       "                 feature       VIF\n",
       "0  population_group_code  3.170106\n",
       "1           offense_code  3.310374\n",
       "2           offender_age  1.458783\n",
       "3       victim_type_code  3.372951\n",
       "4          location_code  4.153879\n",
       "5         prop_desc_code  2.314177\n",
       "6           stolen_value  1.000176"
      ]
     },
     "execution_count": 53,
     "metadata": {},
     "output_type": "execute_result"
    }
   ],
   "source": [
    "vif_data1 = pd.DataFrame()\n",
    "vif_data1[\"feature\"] = X1.columns\n",
    "vif_data1[\"VIF\"] = [variance_inflation_factor(X1.values, i) for i in range(len(X1.columns))]\n",
    "vif_data1"
   ]
  },
  {
   "cell_type": "code",
   "execution_count": 54,
   "metadata": {},
   "outputs": [
    {
     "data": {
      "text/plain": [
       "(92217, 7)"
      ]
     },
     "execution_count": 54,
     "metadata": {},
     "output_type": "execute_result"
    }
   ],
   "source": [
    "# split the dataset into training and testing sets:\n",
    "from sklearn.model_selection import train_test_split\n",
    "X_train1, X_test1, y_train1, y_test1 = train_test_split(X1, y1, random_state=42, stratify=y)\n",
    "X_train1.shape"
   ]
  },
  {
   "cell_type": "code",
   "execution_count": 55,
   "metadata": {},
   "outputs": [
    {
     "name": "stdout",
     "output_type": "stream",
     "text": [
      "Optimization terminated successfully.\n",
      "         Current function value: 0.386981\n",
      "         Iterations 6\n"
     ]
    },
    {
     "data": {
      "text/html": [
       "<table class=\"simpletable\">\n",
       "<caption>Logit Regression Results</caption>\n",
       "<tr>\n",
       "  <th>Dep. Variable:</th>    <td>recovered_flag</td>  <th>  No. Observations:  </th>  <td> 92217</td> \n",
       "</tr>\n",
       "<tr>\n",
       "  <th>Model:</th>                 <td>Logit</td>      <th>  Df Residuals:      </th>  <td> 92209</td> \n",
       "</tr>\n",
       "<tr>\n",
       "  <th>Method:</th>                 <td>MLE</td>       <th>  Df Model:          </th>  <td>     7</td> \n",
       "</tr>\n",
       "<tr>\n",
       "  <th>Date:</th>            <td>Thu, 09 Feb 2023</td> <th>  Pseudo R-squ.:     </th>  <td>0.04675</td>\n",
       "</tr>\n",
       "<tr>\n",
       "  <th>Time:</th>                <td>16:49:09</td>     <th>  Log-Likelihood:    </th> <td> -35686.</td>\n",
       "</tr>\n",
       "<tr>\n",
       "  <th>converged:</th>             <td>True</td>       <th>  LL-Null:           </th> <td> -37436.</td>\n",
       "</tr>\n",
       "<tr>\n",
       "  <th>Covariance Type:</th>     <td>nonrobust</td>    <th>  LLR p-value:       </th>  <td> 0.000</td> \n",
       "</tr>\n",
       "</table>\n",
       "<table class=\"simpletable\">\n",
       "<tr>\n",
       "            <td></td>               <th>coef</th>     <th>std err</th>      <th>z</th>      <th>P>|z|</th>  <th>[0.025</th>    <th>0.975]</th>  \n",
       "</tr>\n",
       "<tr>\n",
       "  <th>population_group_code</th> <td>   -0.0079</td> <td>    0.002</td> <td>   -3.891</td> <td> 0.000</td> <td>   -0.012</td> <td>   -0.004</td>\n",
       "</tr>\n",
       "<tr>\n",
       "  <th>offense_code</th>          <td>    0.0661</td> <td>    0.003</td> <td>   25.978</td> <td> 0.000</td> <td>    0.061</td> <td>    0.071</td>\n",
       "</tr>\n",
       "<tr>\n",
       "  <th>offender_age</th>          <td>    0.0232</td> <td>    0.000</td> <td>   49.142</td> <td> 0.000</td> <td>    0.022</td> <td>    0.024</td>\n",
       "</tr>\n",
       "<tr>\n",
       "  <th>victim_type_code</th>      <td>   -0.0326</td> <td>    0.007</td> <td>   -4.866</td> <td> 0.000</td> <td>   -0.046</td> <td>   -0.019</td>\n",
       "</tr>\n",
       "<tr>\n",
       "  <th>location_code</th>         <td>   -0.0028</td> <td>    0.001</td> <td>   -2.540</td> <td> 0.011</td> <td>   -0.005</td> <td>   -0.001</td>\n",
       "</tr>\n",
       "<tr>\n",
       "  <th>prop_desc_code</th>        <td>   -0.0054</td> <td>    0.000</td> <td>  -14.475</td> <td> 0.000</td> <td>   -0.006</td> <td>   -0.005</td>\n",
       "</tr>\n",
       "<tr>\n",
       "  <th>stolen_value</th>          <td> 6.756e-09</td> <td>  5.4e-09</td> <td>    1.250</td> <td> 0.211</td> <td>-3.83e-09</td> <td> 1.73e-08</td>\n",
       "</tr>\n",
       "<tr>\n",
       "  <th>intercept</th>             <td>   -2.2885</td> <td>    0.038</td> <td>  -59.620</td> <td> 0.000</td> <td>   -2.364</td> <td>   -2.213</td>\n",
       "</tr>\n",
       "</table>"
      ],
      "text/plain": [
       "<class 'statsmodels.iolib.summary.Summary'>\n",
       "\"\"\"\n",
       "                           Logit Regression Results                           \n",
       "==============================================================================\n",
       "Dep. Variable:         recovered_flag   No. Observations:                92217\n",
       "Model:                          Logit   Df Residuals:                    92209\n",
       "Method:                           MLE   Df Model:                            7\n",
       "Date:                Thu, 09 Feb 2023   Pseudo R-squ.:                 0.04675\n",
       "Time:                        16:49:09   Log-Likelihood:                -35686.\n",
       "converged:                       True   LL-Null:                       -37436.\n",
       "Covariance Type:            nonrobust   LLR p-value:                     0.000\n",
       "=========================================================================================\n",
       "                            coef    std err          z      P>|z|      [0.025      0.975]\n",
       "-----------------------------------------------------------------------------------------\n",
       "population_group_code    -0.0079      0.002     -3.891      0.000      -0.012      -0.004\n",
       "offense_code              0.0661      0.003     25.978      0.000       0.061       0.071\n",
       "offender_age              0.0232      0.000     49.142      0.000       0.022       0.024\n",
       "victim_type_code         -0.0326      0.007     -4.866      0.000      -0.046      -0.019\n",
       "location_code            -0.0028      0.001     -2.540      0.011      -0.005      -0.001\n",
       "prop_desc_code           -0.0054      0.000    -14.475      0.000      -0.006      -0.005\n",
       "stolen_value           6.756e-09    5.4e-09      1.250      0.211   -3.83e-09    1.73e-08\n",
       "intercept                -2.2885      0.038    -59.620      0.000      -2.364      -2.213\n",
       "=========================================================================================\n",
       "\"\"\""
      ]
     },
     "execution_count": 55,
     "metadata": {},
     "output_type": "execute_result"
    }
   ],
   "source": [
    "# Fitting model - Logit Regression\n",
    "import statsmodels.api as sm\n",
    "X_train1['intercept'] = 1.0\n",
    "logit = sm.Logit(y_train1, X_train1)\n",
    "result1 = logit.fit()\n",
    "result1.summary()"
   ]
  },
  {
   "cell_type": "code",
   "execution_count": 56,
   "metadata": {},
   "outputs": [
    {
     "data": {
      "text/html": [
       "<table class=\"simpletable\">\n",
       "<caption>Generalized Linear Model Regression Results</caption>\n",
       "<tr>\n",
       "  <th>Dep. Variable:</th>    <td>recovered_flag</td>  <th>  No. Observations:  </th>  <td> 92217</td> \n",
       "</tr>\n",
       "<tr>\n",
       "  <th>Model:</th>                  <td>GLM</td>       <th>  Df Residuals:      </th>  <td> 92209</td> \n",
       "</tr>\n",
       "<tr>\n",
       "  <th>Model Family:</th>        <td>Binomial</td>     <th>  Df Model:          </th>  <td>     7</td> \n",
       "</tr>\n",
       "<tr>\n",
       "  <th>Link Function:</th>         <td>Logit</td>      <th>  Scale:             </th> <td>  1.0000</td>\n",
       "</tr>\n",
       "<tr>\n",
       "  <th>Method:</th>                <td>IRLS</td>       <th>  Log-Likelihood:    </th> <td> -35686.</td>\n",
       "</tr>\n",
       "<tr>\n",
       "  <th>Date:</th>            <td>Thu, 09 Feb 2023</td> <th>  Deviance:          </th> <td>  71372.</td>\n",
       "</tr>\n",
       "<tr>\n",
       "  <th>Time:</th>                <td>16:49:10</td>     <th>  Pearson chi2:      </th> <td>8.93e+04</td>\n",
       "</tr>\n",
       "<tr>\n",
       "  <th>No. Iterations:</th>          <td>5</td>        <th>  Pseudo R-squ. (CS):</th>  <td>0.03724</td>\n",
       "</tr>\n",
       "<tr>\n",
       "  <th>Covariance Type:</th>     <td>nonrobust</td>    <th>                     </th>     <td> </td>   \n",
       "</tr>\n",
       "</table>\n",
       "<table class=\"simpletable\">\n",
       "<tr>\n",
       "            <td></td>               <th>coef</th>     <th>std err</th>      <th>z</th>      <th>P>|z|</th>  <th>[0.025</th>    <th>0.975]</th>  \n",
       "</tr>\n",
       "<tr>\n",
       "  <th>population_group_code</th> <td>   -0.0079</td> <td>    0.002</td> <td>   -3.891</td> <td> 0.000</td> <td>   -0.012</td> <td>   -0.004</td>\n",
       "</tr>\n",
       "<tr>\n",
       "  <th>offense_code</th>          <td>    0.0661</td> <td>    0.003</td> <td>   25.978</td> <td> 0.000</td> <td>    0.061</td> <td>    0.071</td>\n",
       "</tr>\n",
       "<tr>\n",
       "  <th>offender_age</th>          <td>    0.0232</td> <td>    0.000</td> <td>   49.142</td> <td> 0.000</td> <td>    0.022</td> <td>    0.024</td>\n",
       "</tr>\n",
       "<tr>\n",
       "  <th>victim_type_code</th>      <td>   -0.0326</td> <td>    0.007</td> <td>   -4.866</td> <td> 0.000</td> <td>   -0.046</td> <td>   -0.019</td>\n",
       "</tr>\n",
       "<tr>\n",
       "  <th>location_code</th>         <td>   -0.0028</td> <td>    0.001</td> <td>   -2.540</td> <td> 0.011</td> <td>   -0.005</td> <td>   -0.001</td>\n",
       "</tr>\n",
       "<tr>\n",
       "  <th>prop_desc_code</th>        <td>   -0.0054</td> <td>    0.000</td> <td>  -14.475</td> <td> 0.000</td> <td>   -0.006</td> <td>   -0.005</td>\n",
       "</tr>\n",
       "<tr>\n",
       "  <th>stolen_value</th>          <td> 6.756e-09</td> <td>  5.4e-09</td> <td>    1.250</td> <td> 0.211</td> <td>-3.83e-09</td> <td> 1.73e-08</td>\n",
       "</tr>\n",
       "<tr>\n",
       "  <th>intercept</th>             <td>   -2.2885</td> <td>    0.038</td> <td>  -59.620</td> <td> 0.000</td> <td>   -2.364</td> <td>   -2.213</td>\n",
       "</tr>\n",
       "</table>"
      ],
      "text/plain": [
       "<class 'statsmodels.iolib.summary.Summary'>\n",
       "\"\"\"\n",
       "                 Generalized Linear Model Regression Results                  \n",
       "==============================================================================\n",
       "Dep. Variable:         recovered_flag   No. Observations:                92217\n",
       "Model:                            GLM   Df Residuals:                    92209\n",
       "Model Family:                Binomial   Df Model:                            7\n",
       "Link Function:                  Logit   Scale:                          1.0000\n",
       "Method:                          IRLS   Log-Likelihood:                -35686.\n",
       "Date:                Thu, 09 Feb 2023   Deviance:                       71372.\n",
       "Time:                        16:49:10   Pearson chi2:                 8.93e+04\n",
       "No. Iterations:                     5   Pseudo R-squ. (CS):            0.03724\n",
       "Covariance Type:            nonrobust                                         \n",
       "=========================================================================================\n",
       "                            coef    std err          z      P>|z|      [0.025      0.975]\n",
       "-----------------------------------------------------------------------------------------\n",
       "population_group_code    -0.0079      0.002     -3.891      0.000      -0.012      -0.004\n",
       "offense_code              0.0661      0.003     25.978      0.000       0.061       0.071\n",
       "offender_age              0.0232      0.000     49.142      0.000       0.022       0.024\n",
       "victim_type_code         -0.0326      0.007     -4.866      0.000      -0.046      -0.019\n",
       "location_code            -0.0028      0.001     -2.540      0.011      -0.005      -0.001\n",
       "prop_desc_code           -0.0054      0.000    -14.475      0.000      -0.006      -0.005\n",
       "stolen_value           6.756e-09    5.4e-09      1.250      0.211   -3.83e-09    1.73e-08\n",
       "intercept                -2.2885      0.038    -59.620      0.000      -2.364      -2.213\n",
       "=========================================================================================\n",
       "\"\"\""
      ]
     },
     "execution_count": 56,
     "metadata": {},
     "output_type": "execute_result"
    }
   ],
   "source": [
    "# Binomial Logistic Regression\n",
    "log_reg1 = sm.GLM(y_train1, X_train1, family=sm.families.Binomial()).fit()\n",
    "log_reg1.summary()"
   ]
  },
  {
   "cell_type": "code",
   "execution_count": 57,
   "metadata": {},
   "outputs": [
    {
     "name": "stderr",
     "output_type": "stream",
     "text": [
      "/opt/anaconda3/lib/python3.9/site-packages/statsmodels/base/model.py:127: ValueWarning: unknown kwargs ['random_state']\n",
      "  warnings.warn(msg, ValueWarning)\n",
      "/opt/anaconda3/lib/python3.9/site-packages/statsmodels/base/model.py:127: ValueWarning: unknown kwargs ['random_state']\n",
      "  warnings.warn(msg, ValueWarning)\n"
     ]
    },
    {
     "name": "stdout",
     "output_type": "stream",
     "text": [
      "Optimization terminated successfully.\n",
      "         Current function value: 0.386155\n",
      "         Iterations 6\n",
      "                           Logit Regression Results                           \n",
      "==============================================================================\n",
      "Dep. Variable:         recovered_flag   No. Observations:                98364\n",
      "Model:                          Logit   Df Residuals:                    98356\n",
      "Method:                           MLE   Df Model:                            7\n",
      "Date:                Thu, 09 Feb 2023   Pseudo R-squ.:                 0.04874\n",
      "Time:                        16:49:10   Log-Likelihood:                -37984.\n",
      "converged:                       True   LL-Null:                       -39930.\n",
      "Covariance Type:            nonrobust   LLR p-value:                     0.000\n",
      "=========================================================================================\n",
      "                            coef    std err          z      P>|z|      [0.025      0.975]\n",
      "-----------------------------------------------------------------------------------------\n",
      "const                    -2.2737      0.037    -61.159      0.000      -2.347      -2.201\n",
      "population_group_code    -0.0106      0.002     -5.318      0.000      -0.014      -0.007\n",
      "offense_code              0.0675      0.002     27.367      0.000       0.063       0.072\n",
      "offender_age              0.0237      0.000     51.749      0.000       0.023       0.025\n",
      "victim_type_code         -0.0359      0.006     -5.527      0.000      -0.049      -0.023\n",
      "location_code            -0.0037      0.001     -3.490      0.000      -0.006      -0.002\n",
      "prop_desc_code           -0.0051      0.000    -14.174      0.000      -0.006      -0.004\n",
      "stolen_value           6.293e-09   5.18e-09      1.215      0.224   -3.86e-09    1.64e-08\n",
      "=========================================================================================\n"
     ]
    }
   ],
   "source": [
    "X1=sm.add_constant(X1)\n",
    "#Splitting the dataset\n",
    "X_train1, X_test1, y_train1, y_test1 = train_test_split(X1, y1, test_size=0.2, random_state=0)\n",
    "model1=sm.Logit(y_train1,X_train1,random_state=0)\n",
    "result1=model1.fit()\n",
    "print(result1.summary())"
   ]
  },
  {
   "cell_type": "code",
   "execution_count": 58,
   "metadata": {},
   "outputs": [
    {
     "data": {
      "text/html": [
       "<div>\n",
       "<style scoped>\n",
       "    .dataframe tbody tr th:only-of-type {\n",
       "        vertical-align: middle;\n",
       "    }\n",
       "\n",
       "    .dataframe tbody tr th {\n",
       "        vertical-align: top;\n",
       "    }\n",
       "\n",
       "    .dataframe thead th {\n",
       "        text-align: right;\n",
       "    }\n",
       "</style>\n",
       "<table border=\"1\" class=\"dataframe\">\n",
       "  <thead>\n",
       "    <tr style=\"text-align: right;\">\n",
       "      <th></th>\n",
       "      <th>coefficients</th>\n",
       "      <th>p-value</th>\n",
       "      <th>odds_ratio</th>\n",
       "    </tr>\n",
       "  </thead>\n",
       "  <tbody>\n",
       "    <tr>\n",
       "      <th>const</th>\n",
       "      <td>-2.273662e+00</td>\n",
       "      <td>0.000000e+00</td>\n",
       "      <td>0.102935</td>\n",
       "    </tr>\n",
       "    <tr>\n",
       "      <th>population_group_code</th>\n",
       "      <td>-1.056185e-02</td>\n",
       "      <td>1.050558e-07</td>\n",
       "      <td>0.989494</td>\n",
       "    </tr>\n",
       "    <tr>\n",
       "      <th>offense_code</th>\n",
       "      <td>6.754705e-02</td>\n",
       "      <td>6.783185e-165</td>\n",
       "      <td>1.069881</td>\n",
       "    </tr>\n",
       "    <tr>\n",
       "      <th>offender_age</th>\n",
       "      <td>2.370624e-02</td>\n",
       "      <td>0.000000e+00</td>\n",
       "      <td>1.023989</td>\n",
       "    </tr>\n",
       "    <tr>\n",
       "      <th>victim_type_code</th>\n",
       "      <td>-3.592191e-02</td>\n",
       "      <td>3.251489e-08</td>\n",
       "      <td>0.964716</td>\n",
       "    </tr>\n",
       "    <tr>\n",
       "      <th>location_code</th>\n",
       "      <td>-3.727815e-03</td>\n",
       "      <td>4.833182e-04</td>\n",
       "      <td>0.996279</td>\n",
       "    </tr>\n",
       "    <tr>\n",
       "      <th>prop_desc_code</th>\n",
       "      <td>-5.071064e-03</td>\n",
       "      <td>1.318972e-45</td>\n",
       "      <td>0.994942</td>\n",
       "    </tr>\n",
       "    <tr>\n",
       "      <th>stolen_value</th>\n",
       "      <td>6.293180e-09</td>\n",
       "      <td>2.242061e-01</td>\n",
       "      <td>1.000000</td>\n",
       "    </tr>\n",
       "  </tbody>\n",
       "</table>\n",
       "</div>"
      ],
      "text/plain": [
       "                       coefficients        p-value  odds_ratio\n",
       "const                 -2.273662e+00   0.000000e+00    0.102935\n",
       "population_group_code -1.056185e-02   1.050558e-07    0.989494\n",
       "offense_code           6.754705e-02  6.783185e-165    1.069881\n",
       "offender_age           2.370624e-02   0.000000e+00    1.023989\n",
       "victim_type_code      -3.592191e-02   3.251489e-08    0.964716\n",
       "location_code         -3.727815e-03   4.833182e-04    0.996279\n",
       "prop_desc_code        -5.071064e-03   1.318972e-45    0.994942\n",
       "stolen_value           6.293180e-09   2.242061e-01    1.000000"
      ]
     },
     "execution_count": 58,
     "metadata": {},
     "output_type": "execute_result"
    }
   ],
   "source": [
    "# Fetching the statistics\n",
    "stat_df1=pd.DataFrame({'coefficients':result1.params, 'p-value': result1.pvalues, 'odds_ratio': np.exp(result1.params)})\n",
    "stat_df1"
   ]
  },
  {
   "cell_type": "code",
   "execution_count": 59,
   "metadata": {},
   "outputs": [
    {
     "data": {
      "text/plain": [
       "Index(['population_group_code', 'offense_code', 'offender_age',\n",
       "       'victim_type_code', 'location_code', 'prop_desc_code'],\n",
       "      dtype='object')"
      ]
     },
     "execution_count": 59,
     "metadata": {},
     "output_type": "execute_result"
    }
   ],
   "source": [
    "# Condition for significant parameters\n",
    "significant_params1=stat_df1[stat_df1['p-value']<=0.05].index\n",
    "significant_params1= significant_params1.drop('const')\n",
    "significant_params1"
   ]
  },
  {
   "cell_type": "code",
   "execution_count": 60,
   "metadata": {},
   "outputs": [
    {
     "name": "stdout",
     "output_type": "stream",
     "text": [
      "Total number of parameters: 8 \n"
     ]
    },
    {
     "data": {
      "text/plain": [
       "offense_code             1.069881\n",
       "offender_age             1.023989\n",
       "location_code            0.996279\n",
       "prop_desc_code           0.994942\n",
       "population_group_code    0.989494\n",
       "victim_type_code         0.964716\n",
       "Name: odds_ratio, dtype: float64"
      ]
     },
     "execution_count": 60,
     "metadata": {},
     "output_type": "execute_result"
    }
   ],
   "source": [
    "print('Total number of parameters: %s '%len(X1.keys()) )\n",
    "stat_df1.loc[significant_params1].sort_values('odds_ratio', ascending=False)['odds_ratio']"
   ]
  },
  {
   "cell_type": "code",
   "execution_count": 61,
   "metadata": {},
   "outputs": [
    {
     "data": {
      "text/plain": [
       "LogisticRegression(max_iter=200, random_state=42)"
      ]
     },
     "execution_count": 61,
     "metadata": {},
     "output_type": "execute_result"
    }
   ],
   "source": [
    "# create a logistic regression model with the specified arguments\n",
    "from sklearn.linear_model import LogisticRegression\n",
    "classifier1 = LogisticRegression(solver='lbfgs', max_iter=200, random_state=42)\n",
    "classifier1"
   ]
  },
  {
   "cell_type": "code",
   "execution_count": 62,
   "metadata": {},
   "outputs": [
    {
     "data": {
      "text/plain": [
       "LogisticRegression(max_iter=200, random_state=42)"
      ]
     },
     "execution_count": 62,
     "metadata": {},
     "output_type": "execute_result"
    }
   ],
   "source": [
    "# trained the model with the training data:\n",
    "classifier1.fit(X_train1, y_train1)"
   ]
  },
  {
   "cell_type": "code",
   "execution_count": 63,
   "metadata": {},
   "outputs": [],
   "source": [
    "y_pred1=result1.predict(X_test1)"
   ]
  },
  {
   "cell_type": "code",
   "execution_count": 64,
   "metadata": {},
   "outputs": [],
   "source": [
    "# ROC Curve\n",
    "from sklearn.metrics import roc_auc_score\n",
    "from sklearn.metrics import roc_curve\n",
    "fpr1, tpr1, thresholds1 = roc_curve(y_test1, y_pred1)\n",
    "# To get roc stats in df\n",
    "roc_df1=pd.DataFrame({'thresholds': thresholds1, 'tpr':tpr1, 'fpr':fpr1})"
   ]
  },
  {
   "cell_type": "code",
   "execution_count": 68,
   "metadata": {},
   "outputs": [
    {
     "data": {
      "image/png": "[encoded data removed]",
      "text/plain": [
       "<Figure size 864x576 with 1 Axes>"
      ]
     },
     "metadata": {
      "needs_background": "light"
     },
     "output_type": "display_data"
    }
   ],
   "source": [
    "import matplotlib.pyplot as plt\n",
    "from sklearn.metrics import roc_curve\n",
    "from sklearn.metrics import roc_auc_score\n",
    "# Plotting the ROC curve\n",
    "plt.figure(figsize=(12,8))\n",
    "plt.plot(fpr1, tpr1, label= 'Logistic Regression (Sensitivity = %0.3f )', marker = 'o')\n",
    "plt.plot([0,1], [0,1] , 'r-')\n",
    "plt.xlim(0,1)\n",
    "plt.ylim(0,1.05)\n",
    "plt.xlabel('False Positive Rate')\n",
    "plt.ylabel('True Positive rate')\n",
    "plt.title('Receiver Operating Characteristics')\n",
    "plt.legend(loc='lower right')\n",
    "plt.show()"
   ]
  },
  {
   "cell_type": "code",
   "execution_count": 69,
   "metadata": {},
   "outputs": [],
   "source": [
    "# Converting y into binary. Here 0.5 is the threshold\n",
    "opt_thr=0.5\n",
    "y_pred1=result1.predict(X_test1)\n",
    "y_pred1= np.where(y_pred1>opt_thr,1,0)"
   ]
  },
  {
   "cell_type": "code",
   "execution_count": 70,
   "metadata": {},
   "outputs": [
    {
     "data": {
      "text/html": [
       "<div>\n",
       "<style scoped>\n",
       "    .dataframe tbody tr th:only-of-type {\n",
       "        vertical-align: middle;\n",
       "    }\n",
       "\n",
       "    .dataframe tbody tr th {\n",
       "        vertical-align: top;\n",
       "    }\n",
       "\n",
       "    .dataframe thead th {\n",
       "        text-align: right;\n",
       "    }\n",
       "</style>\n",
       "<table border=\"1\" class=\"dataframe\">\n",
       "  <thead>\n",
       "    <tr style=\"text-align: right;\">\n",
       "      <th></th>\n",
       "      <th>Prediction</th>\n",
       "      <th>Actual</th>\n",
       "    </tr>\n",
       "  </thead>\n",
       "  <tbody>\n",
       "    <tr>\n",
       "      <th>96801</th>\n",
       "      <td>0</td>\n",
       "      <td>0</td>\n",
       "    </tr>\n",
       "    <tr>\n",
       "      <th>29570</th>\n",
       "      <td>0</td>\n",
       "      <td>0</td>\n",
       "    </tr>\n",
       "    <tr>\n",
       "      <th>127632</th>\n",
       "      <td>0</td>\n",
       "      <td>0</td>\n",
       "    </tr>\n",
       "    <tr>\n",
       "      <th>106584</th>\n",
       "      <td>0</td>\n",
       "      <td>0</td>\n",
       "    </tr>\n",
       "    <tr>\n",
       "      <th>149368</th>\n",
       "      <td>0</td>\n",
       "      <td>0</td>\n",
       "    </tr>\n",
       "    <tr>\n",
       "      <th>...</th>\n",
       "      <td>...</td>\n",
       "      <td>...</td>\n",
       "    </tr>\n",
       "    <tr>\n",
       "      <th>111198</th>\n",
       "      <td>0</td>\n",
       "      <td>0</td>\n",
       "    </tr>\n",
       "    <tr>\n",
       "      <th>147789</th>\n",
       "      <td>0</td>\n",
       "      <td>0</td>\n",
       "    </tr>\n",
       "    <tr>\n",
       "      <th>26074</th>\n",
       "      <td>0</td>\n",
       "      <td>0</td>\n",
       "    </tr>\n",
       "    <tr>\n",
       "      <th>145189</th>\n",
       "      <td>0</td>\n",
       "      <td>0</td>\n",
       "    </tr>\n",
       "    <tr>\n",
       "      <th>18868</th>\n",
       "      <td>0</td>\n",
       "      <td>0</td>\n",
       "    </tr>\n",
       "  </tbody>\n",
       "</table>\n",
       "<p>24592 rows × 2 columns</p>\n",
       "</div>"
      ],
      "text/plain": [
       "        Prediction  Actual\n",
       "96801            0       0\n",
       "29570            0       0\n",
       "127632           0       0\n",
       "106584           0       0\n",
       "149368           0       0\n",
       "...            ...     ...\n",
       "111198           0       0\n",
       "147789           0       0\n",
       "26074            0       0\n",
       "145189           0       0\n",
       "18868            0       0\n",
       "\n",
       "[24592 rows x 2 columns]"
      ]
     },
     "execution_count": 70,
     "metadata": {},
     "output_type": "execute_result"
    }
   ],
   "source": [
    "# to create predictions based on X_test.\n",
    "predictions1 = classifier1.predict(X_test1)\n",
    "pd.DataFrame({\"Prediction\": predictions1, \"Actual\": y_test1})"
   ]
  },
  {
   "cell_type": "code",
   "execution_count": 71,
   "metadata": {},
   "outputs": [
    {
     "data": {
      "text/plain": [
       "Text(33.0, 0.5, 'Actual Output')"
      ]
     },
     "execution_count": 71,
     "metadata": {},
     "output_type": "execute_result"
    },
    {
     "data": {
      "image/png": "[encoded data removed]",
      "text/plain": [
       "<Figure size 432x288 with 2 Axes>"
      ]
     },
     "metadata": {
      "needs_background": "light"
     },
     "output_type": "display_data"
    }
   ],
   "source": [
    "# Getting confusion Matrix\n",
    "import seaborn as sns\n",
    "cm1 = confusion_matrix(y_test1, y_pred1)\n",
    "ax1 = sns.heatmap(cm1, annot=True, fmt=\"0\", annot_kws={\"size\":20})\n",
    "plt.xlabel('Predicted Output', fontsize=20)\n",
    "plt.ylabel('Actual Output', fontsize=20)"
   ]
  },
  {
   "cell_type": "code",
   "execution_count": 72,
   "metadata": {},
   "outputs": [
    {
     "data": {
      "text/plain": [
       "0.8594258295380611"
      ]
     },
     "execution_count": 72,
     "metadata": {},
     "output_type": "execute_result"
    }
   ],
   "source": [
    "from sklearn.metrics import accuracy_score\n",
    "accuracy_score(y_test1, predictions1)"
   ]
  },
  {
   "cell_type": "code",
   "execution_count": 73,
   "metadata": {},
   "outputs": [
    {
     "name": "stdout",
     "output_type": "stream",
     "text": [
      "              precision    recall  f1-score   support\n",
      "\n",
      "           0       0.86      1.00      0.92     21135\n",
      "           1       0.16      0.00      0.01      3457\n",
      "\n",
      "    accuracy                           0.86     24592\n",
      "   macro avg       0.51      0.50      0.46     24592\n",
      "weighted avg       0.76      0.86      0.79     24592\n",
      "\n"
     ]
    }
   ],
   "source": [
    "# Classification Report\n",
    "print(classification_report(y_test1, y_pred1))"
   ]
  }
 ],
 "metadata": {
  "file_extension": ".py",
  "kernelspec": {
   "display_name": "Python 3 (ipykernel)",
   "language": "python",
   "name": "python3"
  },
  "language_info": {
   "codemirror_mode": {
    "name": "ipython",
    "version": 3
   },
   "file_extension": ".py",
   "mimetype": "text/x-python",
   "name": "python",
   "nbconvert_exporter": "python",
   "pygments_lexer": "ipython3",
   "version": "3.9.12"
  },
  "latex_envs": {
   "LaTeX_envs_menu_present": true,
   "autoclose": false,
   "autocomplete": true,
   "bibliofile": "biblio.bib",
   "cite_by": "apalike",
   "current_citInitial": 1,
   "eqLabelWithNumbers": true,
   "eqNumInitial": 1,
   "hotkeys": {
    "equation": "Ctrl-E",
    "itemize": "Ctrl-I"
   },
   "labels_anchors": false,
   "latex_user_defs": false,
   "report_style_numbering": false,
   "user_envs_cfg": false
  },
  "mimetype": "text/x-python",
  "name": "python",
  "npconvert_exporter": "python",
  "pygments_lexer": "ipython3",
  "version": 3
 },
 "nbformat": 4,
 "nbformat_minor": 2
}
